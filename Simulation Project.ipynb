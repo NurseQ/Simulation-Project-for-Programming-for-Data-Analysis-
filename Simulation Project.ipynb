{
 "cells": [
  {
   "cell_type": "markdown",
   "metadata": {},
   "source": [
    "# Programming for Data Analysis Project 2018\n",
    "\n",
    "This jupyter notebook contains a project for the course Programming for Data Analysis. This project will attempt to model and synthesize data from a real-world phenomenon. It also investigates the types of variables involved and the relationships of the variables with each other.\n",
    "\n",
    "The phenomenon chosen for this project is based on a research paper [1] to determine the short term risk of death in people following healthcare-related meticillin-resistant Staphylococcus Aureus (MRSA) infection. The research was conducted between 2004 and 2005 from hospital reported cases in England and Wales. The data represents the number of people who are infected with MRSA and grouped across gender, age, and mortality within 7 and 30 days post infection. The research study was careful to point out though that they could not estimate how many deaths were attributable to MRSA. \n",
    "\n",
    "Some notable findings of the study include; \n",
    "* Higher incidence of fatality within seven days post MRSA infection.\n",
    "* Higher incidence of fatality of women within seven days post MRSA infection.\n",
    "* Risk of death increased with age.\n",
    "* A seasonal pattern in case fatality and infection, highest in winter.\n",
    "\n",
    "\n",
    "\n",
    "## References\n",
    "\n",
    "[1]  Lamagni TL, Potz N, Powell D, Pebody R, Wilson J, Duckworth G, Mortality in patients with meticillin-resistant   \n",
    "     Staphylococcus aureus bacteraemia, England 2004-2005. Journal of Hospital Infection, 2010. \n",
    "\n",
    "[2]  Allard C, Carignan A, Bergevin M, et al. Secular changes in incidence and mortality associated with Staphylococcus \n",
    "     aureus bacteraemia in Quebec, Canada, 1991e2005. Clin Microbiol Infect 2008;14:421e428."
   ]
  },
  {
   "cell_type": "code",
   "execution_count": 1,
   "metadata": {},
   "outputs": [],
   "source": [
    "# import the packages to be used in the notebook\n",
    "import pandas as pd\n",
    "import seaborn as sns\n",
    "import numpy as np\n",
    "import matplotlib.pyplot as plt\n"
   ]
  },
  {
   "cell_type": "code",
   "execution_count": 2,
   "metadata": {},
   "outputs": [],
   "source": [
    "# magic command to display plots within the notebook\n",
    "\n",
    "%matplotlib inline"
   ]
  },
  {
   "cell_type": "markdown",
   "metadata": {},
   "source": [
    "### Initial calculations on the data from the research paper. "
   ]
  },
  {
   "cell_type": "code",
   "execution_count": 3,
   "metadata": {},
   "outputs": [],
   "source": [
    "# Data from the study\n",
    "infectedmale = 5575\n",
    "infectedfemale = 3426\n",
    "malemort = 3180\n",
    "femalemort = 2095\n",
    "female_7day_mort = 750\n",
    "male_7day_mort = 1075\n",
    "female_30day_mort = 1345\n",
    "male_30day_mort = 2105\n",
    "mortalityrate = (malemort + femalemort) / (infectedmale + infectedfemale)"
   ]
  },
  {
   "cell_type": "code",
   "execution_count": 4,
   "metadata": {},
   "outputs": [
    {
     "data": {
      "text/plain": [
       "9001"
      ]
     },
     "execution_count": 4,
     "metadata": {},
     "output_type": "execute_result"
    }
   ],
   "source": [
    "totalInfection = infectedmale + infectedfemale\n",
    "totalInfection"
   ]
  },
  {
   "cell_type": "code",
   "execution_count": 5,
   "metadata": {},
   "outputs": [
    {
     "data": {
      "text/plain": [
       "0.5860459948894567"
      ]
     },
     "execution_count": 5,
     "metadata": {},
     "output_type": "execute_result"
    }
   ],
   "source": [
    "mortalityrate"
   ]
  },
  {
   "cell_type": "code",
   "execution_count": 6,
   "metadata": {},
   "outputs": [
    {
     "data": {
      "text/plain": [
       "0.6193756249305633"
      ]
     },
     "execution_count": 6,
     "metadata": {},
     "output_type": "execute_result"
    }
   ],
   "source": [
    "maleInfectionRate = infectedmale / totalInfection\n",
    "maleInfectionRate"
   ]
  },
  {
   "cell_type": "code",
   "execution_count": 7,
   "metadata": {},
   "outputs": [
    {
     "data": {
      "text/plain": [
       "0.38062437506943675"
      ]
     },
     "execution_count": 7,
     "metadata": {},
     "output_type": "execute_result"
    }
   ],
   "source": [
    "femaleInfectionRate = infectedfemale / totalInfection\n",
    "femaleInfectionRate"
   ]
  },
  {
   "cell_type": "code",
   "execution_count": 8,
   "metadata": {},
   "outputs": [
    {
     "data": {
      "text/plain": [
       "5275"
      ]
     },
     "execution_count": 8,
     "metadata": {},
     "output_type": "execute_result"
    }
   ],
   "source": [
    "totalmort = malemort + femalemort\n",
    "totalmort"
   ]
  },
  {
   "cell_type": "markdown",
   "metadata": {},
   "source": [
    "#### There appears to be a higher risk of mortality in females within 7 days post infection. The study has no clear explanation for the phenomenon. This was also the case in a Canadian study [2]."
   ]
  },
  {
   "cell_type": "code",
   "execution_count": 9,
   "metadata": {
    "scrolled": true
   },
   "outputs": [
    {
     "data": {
      "text/plain": [
       "0.19282511210762332"
      ]
     },
     "execution_count": 9,
     "metadata": {},
     "output_type": "execute_result"
    }
   ],
   "source": [
    "ratio_male7daymort = male_7day_mort /infectedmale\n",
    "ratio_male7daymort"
   ]
  },
  {
   "cell_type": "code",
   "execution_count": 10,
   "metadata": {},
   "outputs": [
    {
     "data": {
      "text/plain": [
       "0.21891418563922943"
      ]
     },
     "execution_count": 10,
     "metadata": {},
     "output_type": "execute_result"
    }
   ],
   "source": [
    "ratio_female7daymort = female_7day_mort/infectedfemale\n",
    "ratio_female7daymort"
   ]
  },
  {
   "cell_type": "code",
   "execution_count": 11,
   "metadata": {},
   "outputs": [
    {
     "data": {
      "text/plain": [
       "0.410958904109589"
      ]
     },
     "execution_count": 11,
     "metadata": {},
     "output_type": "execute_result"
    }
   ],
   "source": [
    "rate_7dayF =  female_7day_mort / ( male_7day_mort + female_7day_mort)\n",
    "rate_7dayF"
   ]
  },
  {
   "cell_type": "code",
   "execution_count": 12,
   "metadata": {},
   "outputs": [
    {
     "data": {
      "text/plain": [
       "0.589041095890411"
      ]
     },
     "execution_count": 12,
     "metadata": {},
     "output_type": "execute_result"
    }
   ],
   "source": [
    "rate_7dayM =  male_7day_mort / ( male_7day_mort + female_7day_mort)\n",
    "rate_7dayM"
   ]
  },
  {
   "cell_type": "code",
   "execution_count": 13,
   "metadata": {},
   "outputs": [
    {
     "data": {
      "text/plain": [
       "0.3898550724637681"
      ]
     },
     "execution_count": 13,
     "metadata": {},
     "output_type": "execute_result"
    }
   ],
   "source": [
    "rate_30dayF =  female_30day_mort / ( male_30day_mort + female_30day_mort)\n",
    "rate_30dayF"
   ]
  },
  {
   "cell_type": "code",
   "execution_count": 14,
   "metadata": {},
   "outputs": [
    {
     "data": {
      "text/plain": [
       "0.6101449275362318"
      ]
     },
     "execution_count": 14,
     "metadata": {},
     "output_type": "execute_result"
    }
   ],
   "source": [
    "rate_7dayM =  male_30day_mort / ( male_30day_mort + female_30day_mort)\n",
    "rate_7dayM"
   ]
  },
  {
   "cell_type": "markdown",
   "metadata": {},
   "source": [
    "####  There is no significant increased risk of mortality in females than males within 30 days post infection in the study."
   ]
  },
  {
   "cell_type": "code",
   "execution_count": 15,
   "metadata": {},
   "outputs": [
    {
     "data": {
      "text/plain": [
       "0.3775784753363229"
      ]
     },
     "execution_count": 15,
     "metadata": {},
     "output_type": "execute_result"
    }
   ],
   "source": [
    "ratio_male30daymort = male_30day_mort/infectedmale\n",
    "ratio_male30daymort"
   ]
  },
  {
   "cell_type": "code",
   "execution_count": 16,
   "metadata": {},
   "outputs": [
    {
     "data": {
      "text/plain": [
       "0.39258610624635143"
      ]
     },
     "execution_count": 16,
     "metadata": {},
     "output_type": "execute_result"
    }
   ],
   "source": [
    "ratio_female30daymort = female_30day_mort/infectedfemale\n",
    "ratio_female30daymort"
   ]
  },
  {
   "cell_type": "markdown",
   "metadata": {},
   "source": [
    "#### Overall expected mortality ratios "
   ]
  },
  {
   "cell_type": "code",
   "execution_count": 17,
   "metadata": {},
   "outputs": [
    {
     "data": {
      "text/plain": [
       "3267.206421508721"
      ]
     },
     "execution_count": 17,
     "metadata": {},
     "output_type": "execute_result"
    }
   ],
   "source": [
    "# The study finds lower mortality in men overall than women rather than the expected mortality numbers.\n",
    "expectedmalemort = infectedmale * mortalityrate\n",
    "expectedmalemort"
   ]
  },
  {
   "cell_type": "code",
   "execution_count": 18,
   "metadata": {},
   "outputs": [
    {
     "data": {
      "text/plain": [
       "2007.7935784912788"
      ]
     },
     "execution_count": 18,
     "metadata": {},
     "output_type": "execute_result"
    }
   ],
   "source": [
    "expectedfemalemort = infectedfemale * mortalityrate\n",
    "expectedfemalemort"
   ]
  },
  {
   "cell_type": "markdown",
   "metadata": {},
   "source": [
    "### DataFrame created from the data of the study showing the number of infections per month, and mortality within 7 and 30 days of infection."
   ]
  },
  {
   "cell_type": "code",
   "execution_count": 19,
   "metadata": {},
   "outputs": [],
   "source": [
    "monthlymort = pd.DataFrame({'Month': ['Jan', 'Feb', 'Mar', 'Apr', 'May', 'Jun', 'Jul', 'Aug', 'Sep', 'Oct', 'Nov', 'Dec'], \"MRSA infection\": (872, 758, 808, 789, 757, 741, 785, 731, 650, 681,708, 721),\"7 day mortality\": (207, 176, 184, 162, 148, 143, 147, 123, 115, 133, 139, 148), \"30 day mortality\": (385, 318, 332, 299, 287, 292, 281, 235, 231, 259, 253, 278)})"
   ]
  },
  {
   "cell_type": "code",
   "execution_count": 20,
   "metadata": {
    "scrolled": true
   },
   "outputs": [
    {
     "data": {
      "text/html": [
       "<div>\n",
       "<style scoped>\n",
       "    .dataframe tbody tr th:only-of-type {\n",
       "        vertical-align: middle;\n",
       "    }\n",
       "\n",
       "    .dataframe tbody tr th {\n",
       "        vertical-align: top;\n",
       "    }\n",
       "\n",
       "    .dataframe thead th {\n",
       "        text-align: right;\n",
       "    }\n",
       "</style>\n",
       "<table border=\"1\" class=\"dataframe\">\n",
       "  <thead>\n",
       "    <tr style=\"text-align: right;\">\n",
       "      <th></th>\n",
       "      <th>Month</th>\n",
       "      <th>MRSA infection</th>\n",
       "      <th>7 day mortality</th>\n",
       "      <th>30 day mortality</th>\n",
       "      <th>monthly_M_Infection</th>\n",
       "      <th>monthly_F_Infection</th>\n",
       "      <th>Male_mort_7day</th>\n",
       "      <th>Female_mort_7day</th>\n",
       "      <th>Male_mort_30day</th>\n",
       "      <th>Female_mort_30day</th>\n",
       "    </tr>\n",
       "  </thead>\n",
       "  <tbody>\n",
       "    <tr>\n",
       "      <th>0</th>\n",
       "      <td>Jan</td>\n",
       "      <td>872</td>\n",
       "      <td>207</td>\n",
       "      <td>385</td>\n",
       "      <td>540.0</td>\n",
       "      <td>332.0</td>\n",
       "      <td>104.0</td>\n",
       "      <td>73.0</td>\n",
       "      <td>204.0</td>\n",
       "      <td>130.0</td>\n",
       "    </tr>\n",
       "    <tr>\n",
       "      <th>1</th>\n",
       "      <td>Feb</td>\n",
       "      <td>758</td>\n",
       "      <td>176</td>\n",
       "      <td>318</td>\n",
       "      <td>469.0</td>\n",
       "      <td>289.0</td>\n",
       "      <td>91.0</td>\n",
       "      <td>63.0</td>\n",
       "      <td>177.0</td>\n",
       "      <td>113.0</td>\n",
       "    </tr>\n",
       "    <tr>\n",
       "      <th>2</th>\n",
       "      <td>Mar</td>\n",
       "      <td>808</td>\n",
       "      <td>184</td>\n",
       "      <td>332</td>\n",
       "      <td>500.0</td>\n",
       "      <td>308.0</td>\n",
       "      <td>97.0</td>\n",
       "      <td>67.0</td>\n",
       "      <td>189.0</td>\n",
       "      <td>121.0</td>\n",
       "    </tr>\n",
       "    <tr>\n",
       "      <th>3</th>\n",
       "      <td>Apr</td>\n",
       "      <td>789</td>\n",
       "      <td>162</td>\n",
       "      <td>299</td>\n",
       "      <td>489.0</td>\n",
       "      <td>300.0</td>\n",
       "      <td>94.0</td>\n",
       "      <td>66.0</td>\n",
       "      <td>185.0</td>\n",
       "      <td>118.0</td>\n",
       "    </tr>\n",
       "    <tr>\n",
       "      <th>4</th>\n",
       "      <td>May</td>\n",
       "      <td>757</td>\n",
       "      <td>148</td>\n",
       "      <td>287</td>\n",
       "      <td>469.0</td>\n",
       "      <td>288.0</td>\n",
       "      <td>90.0</td>\n",
       "      <td>63.0</td>\n",
       "      <td>177.0</td>\n",
       "      <td>113.0</td>\n",
       "    </tr>\n",
       "    <tr>\n",
       "      <th>5</th>\n",
       "      <td>Jun</td>\n",
       "      <td>741</td>\n",
       "      <td>143</td>\n",
       "      <td>292</td>\n",
       "      <td>459.0</td>\n",
       "      <td>282.0</td>\n",
       "      <td>88.0</td>\n",
       "      <td>62.0</td>\n",
       "      <td>173.0</td>\n",
       "      <td>111.0</td>\n",
       "    </tr>\n",
       "    <tr>\n",
       "      <th>6</th>\n",
       "      <td>Jul</td>\n",
       "      <td>785</td>\n",
       "      <td>147</td>\n",
       "      <td>281</td>\n",
       "      <td>486.0</td>\n",
       "      <td>299.0</td>\n",
       "      <td>94.0</td>\n",
       "      <td>65.0</td>\n",
       "      <td>184.0</td>\n",
       "      <td>117.0</td>\n",
       "    </tr>\n",
       "    <tr>\n",
       "      <th>7</th>\n",
       "      <td>Aug</td>\n",
       "      <td>731</td>\n",
       "      <td>123</td>\n",
       "      <td>235</td>\n",
       "      <td>453.0</td>\n",
       "      <td>278.0</td>\n",
       "      <td>87.0</td>\n",
       "      <td>61.0</td>\n",
       "      <td>171.0</td>\n",
       "      <td>109.0</td>\n",
       "    </tr>\n",
       "    <tr>\n",
       "      <th>8</th>\n",
       "      <td>Sep</td>\n",
       "      <td>650</td>\n",
       "      <td>115</td>\n",
       "      <td>231</td>\n",
       "      <td>403.0</td>\n",
       "      <td>247.0</td>\n",
       "      <td>78.0</td>\n",
       "      <td>54.0</td>\n",
       "      <td>152.0</td>\n",
       "      <td>97.0</td>\n",
       "    </tr>\n",
       "    <tr>\n",
       "      <th>9</th>\n",
       "      <td>Oct</td>\n",
       "      <td>681</td>\n",
       "      <td>133</td>\n",
       "      <td>259</td>\n",
       "      <td>422.0</td>\n",
       "      <td>259.0</td>\n",
       "      <td>81.0</td>\n",
       "      <td>57.0</td>\n",
       "      <td>159.0</td>\n",
       "      <td>102.0</td>\n",
       "    </tr>\n",
       "    <tr>\n",
       "      <th>10</th>\n",
       "      <td>Nov</td>\n",
       "      <td>708</td>\n",
       "      <td>139</td>\n",
       "      <td>253</td>\n",
       "      <td>439.0</td>\n",
       "      <td>269.0</td>\n",
       "      <td>85.0</td>\n",
       "      <td>59.0</td>\n",
       "      <td>166.0</td>\n",
       "      <td>106.0</td>\n",
       "    </tr>\n",
       "    <tr>\n",
       "      <th>11</th>\n",
       "      <td>Dec</td>\n",
       "      <td>721</td>\n",
       "      <td>148</td>\n",
       "      <td>278</td>\n",
       "      <td>447.0</td>\n",
       "      <td>274.0</td>\n",
       "      <td>86.0</td>\n",
       "      <td>60.0</td>\n",
       "      <td>169.0</td>\n",
       "      <td>108.0</td>\n",
       "    </tr>\n",
       "  </tbody>\n",
       "</table>\n",
       "</div>"
      ],
      "text/plain": [
       "   Month  MRSA infection  7 day mortality  30 day mortality  \\\n",
       "0    Jan             872              207               385   \n",
       "1    Feb             758              176               318   \n",
       "2    Mar             808              184               332   \n",
       "3    Apr             789              162               299   \n",
       "4    May             757              148               287   \n",
       "5    Jun             741              143               292   \n",
       "6    Jul             785              147               281   \n",
       "7    Aug             731              123               235   \n",
       "8    Sep             650              115               231   \n",
       "9    Oct             681              133               259   \n",
       "10   Nov             708              139               253   \n",
       "11   Dec             721              148               278   \n",
       "\n",
       "    monthly_M_Infection  monthly_F_Infection  Male_mort_7day  \\\n",
       "0                 540.0                332.0           104.0   \n",
       "1                 469.0                289.0            91.0   \n",
       "2                 500.0                308.0            97.0   \n",
       "3                 489.0                300.0            94.0   \n",
       "4                 469.0                288.0            90.0   \n",
       "5                 459.0                282.0            88.0   \n",
       "6                 486.0                299.0            94.0   \n",
       "7                 453.0                278.0            87.0   \n",
       "8                 403.0                247.0            78.0   \n",
       "9                 422.0                259.0            81.0   \n",
       "10                439.0                269.0            85.0   \n",
       "11                447.0                274.0            86.0   \n",
       "\n",
       "    Female_mort_7day  Male_mort_30day  Female_mort_30day  \n",
       "0               73.0            204.0              130.0  \n",
       "1               63.0            177.0              113.0  \n",
       "2               67.0            189.0              121.0  \n",
       "3               66.0            185.0              118.0  \n",
       "4               63.0            177.0              113.0  \n",
       "5               62.0            173.0              111.0  \n",
       "6               65.0            184.0              117.0  \n",
       "7               61.0            171.0              109.0  \n",
       "8               54.0            152.0               97.0  \n",
       "9               57.0            159.0              102.0  \n",
       "10              59.0            166.0              106.0  \n",
       "11              60.0            169.0              108.0  "
      ]
     },
     "execution_count": 20,
     "metadata": {},
     "output_type": "execute_result"
    }
   ],
   "source": [
    "# Include in the DataFrame probable division of MRSA infection, 7 day mortality and 30 day mortality between gender. \n",
    "\n",
    "monthlymort['monthly_M_Infection'] = monthlymort['MRSA infection'] * maleInfectionRate\n",
    "monthlymort['monthly_F_Infection'] = monthlymort['MRSA infection'] * femaleInfectionRate\n",
    "monthlymort['Male_mort_7day'] = monthlymort['monthly_M_Infection'] * ratio_male7daymort\n",
    "monthlymort['Female_mort_7day'] = monthlymort['monthly_F_Infection'] * ratio_female7daymort\n",
    "monthlymort['Male_mort_30day'] = monthlymort['monthly_M_Infection'] * ratio_male30daymort\n",
    "monthlymort['Female_mort_30day'] = monthlymort['monthly_F_Infection'] * ratio_female30daymort\n",
    "\n",
    "# round method just for readability, not reliability.\n",
    "round(monthlymort,)"
   ]
  },
  {
   "cell_type": "code",
   "execution_count": 21,
   "metadata": {
    "scrolled": true
   },
   "outputs": [
    {
     "data": {
      "text/plain": [
       "Month                  JanFebMarAprMayJunJulAugSepOctNovDec\n",
       "MRSA infection                                         9001\n",
       "7 day mortality                                        1825\n",
       "30 day mortality                                       3450\n",
       "monthly_M_Infection                                    5575\n",
       "monthly_F_Infection                                    3426\n",
       "Male_mort_7day                                         1075\n",
       "Female_mort_7day                                        750\n",
       "Male_mort_30day                                        2105\n",
       "Female_mort_30day                                      1345\n",
       "dtype: object"
      ]
     },
     "execution_count": 21,
     "metadata": {},
     "output_type": "execute_result"
    }
   ],
   "source": [
    "# Add up the variables \n",
    "monthlymort.sum()"
   ]
  },
  {
   "cell_type": "markdown",
   "metadata": {},
   "source": [
    "#### The line plot below shows a trend that follow an increasing number of infection and mortality during winter that decreases towards summer, then climb back up again heading into winter. "
   ]
  },
  {
   "cell_type": "code",
   "execution_count": 22,
   "metadata": {
    "scrolled": true
   },
   "outputs": [
    {
     "data": {
      "text/plain": [
       "(10, 8)"
      ]
     },
     "execution_count": 22,
     "metadata": {},
     "output_type": "execute_result"
    },
    {
     "data": {
      "image/png": "[encoded data removed]",
      "text/plain": [
       "<Figure size 432x288 with 1 Axes>"
      ]
     },
     "metadata": {},
     "output_type": "display_data"
    }
   ],
   "source": [
    "# line plot to visualize relationship of the time of year to infection and mortality counts. \n",
    "ax = monthlymort.plot()\n",
    "ax.set_xticks(monthlymort.index)\n",
    "ax.set_xticklabels(monthlymort.Month)\n",
    "\n",
    "# Increase the area of the plot\n",
    "ax = plt.rcParams['figure.figsize'] = (10, 8)\n",
    "ax"
   ]
  },
  {
   "cell_type": "markdown",
   "metadata": {},
   "source": [
    "#### The plots below indicate a positive relationship between the variables."
   ]
  },
  {
   "cell_type": "code",
   "execution_count": 23,
   "metadata": {
    "scrolled": true
   },
   "outputs": [
    {
     "data": {
      "text/plain": [
       "<seaborn.axisgrid.FacetGrid at 0x20920bd5ef0>"
      ]
     },
     "execution_count": 23,
     "metadata": {},
     "output_type": "execute_result"
    },
    {
     "data": {
      "image/png": "[encoded data removed]",
      "text/plain": [
       "<Figure size 360x360 with 1 Axes>"
      ]
     },
     "metadata": {},
     "output_type": "display_data"
    }
   ],
   "source": [
    "sns.lmplot(x=\"monthly_M_Infection\", y=\"monthly_F_Infection\", data=monthlymort)"
   ]
  },
  {
   "cell_type": "code",
   "execution_count": 24,
   "metadata": {
    "scrolled": false
   },
   "outputs": [
    {
     "data": {
      "text/plain": [
       "<seaborn.axisgrid.FacetGrid at 0x20920bd5c50>"
      ]
     },
     "execution_count": 24,
     "metadata": {},
     "output_type": "execute_result"
    },
    {
     "data": {
      "image/png": "[encoded data removed]",
      "text/plain": [
       "<Figure size 360x360 with 1 Axes>"
      ]
     },
     "metadata": {},
     "output_type": "display_data"
    }
   ],
   "source": [
    "sns.lmplot(y=\"7 day mortality\", x=\"30 day mortality\", data=monthlymort)"
   ]
  },
  {
   "cell_type": "code",
   "execution_count": 25,
   "metadata": {
    "scrolled": true
   },
   "outputs": [
    {
     "data": {
      "text/plain": [
       "<seaborn.axisgrid.FacetGrid at 0x209220d1eb8>"
      ]
     },
     "execution_count": 25,
     "metadata": {},
     "output_type": "execute_result"
    },
    {
     "data": {
      "image/png": "[encoded data removed]",
      "text/plain": [
       "<Figure size 360x360 with 1 Axes>"
      ]
     },
     "metadata": {},
     "output_type": "display_data"
    }
   ],
   "source": [
    "sns.lmplot(x = \"MRSA infection\", y = \"7 day mortality\", data = monthlymort)"
   ]
  },
  {
   "cell_type": "code",
   "execution_count": 26,
   "metadata": {
    "scrolled": false
   },
   "outputs": [
    {
     "data": {
      "text/plain": [
       "<seaborn.axisgrid.FacetGrid at 0x20922174588>"
      ]
     },
     "execution_count": 26,
     "metadata": {},
     "output_type": "execute_result"
    },
    {
     "data": {
      "image/png": "[encoded data removed]",
      "text/plain": [
       "<Figure size 360x360 with 1 Axes>"
      ]
     },
     "metadata": {},
     "output_type": "display_data"
    }
   ],
   "source": [
    "sns.lmplot(x = \"MRSA infection\", y = \"30 day mortality\", data = monthlymort)"
   ]
  },
  {
   "cell_type": "code",
   "execution_count": 27,
   "metadata": {
    "scrolled": true
   },
   "outputs": [
    {
     "data": {
      "text/plain": [
       "Month                  JanFebMarAprMayJunJulAugSepOctNovDec\n",
       "MRSA infection                                         9001\n",
       "7 day mortality                                        1825\n",
       "30 day mortality                                       3450\n",
       "monthly_M_Infection                                    5575\n",
       "monthly_F_Infection                                    3426\n",
       "Male_mort_7day                                         1075\n",
       "Female_mort_7day                                        750\n",
       "Male_mort_30day                                        2105\n",
       "Female_mort_30day                                      1345\n",
       "dtype: object"
      ]
     },
     "execution_count": 27,
     "metadata": {},
     "output_type": "execute_result"
    }
   ],
   "source": [
    "# add up all the variables.\n",
    "monthlymort.sum()"
   ]
  },
  {
   "cell_type": "code",
   "execution_count": 58,
   "metadata": {},
   "outputs": [],
   "source": [
    "# Create a dataframe for \n",
    "dateRng = pd.date_range(start='1/1/2004', end='12/30/2004')\n"
   ]
  },
  {
   "cell_type": "code",
   "execution_count": 59,
   "metadata": {
    "scrolled": true
   },
   "outputs": [
    {
     "data": {
      "text/html": [
       "<div>\n",
       "<style scoped>\n",
       "    .dataframe tbody tr th:only-of-type {\n",
       "        vertical-align: middle;\n",
       "    }\n",
       "\n",
       "    .dataframe tbody tr th {\n",
       "        vertical-align: top;\n",
       "    }\n",
       "\n",
       "    .dataframe thead th {\n",
       "        text-align: right;\n",
       "    }\n",
       "</style>\n",
       "<table border=\"1\" class=\"dataframe\">\n",
       "  <thead>\n",
       "    <tr style=\"text-align: right;\">\n",
       "      <th></th>\n",
       "      <th>Male Mortality</th>\n",
       "    </tr>\n",
       "  </thead>\n",
       "  <tbody>\n",
       "    <tr>\n",
       "      <th>2004-01-01</th>\n",
       "      <td>16</td>\n",
       "    </tr>\n",
       "    <tr>\n",
       "      <th>2004-01-02</th>\n",
       "      <td>14</td>\n",
       "    </tr>\n",
       "    <tr>\n",
       "      <th>2004-01-03</th>\n",
       "      <td>20</td>\n",
       "    </tr>\n",
       "    <tr>\n",
       "      <th>2004-01-04</th>\n",
       "      <td>16</td>\n",
       "    </tr>\n",
       "    <tr>\n",
       "      <th>2004-01-05</th>\n",
       "      <td>15</td>\n",
       "    </tr>\n",
       "    <tr>\n",
       "      <th>2004-01-06</th>\n",
       "      <td>10</td>\n",
       "    </tr>\n",
       "    <tr>\n",
       "      <th>2004-01-07</th>\n",
       "      <td>13</td>\n",
       "    </tr>\n",
       "    <tr>\n",
       "      <th>2004-01-08</th>\n",
       "      <td>13</td>\n",
       "    </tr>\n",
       "    <tr>\n",
       "      <th>2004-01-09</th>\n",
       "      <td>12</td>\n",
       "    </tr>\n",
       "    <tr>\n",
       "      <th>2004-01-10</th>\n",
       "      <td>16</td>\n",
       "    </tr>\n",
       "    <tr>\n",
       "      <th>2004-01-11</th>\n",
       "      <td>16</td>\n",
       "    </tr>\n",
       "    <tr>\n",
       "      <th>2004-01-12</th>\n",
       "      <td>13</td>\n",
       "    </tr>\n",
       "    <tr>\n",
       "      <th>2004-01-13</th>\n",
       "      <td>17</td>\n",
       "    </tr>\n",
       "    <tr>\n",
       "      <th>2004-01-14</th>\n",
       "      <td>13</td>\n",
       "    </tr>\n",
       "    <tr>\n",
       "      <th>2004-01-15</th>\n",
       "      <td>13</td>\n",
       "    </tr>\n",
       "    <tr>\n",
       "      <th>2004-01-16</th>\n",
       "      <td>17</td>\n",
       "    </tr>\n",
       "    <tr>\n",
       "      <th>2004-01-17</th>\n",
       "      <td>14</td>\n",
       "    </tr>\n",
       "    <tr>\n",
       "      <th>2004-01-18</th>\n",
       "      <td>19</td>\n",
       "    </tr>\n",
       "    <tr>\n",
       "      <th>2004-01-19</th>\n",
       "      <td>16</td>\n",
       "    </tr>\n",
       "    <tr>\n",
       "      <th>2004-01-20</th>\n",
       "      <td>12</td>\n",
       "    </tr>\n",
       "    <tr>\n",
       "      <th>2004-01-21</th>\n",
       "      <td>15</td>\n",
       "    </tr>\n",
       "    <tr>\n",
       "      <th>2004-01-22</th>\n",
       "      <td>12</td>\n",
       "    </tr>\n",
       "    <tr>\n",
       "      <th>2004-01-23</th>\n",
       "      <td>15</td>\n",
       "    </tr>\n",
       "    <tr>\n",
       "      <th>2004-01-24</th>\n",
       "      <td>17</td>\n",
       "    </tr>\n",
       "    <tr>\n",
       "      <th>2004-01-25</th>\n",
       "      <td>11</td>\n",
       "    </tr>\n",
       "    <tr>\n",
       "      <th>2004-01-26</th>\n",
       "      <td>15</td>\n",
       "    </tr>\n",
       "    <tr>\n",
       "      <th>2004-01-27</th>\n",
       "      <td>18</td>\n",
       "    </tr>\n",
       "    <tr>\n",
       "      <th>2004-01-28</th>\n",
       "      <td>15</td>\n",
       "    </tr>\n",
       "    <tr>\n",
       "      <th>2004-01-29</th>\n",
       "      <td>15</td>\n",
       "    </tr>\n",
       "    <tr>\n",
       "      <th>2004-01-30</th>\n",
       "      <td>17</td>\n",
       "    </tr>\n",
       "    <tr>\n",
       "      <th>...</th>\n",
       "      <td>...</td>\n",
       "    </tr>\n",
       "    <tr>\n",
       "      <th>2004-12-01</th>\n",
       "      <td>17</td>\n",
       "    </tr>\n",
       "    <tr>\n",
       "      <th>2004-12-02</th>\n",
       "      <td>16</td>\n",
       "    </tr>\n",
       "    <tr>\n",
       "      <th>2004-12-03</th>\n",
       "      <td>15</td>\n",
       "    </tr>\n",
       "    <tr>\n",
       "      <th>2004-12-04</th>\n",
       "      <td>16</td>\n",
       "    </tr>\n",
       "    <tr>\n",
       "      <th>2004-12-05</th>\n",
       "      <td>16</td>\n",
       "    </tr>\n",
       "    <tr>\n",
       "      <th>2004-12-06</th>\n",
       "      <td>14</td>\n",
       "    </tr>\n",
       "    <tr>\n",
       "      <th>2004-12-07</th>\n",
       "      <td>12</td>\n",
       "    </tr>\n",
       "    <tr>\n",
       "      <th>2004-12-08</th>\n",
       "      <td>15</td>\n",
       "    </tr>\n",
       "    <tr>\n",
       "      <th>2004-12-09</th>\n",
       "      <td>17</td>\n",
       "    </tr>\n",
       "    <tr>\n",
       "      <th>2004-12-10</th>\n",
       "      <td>17</td>\n",
       "    </tr>\n",
       "    <tr>\n",
       "      <th>2004-12-11</th>\n",
       "      <td>23</td>\n",
       "    </tr>\n",
       "    <tr>\n",
       "      <th>2004-12-12</th>\n",
       "      <td>16</td>\n",
       "    </tr>\n",
       "    <tr>\n",
       "      <th>2004-12-13</th>\n",
       "      <td>14</td>\n",
       "    </tr>\n",
       "    <tr>\n",
       "      <th>2004-12-14</th>\n",
       "      <td>15</td>\n",
       "    </tr>\n",
       "    <tr>\n",
       "      <th>2004-12-15</th>\n",
       "      <td>17</td>\n",
       "    </tr>\n",
       "    <tr>\n",
       "      <th>2004-12-16</th>\n",
       "      <td>16</td>\n",
       "    </tr>\n",
       "    <tr>\n",
       "      <th>2004-12-17</th>\n",
       "      <td>15</td>\n",
       "    </tr>\n",
       "    <tr>\n",
       "      <th>2004-12-18</th>\n",
       "      <td>15</td>\n",
       "    </tr>\n",
       "    <tr>\n",
       "      <th>2004-12-19</th>\n",
       "      <td>16</td>\n",
       "    </tr>\n",
       "    <tr>\n",
       "      <th>2004-12-20</th>\n",
       "      <td>15</td>\n",
       "    </tr>\n",
       "    <tr>\n",
       "      <th>2004-12-21</th>\n",
       "      <td>17</td>\n",
       "    </tr>\n",
       "    <tr>\n",
       "      <th>2004-12-22</th>\n",
       "      <td>10</td>\n",
       "    </tr>\n",
       "    <tr>\n",
       "      <th>2004-12-23</th>\n",
       "      <td>16</td>\n",
       "    </tr>\n",
       "    <tr>\n",
       "      <th>2004-12-24</th>\n",
       "      <td>17</td>\n",
       "    </tr>\n",
       "    <tr>\n",
       "      <th>2004-12-25</th>\n",
       "      <td>18</td>\n",
       "    </tr>\n",
       "    <tr>\n",
       "      <th>2004-12-26</th>\n",
       "      <td>20</td>\n",
       "    </tr>\n",
       "    <tr>\n",
       "      <th>2004-12-27</th>\n",
       "      <td>16</td>\n",
       "    </tr>\n",
       "    <tr>\n",
       "      <th>2004-12-28</th>\n",
       "      <td>13</td>\n",
       "    </tr>\n",
       "    <tr>\n",
       "      <th>2004-12-29</th>\n",
       "      <td>15</td>\n",
       "    </tr>\n",
       "    <tr>\n",
       "      <th>2004-12-30</th>\n",
       "      <td>15</td>\n",
       "    </tr>\n",
       "  </tbody>\n",
       "</table>\n",
       "<p>365 rows × 1 columns</p>\n",
       "</div>"
      ],
      "text/plain": [
       "            Male Mortality\n",
       "2004-01-01              16\n",
       "2004-01-02              14\n",
       "2004-01-03              20\n",
       "2004-01-04              16\n",
       "2004-01-05              15\n",
       "2004-01-06              10\n",
       "2004-01-07              13\n",
       "2004-01-08              13\n",
       "2004-01-09              12\n",
       "2004-01-10              16\n",
       "2004-01-11              16\n",
       "2004-01-12              13\n",
       "2004-01-13              17\n",
       "2004-01-14              13\n",
       "2004-01-15              13\n",
       "2004-01-16              17\n",
       "2004-01-17              14\n",
       "2004-01-18              19\n",
       "2004-01-19              16\n",
       "2004-01-20              12\n",
       "2004-01-21              15\n",
       "2004-01-22              12\n",
       "2004-01-23              15\n",
       "2004-01-24              17\n",
       "2004-01-25              11\n",
       "2004-01-26              15\n",
       "2004-01-27              18\n",
       "2004-01-28              15\n",
       "2004-01-29              15\n",
       "2004-01-30              17\n",
       "...                    ...\n",
       "2004-12-01              17\n",
       "2004-12-02              16\n",
       "2004-12-03              15\n",
       "2004-12-04              16\n",
       "2004-12-05              16\n",
       "2004-12-06              14\n",
       "2004-12-07              12\n",
       "2004-12-08              15\n",
       "2004-12-09              17\n",
       "2004-12-10              17\n",
       "2004-12-11              23\n",
       "2004-12-12              16\n",
       "2004-12-13              14\n",
       "2004-12-14              15\n",
       "2004-12-15              17\n",
       "2004-12-16              16\n",
       "2004-12-17              15\n",
       "2004-12-18              15\n",
       "2004-12-19              16\n",
       "2004-12-20              15\n",
       "2004-12-21              17\n",
       "2004-12-22              10\n",
       "2004-12-23              16\n",
       "2004-12-24              17\n",
       "2004-12-25              18\n",
       "2004-12-26              20\n",
       "2004-12-27              16\n",
       "2004-12-28              13\n",
       "2004-12-29              15\n",
       "2004-12-30              15\n",
       "\n",
       "[365 rows x 1 columns]"
      ]
     },
     "execution_count": 59,
     "metadata": {},
     "output_type": "execute_result"
    }
   ],
   "source": [
    "mrsaYear = pd.DataFrame(np.random.binomial(25,.62,len(dateRng)), index=dateRng, columns = ['Male Mortality'])\n",
    "mrsaYear"
   ]
  },
  {
   "cell_type": "markdown",
   "metadata": {},
   "source": [
    "#### Simulate the data for the each month in the 2004. "
   ]
  },
  {
   "cell_type": "code",
   "execution_count": 31,
   "metadata": {
    "scrolled": true
   },
   "outputs": [],
   "source": [
    "# Simulate the data for each month divided into days \n",
    "# The parameters of random.binomial was produced individually for each month. This was in the hope of reproducing the trend of higher incidence during winter and lower during summer.\n",
    "# example M_infection below, \n",
    "# 28 was taken from total infection/no. days in a given month, then rounded. Although random.binomial will truncate it anyway.\n",
    "# .62 is maleInfectionRate\n",
    "# 31 is the number of days\n",
    "jan = pd.DataFrame({'M_infection':np.random.binomial(28, .62, 31), 'F_infection': np.random.binomial(28, .38, 31), 'M_7dayMort': np.random.binomial(7, .59, 31), 'F_7dayMort': np.random.binomial(7, .41, 31), 'M_30dayMort': np.random.binomial(12, .61, 31),  'F_30dayMort': np.random.binomial(12, .39, 31) })\n"
   ]
  },
  {
   "cell_type": "code",
   "execution_count": 33,
   "metadata": {},
   "outputs": [],
   "source": [
    "feb = pd.DataFrame({'M_infection':np.random.binomial(27, .62, 29), 'F_infection': np.random.binomial(27, .38, 29), 'M_7dayMort': np.random.binomial(6, .59, 29), 'F_7dayMort': np.random.binomial(6, .41, 29), 'M_30dayMort': np.random.binomial(11, .61, 29),  'F_30dayMort': np.random.binomial(11, .39, 29) })"
   ]
  },
  {
   "cell_type": "code",
   "execution_count": 34,
   "metadata": {},
   "outputs": [],
   "source": [
    "mar = pd.DataFrame({'M_infection':np.random.binomial(27, .62, 31), 'F_infection': np.random.binomial(27, .38, 31), 'M_7dayMort': np.random.binomial(6, .59, 31), 'F_7dayMort': np.random.binomial(6, .41, 31), 'M_30dayMort': np.random.binomial(11, .61, 31),  'F_30dayMort': np.random.binomial(11, .39, 31) })"
   ]
  },
  {
   "cell_type": "code",
   "execution_count": 35,
   "metadata": {},
   "outputs": [],
   "source": [
    "apr = pd.DataFrame({'M_infection':np.random.binomial(26, .62, 30), 'F_infection': np.random.binomial(26, .38, 30), 'M_7dayMort': np.random.binomial(5, .59, 30), 'F_7dayMort': np.random.binomial(5, .41, 30), 'M_30dayMort': np.random.binomial(10, .61, 30),  'F_30dayMort': np.random.binomial(10, .39, 30) })"
   ]
  },
  {
   "cell_type": "code",
   "execution_count": 36,
   "metadata": {},
   "outputs": [],
   "source": [
    "may = pd.DataFrame({'M_infection':np.random.binomial(24, .62, 31), 'F_infection': np.random.binomial(24, .38, 31), 'M_7dayMort': np.random.binomial(5, .59, 31), 'F_7dayMort': np.random.binomial(5, .41, 31), 'M_30dayMort': np.random.binomial(9, .61, 31),  'F_30dayMort': np.random.binomial(9, .39, 31) })"
   ]
  },
  {
   "cell_type": "code",
   "execution_count": 37,
   "metadata": {},
   "outputs": [],
   "source": [
    "jun = pd.DataFrame({'M_infection':np.random.binomial(25, .62, 30), 'F_infection': np.random.binomial(25, .38, 30), 'M_7dayMort': np.random.binomial(5, .59, 30), 'F_7dayMort': np.random.binomial(5, .41, 30), 'M_30dayMort': np.random.binomial(9, .61, 30),  'F_30dayMort': np.random.binomial(9, .39, 30) })"
   ]
  },
  {
   "cell_type": "code",
   "execution_count": 38,
   "metadata": {},
   "outputs": [],
   "source": [
    "jul = pd.DataFrame({'M_infection':np.random.binomial(25, .62, 31), 'F_infection': np.random.binomial(25, .38, 31), 'M_7dayMort': np.random.binomial(5, .59, 31), 'F_7dayMort': np.random.binomial(5, .41, 31), 'M_30dayMort': np.random.binomial(9, .61, 31),  'F_30dayMort': np.random.binomial(9, .39, 31) })"
   ]
  },
  {
   "cell_type": "code",
   "execution_count": 39,
   "metadata": {},
   "outputs": [],
   "source": [
    "aug = pd.DataFrame({'M_infection':np.random.binomial(24, .62, 31), 'F_infection': np.random.binomial(24, .38, 31), 'M_7dayMort': np.random.binomial(4, .59, 31), 'F_7dayMort': np.random.binomial(4, .41, 31), 'M_30dayMort': np.random.binomial(8, .61, 31),  'F_30dayMort': np.random.binomial(8, .39, 31) })"
   ]
  },
  {
   "cell_type": "code",
   "execution_count": 40,
   "metadata": {},
   "outputs": [],
   "source": [
    "sep = pd.DataFrame({'M_infection':np.random.binomial(21, .62, 30), 'F_infection': np.random.binomial(21, .38, 30), 'M_7dayMort': np.random.binomial(4, .59, 30), 'F_7dayMort': np.random.binomial(4, .41, 30), 'M_30dayMort': np.random.binomial(7, .61, 30),  'F_30dayMort': np.random.binomial(7, .39, 30) })"
   ]
  },
  {
   "cell_type": "code",
   "execution_count": 41,
   "metadata": {},
   "outputs": [],
   "source": [
    "ocr = pd.DataFrame({'M_infection':np.random.binomial(22, .62, 31), 'F_infection': np.random.binomial(22, .38, 31), 'M_7dayMort': np.random.binomial(4, .59, 31), 'F_7dayMort': np.random.binomial(4, .41, 31), 'M_30dayMort': np.random.binomial(8, .61, 31),  'F_30dayMort': np.random.binomial(8, .39, 31) })"
   ]
  },
  {
   "cell_type": "code",
   "execution_count": 42,
   "metadata": {},
   "outputs": [],
   "source": [
    "nov = pd.DataFrame({'M_infection':np.random.binomial(24, .62, 30), 'F_infection': np.random.binomial(24, .38, 30), 'M_7dayMort': np.random.binomial(5, .59, 30), 'F_7dayMort': np.random.binomial(5, .41, 30), 'M_30dayMort': np.random.binomial(8, .61, 30),  'F_30dayMort': np.random.binomial(8, .39, 30) })"
   ]
  },
  {
   "cell_type": "code",
   "execution_count": 43,
   "metadata": {},
   "outputs": [],
   "source": [
    "dec = pd.DataFrame({'M_infection':np.random.binomial(23, .62, 31), 'F_infection': np.random.binomial(23, .38, 31), 'M_7dayMort': np.random.binomial(5, .59, 31), 'F_7dayMort': np.random.binomial(5, .41, 31), 'M_30dayMort': np.random.binomial(9, .61, 31),  'F_30dayMort': np.random.binomial(9, .39, 31) })"
   ]
  },
  {
   "cell_type": "code",
   "execution_count": 63,
   "metadata": {
    "scrolled": true
   },
   "outputs": [
    {
     "data": {
      "text/html": [
       "<div>\n",
       "<style scoped>\n",
       "    .dataframe tbody tr th:only-of-type {\n",
       "        vertical-align: middle;\n",
       "    }\n",
       "\n",
       "    .dataframe tbody tr th {\n",
       "        vertical-align: top;\n",
       "    }\n",
       "\n",
       "    .dataframe thead th {\n",
       "        text-align: right;\n",
       "    }\n",
       "</style>\n",
       "<table border=\"1\" class=\"dataframe\">\n",
       "  <thead>\n",
       "    <tr style=\"text-align: right;\">\n",
       "      <th></th>\n",
       "      <th>M_infection</th>\n",
       "      <th>F_infection</th>\n",
       "      <th>M_7dayMort</th>\n",
       "      <th>F_7dayMort</th>\n",
       "      <th>M_30dayMort</th>\n",
       "      <th>F_30dayMort</th>\n",
       "      <th>month</th>\n",
       "    </tr>\n",
       "  </thead>\n",
       "  <tbody>\n",
       "    <tr>\n",
       "      <th>2004-01-01</th>\n",
       "      <td>15</td>\n",
       "      <td>8</td>\n",
       "      <td>3</td>\n",
       "      <td>3</td>\n",
       "      <td>5</td>\n",
       "      <td>5</td>\n",
       "      <td>January</td>\n",
       "    </tr>\n",
       "    <tr>\n",
       "      <th>2004-01-02</th>\n",
       "      <td>15</td>\n",
       "      <td>12</td>\n",
       "      <td>2</td>\n",
       "      <td>3</td>\n",
       "      <td>7</td>\n",
       "      <td>5</td>\n",
       "      <td>January</td>\n",
       "    </tr>\n",
       "    <tr>\n",
       "      <th>2004-01-03</th>\n",
       "      <td>20</td>\n",
       "      <td>11</td>\n",
       "      <td>2</td>\n",
       "      <td>2</td>\n",
       "      <td>7</td>\n",
       "      <td>5</td>\n",
       "      <td>January</td>\n",
       "    </tr>\n",
       "    <tr>\n",
       "      <th>2004-01-04</th>\n",
       "      <td>12</td>\n",
       "      <td>13</td>\n",
       "      <td>6</td>\n",
       "      <td>3</td>\n",
       "      <td>9</td>\n",
       "      <td>7</td>\n",
       "      <td>January</td>\n",
       "    </tr>\n",
       "    <tr>\n",
       "      <th>2004-01-05</th>\n",
       "      <td>18</td>\n",
       "      <td>12</td>\n",
       "      <td>4</td>\n",
       "      <td>3</td>\n",
       "      <td>6</td>\n",
       "      <td>3</td>\n",
       "      <td>January</td>\n",
       "    </tr>\n",
       "    <tr>\n",
       "      <th>2004-01-06</th>\n",
       "      <td>16</td>\n",
       "      <td>7</td>\n",
       "      <td>4</td>\n",
       "      <td>4</td>\n",
       "      <td>8</td>\n",
       "      <td>8</td>\n",
       "      <td>January</td>\n",
       "    </tr>\n",
       "    <tr>\n",
       "      <th>2004-01-07</th>\n",
       "      <td>18</td>\n",
       "      <td>17</td>\n",
       "      <td>5</td>\n",
       "      <td>2</td>\n",
       "      <td>8</td>\n",
       "      <td>6</td>\n",
       "      <td>January</td>\n",
       "    </tr>\n",
       "    <tr>\n",
       "      <th>2004-01-08</th>\n",
       "      <td>15</td>\n",
       "      <td>12</td>\n",
       "      <td>5</td>\n",
       "      <td>2</td>\n",
       "      <td>8</td>\n",
       "      <td>6</td>\n",
       "      <td>January</td>\n",
       "    </tr>\n",
       "    <tr>\n",
       "      <th>2004-01-09</th>\n",
       "      <td>20</td>\n",
       "      <td>13</td>\n",
       "      <td>5</td>\n",
       "      <td>4</td>\n",
       "      <td>7</td>\n",
       "      <td>8</td>\n",
       "      <td>January</td>\n",
       "    </tr>\n",
       "    <tr>\n",
       "      <th>2004-01-10</th>\n",
       "      <td>21</td>\n",
       "      <td>11</td>\n",
       "      <td>5</td>\n",
       "      <td>3</td>\n",
       "      <td>7</td>\n",
       "      <td>4</td>\n",
       "      <td>January</td>\n",
       "    </tr>\n",
       "    <tr>\n",
       "      <th>2004-01-11</th>\n",
       "      <td>19</td>\n",
       "      <td>11</td>\n",
       "      <td>5</td>\n",
       "      <td>3</td>\n",
       "      <td>9</td>\n",
       "      <td>6</td>\n",
       "      <td>January</td>\n",
       "    </tr>\n",
       "    <tr>\n",
       "      <th>2004-01-12</th>\n",
       "      <td>14</td>\n",
       "      <td>11</td>\n",
       "      <td>4</td>\n",
       "      <td>5</td>\n",
       "      <td>9</td>\n",
       "      <td>5</td>\n",
       "      <td>January</td>\n",
       "    </tr>\n",
       "    <tr>\n",
       "      <th>2004-01-13</th>\n",
       "      <td>18</td>\n",
       "      <td>9</td>\n",
       "      <td>7</td>\n",
       "      <td>4</td>\n",
       "      <td>6</td>\n",
       "      <td>4</td>\n",
       "      <td>January</td>\n",
       "    </tr>\n",
       "    <tr>\n",
       "      <th>2004-01-14</th>\n",
       "      <td>19</td>\n",
       "      <td>18</td>\n",
       "      <td>6</td>\n",
       "      <td>2</td>\n",
       "      <td>7</td>\n",
       "      <td>2</td>\n",
       "      <td>January</td>\n",
       "    </tr>\n",
       "    <tr>\n",
       "      <th>2004-01-15</th>\n",
       "      <td>16</td>\n",
       "      <td>10</td>\n",
       "      <td>7</td>\n",
       "      <td>7</td>\n",
       "      <td>8</td>\n",
       "      <td>5</td>\n",
       "      <td>January</td>\n",
       "    </tr>\n",
       "    <tr>\n",
       "      <th>2004-01-16</th>\n",
       "      <td>22</td>\n",
       "      <td>11</td>\n",
       "      <td>5</td>\n",
       "      <td>3</td>\n",
       "      <td>10</td>\n",
       "      <td>3</td>\n",
       "      <td>January</td>\n",
       "    </tr>\n",
       "    <tr>\n",
       "      <th>2004-01-17</th>\n",
       "      <td>17</td>\n",
       "      <td>10</td>\n",
       "      <td>6</td>\n",
       "      <td>3</td>\n",
       "      <td>7</td>\n",
       "      <td>3</td>\n",
       "      <td>January</td>\n",
       "    </tr>\n",
       "    <tr>\n",
       "      <th>2004-01-18</th>\n",
       "      <td>19</td>\n",
       "      <td>9</td>\n",
       "      <td>3</td>\n",
       "      <td>3</td>\n",
       "      <td>6</td>\n",
       "      <td>5</td>\n",
       "      <td>January</td>\n",
       "    </tr>\n",
       "    <tr>\n",
       "      <th>2004-01-19</th>\n",
       "      <td>19</td>\n",
       "      <td>6</td>\n",
       "      <td>7</td>\n",
       "      <td>1</td>\n",
       "      <td>7</td>\n",
       "      <td>1</td>\n",
       "      <td>January</td>\n",
       "    </tr>\n",
       "    <tr>\n",
       "      <th>2004-01-20</th>\n",
       "      <td>19</td>\n",
       "      <td>13</td>\n",
       "      <td>4</td>\n",
       "      <td>3</td>\n",
       "      <td>6</td>\n",
       "      <td>4</td>\n",
       "      <td>January</td>\n",
       "    </tr>\n",
       "    <tr>\n",
       "      <th>2004-01-21</th>\n",
       "      <td>18</td>\n",
       "      <td>7</td>\n",
       "      <td>2</td>\n",
       "      <td>3</td>\n",
       "      <td>7</td>\n",
       "      <td>7</td>\n",
       "      <td>January</td>\n",
       "    </tr>\n",
       "    <tr>\n",
       "      <th>2004-01-22</th>\n",
       "      <td>18</td>\n",
       "      <td>12</td>\n",
       "      <td>4</td>\n",
       "      <td>3</td>\n",
       "      <td>8</td>\n",
       "      <td>6</td>\n",
       "      <td>January</td>\n",
       "    </tr>\n",
       "    <tr>\n",
       "      <th>2004-01-23</th>\n",
       "      <td>15</td>\n",
       "      <td>11</td>\n",
       "      <td>4</td>\n",
       "      <td>2</td>\n",
       "      <td>7</td>\n",
       "      <td>9</td>\n",
       "      <td>January</td>\n",
       "    </tr>\n",
       "    <tr>\n",
       "      <th>2004-01-24</th>\n",
       "      <td>23</td>\n",
       "      <td>12</td>\n",
       "      <td>4</td>\n",
       "      <td>3</td>\n",
       "      <td>7</td>\n",
       "      <td>8</td>\n",
       "      <td>January</td>\n",
       "    </tr>\n",
       "    <tr>\n",
       "      <th>2004-01-25</th>\n",
       "      <td>18</td>\n",
       "      <td>11</td>\n",
       "      <td>3</td>\n",
       "      <td>5</td>\n",
       "      <td>8</td>\n",
       "      <td>7</td>\n",
       "      <td>January</td>\n",
       "    </tr>\n",
       "    <tr>\n",
       "      <th>2004-01-26</th>\n",
       "      <td>20</td>\n",
       "      <td>10</td>\n",
       "      <td>6</td>\n",
       "      <td>1</td>\n",
       "      <td>8</td>\n",
       "      <td>3</td>\n",
       "      <td>January</td>\n",
       "    </tr>\n",
       "    <tr>\n",
       "      <th>2004-01-27</th>\n",
       "      <td>19</td>\n",
       "      <td>9</td>\n",
       "      <td>3</td>\n",
       "      <td>2</td>\n",
       "      <td>7</td>\n",
       "      <td>4</td>\n",
       "      <td>January</td>\n",
       "    </tr>\n",
       "    <tr>\n",
       "      <th>2004-01-28</th>\n",
       "      <td>20</td>\n",
       "      <td>14</td>\n",
       "      <td>3</td>\n",
       "      <td>2</td>\n",
       "      <td>7</td>\n",
       "      <td>7</td>\n",
       "      <td>January</td>\n",
       "    </tr>\n",
       "    <tr>\n",
       "      <th>2004-01-29</th>\n",
       "      <td>22</td>\n",
       "      <td>12</td>\n",
       "      <td>3</td>\n",
       "      <td>0</td>\n",
       "      <td>8</td>\n",
       "      <td>6</td>\n",
       "      <td>January</td>\n",
       "    </tr>\n",
       "    <tr>\n",
       "      <th>2004-01-30</th>\n",
       "      <td>17</td>\n",
       "      <td>8</td>\n",
       "      <td>2</td>\n",
       "      <td>3</td>\n",
       "      <td>11</td>\n",
       "      <td>4</td>\n",
       "      <td>January</td>\n",
       "    </tr>\n",
       "    <tr>\n",
       "      <th>...</th>\n",
       "      <td>...</td>\n",
       "      <td>...</td>\n",
       "      <td>...</td>\n",
       "      <td>...</td>\n",
       "      <td>...</td>\n",
       "      <td>...</td>\n",
       "      <td>...</td>\n",
       "    </tr>\n",
       "    <tr>\n",
       "      <th>2004-12-01</th>\n",
       "      <td>14</td>\n",
       "      <td>8</td>\n",
       "      <td>4</td>\n",
       "      <td>1</td>\n",
       "      <td>4</td>\n",
       "      <td>1</td>\n",
       "      <td>December</td>\n",
       "    </tr>\n",
       "    <tr>\n",
       "      <th>2004-12-02</th>\n",
       "      <td>12</td>\n",
       "      <td>10</td>\n",
       "      <td>3</td>\n",
       "      <td>2</td>\n",
       "      <td>5</td>\n",
       "      <td>5</td>\n",
       "      <td>December</td>\n",
       "    </tr>\n",
       "    <tr>\n",
       "      <th>2004-12-03</th>\n",
       "      <td>13</td>\n",
       "      <td>11</td>\n",
       "      <td>4</td>\n",
       "      <td>3</td>\n",
       "      <td>3</td>\n",
       "      <td>2</td>\n",
       "      <td>December</td>\n",
       "    </tr>\n",
       "    <tr>\n",
       "      <th>2004-12-04</th>\n",
       "      <td>19</td>\n",
       "      <td>10</td>\n",
       "      <td>3</td>\n",
       "      <td>2</td>\n",
       "      <td>7</td>\n",
       "      <td>0</td>\n",
       "      <td>December</td>\n",
       "    </tr>\n",
       "    <tr>\n",
       "      <th>2004-12-05</th>\n",
       "      <td>14</td>\n",
       "      <td>8</td>\n",
       "      <td>5</td>\n",
       "      <td>2</td>\n",
       "      <td>5</td>\n",
       "      <td>4</td>\n",
       "      <td>December</td>\n",
       "    </tr>\n",
       "    <tr>\n",
       "      <th>2004-12-06</th>\n",
       "      <td>20</td>\n",
       "      <td>9</td>\n",
       "      <td>4</td>\n",
       "      <td>1</td>\n",
       "      <td>4</td>\n",
       "      <td>3</td>\n",
       "      <td>December</td>\n",
       "    </tr>\n",
       "    <tr>\n",
       "      <th>2004-12-07</th>\n",
       "      <td>12</td>\n",
       "      <td>6</td>\n",
       "      <td>4</td>\n",
       "      <td>2</td>\n",
       "      <td>4</td>\n",
       "      <td>6</td>\n",
       "      <td>December</td>\n",
       "    </tr>\n",
       "    <tr>\n",
       "      <th>2004-12-08</th>\n",
       "      <td>17</td>\n",
       "      <td>9</td>\n",
       "      <td>3</td>\n",
       "      <td>2</td>\n",
       "      <td>6</td>\n",
       "      <td>4</td>\n",
       "      <td>December</td>\n",
       "    </tr>\n",
       "    <tr>\n",
       "      <th>2004-12-09</th>\n",
       "      <td>15</td>\n",
       "      <td>9</td>\n",
       "      <td>4</td>\n",
       "      <td>3</td>\n",
       "      <td>5</td>\n",
       "      <td>5</td>\n",
       "      <td>December</td>\n",
       "    </tr>\n",
       "    <tr>\n",
       "      <th>2004-12-10</th>\n",
       "      <td>15</td>\n",
       "      <td>12</td>\n",
       "      <td>2</td>\n",
       "      <td>1</td>\n",
       "      <td>6</td>\n",
       "      <td>5</td>\n",
       "      <td>December</td>\n",
       "    </tr>\n",
       "    <tr>\n",
       "      <th>2004-12-11</th>\n",
       "      <td>17</td>\n",
       "      <td>6</td>\n",
       "      <td>2</td>\n",
       "      <td>2</td>\n",
       "      <td>5</td>\n",
       "      <td>3</td>\n",
       "      <td>December</td>\n",
       "    </tr>\n",
       "    <tr>\n",
       "      <th>2004-12-12</th>\n",
       "      <td>15</td>\n",
       "      <td>7</td>\n",
       "      <td>1</td>\n",
       "      <td>0</td>\n",
       "      <td>3</td>\n",
       "      <td>3</td>\n",
       "      <td>December</td>\n",
       "    </tr>\n",
       "    <tr>\n",
       "      <th>2004-12-13</th>\n",
       "      <td>14</td>\n",
       "      <td>13</td>\n",
       "      <td>2</td>\n",
       "      <td>2</td>\n",
       "      <td>4</td>\n",
       "      <td>4</td>\n",
       "      <td>December</td>\n",
       "    </tr>\n",
       "    <tr>\n",
       "      <th>2004-12-14</th>\n",
       "      <td>16</td>\n",
       "      <td>8</td>\n",
       "      <td>4</td>\n",
       "      <td>2</td>\n",
       "      <td>7</td>\n",
       "      <td>3</td>\n",
       "      <td>December</td>\n",
       "    </tr>\n",
       "    <tr>\n",
       "      <th>2004-12-15</th>\n",
       "      <td>13</td>\n",
       "      <td>10</td>\n",
       "      <td>2</td>\n",
       "      <td>2</td>\n",
       "      <td>8</td>\n",
       "      <td>2</td>\n",
       "      <td>December</td>\n",
       "    </tr>\n",
       "    <tr>\n",
       "      <th>2004-12-16</th>\n",
       "      <td>16</td>\n",
       "      <td>7</td>\n",
       "      <td>4</td>\n",
       "      <td>2</td>\n",
       "      <td>5</td>\n",
       "      <td>6</td>\n",
       "      <td>December</td>\n",
       "    </tr>\n",
       "    <tr>\n",
       "      <th>2004-12-17</th>\n",
       "      <td>17</td>\n",
       "      <td>7</td>\n",
       "      <td>2</td>\n",
       "      <td>4</td>\n",
       "      <td>5</td>\n",
       "      <td>4</td>\n",
       "      <td>December</td>\n",
       "    </tr>\n",
       "    <tr>\n",
       "      <th>2004-12-18</th>\n",
       "      <td>16</td>\n",
       "      <td>9</td>\n",
       "      <td>2</td>\n",
       "      <td>2</td>\n",
       "      <td>5</td>\n",
       "      <td>4</td>\n",
       "      <td>December</td>\n",
       "    </tr>\n",
       "    <tr>\n",
       "      <th>2004-12-19</th>\n",
       "      <td>16</td>\n",
       "      <td>9</td>\n",
       "      <td>4</td>\n",
       "      <td>2</td>\n",
       "      <td>6</td>\n",
       "      <td>3</td>\n",
       "      <td>December</td>\n",
       "    </tr>\n",
       "    <tr>\n",
       "      <th>2004-12-20</th>\n",
       "      <td>18</td>\n",
       "      <td>8</td>\n",
       "      <td>4</td>\n",
       "      <td>3</td>\n",
       "      <td>8</td>\n",
       "      <td>3</td>\n",
       "      <td>December</td>\n",
       "    </tr>\n",
       "    <tr>\n",
       "      <th>2004-12-21</th>\n",
       "      <td>13</td>\n",
       "      <td>8</td>\n",
       "      <td>5</td>\n",
       "      <td>1</td>\n",
       "      <td>5</td>\n",
       "      <td>1</td>\n",
       "      <td>December</td>\n",
       "    </tr>\n",
       "    <tr>\n",
       "      <th>2004-12-22</th>\n",
       "      <td>13</td>\n",
       "      <td>10</td>\n",
       "      <td>4</td>\n",
       "      <td>1</td>\n",
       "      <td>6</td>\n",
       "      <td>3</td>\n",
       "      <td>December</td>\n",
       "    </tr>\n",
       "    <tr>\n",
       "      <th>2004-12-23</th>\n",
       "      <td>14</td>\n",
       "      <td>12</td>\n",
       "      <td>3</td>\n",
       "      <td>3</td>\n",
       "      <td>8</td>\n",
       "      <td>4</td>\n",
       "      <td>December</td>\n",
       "    </tr>\n",
       "    <tr>\n",
       "      <th>2004-12-24</th>\n",
       "      <td>18</td>\n",
       "      <td>7</td>\n",
       "      <td>3</td>\n",
       "      <td>1</td>\n",
       "      <td>6</td>\n",
       "      <td>5</td>\n",
       "      <td>December</td>\n",
       "    </tr>\n",
       "    <tr>\n",
       "      <th>2004-12-25</th>\n",
       "      <td>12</td>\n",
       "      <td>7</td>\n",
       "      <td>4</td>\n",
       "      <td>2</td>\n",
       "      <td>2</td>\n",
       "      <td>7</td>\n",
       "      <td>December</td>\n",
       "    </tr>\n",
       "    <tr>\n",
       "      <th>2004-12-26</th>\n",
       "      <td>15</td>\n",
       "      <td>13</td>\n",
       "      <td>4</td>\n",
       "      <td>1</td>\n",
       "      <td>6</td>\n",
       "      <td>6</td>\n",
       "      <td>December</td>\n",
       "    </tr>\n",
       "    <tr>\n",
       "      <th>2004-12-27</th>\n",
       "      <td>16</td>\n",
       "      <td>7</td>\n",
       "      <td>2</td>\n",
       "      <td>2</td>\n",
       "      <td>5</td>\n",
       "      <td>2</td>\n",
       "      <td>December</td>\n",
       "    </tr>\n",
       "    <tr>\n",
       "      <th>2004-12-28</th>\n",
       "      <td>14</td>\n",
       "      <td>7</td>\n",
       "      <td>4</td>\n",
       "      <td>3</td>\n",
       "      <td>4</td>\n",
       "      <td>0</td>\n",
       "      <td>December</td>\n",
       "    </tr>\n",
       "    <tr>\n",
       "      <th>2004-12-29</th>\n",
       "      <td>16</td>\n",
       "      <td>14</td>\n",
       "      <td>3</td>\n",
       "      <td>2</td>\n",
       "      <td>6</td>\n",
       "      <td>4</td>\n",
       "      <td>December</td>\n",
       "    </tr>\n",
       "    <tr>\n",
       "      <th>2004-12-30</th>\n",
       "      <td>15</td>\n",
       "      <td>10</td>\n",
       "      <td>4</td>\n",
       "      <td>2</td>\n",
       "      <td>7</td>\n",
       "      <td>1</td>\n",
       "      <td>December</td>\n",
       "    </tr>\n",
       "  </tbody>\n",
       "</table>\n",
       "<p>365 rows × 7 columns</p>\n",
       "</div>"
      ],
      "text/plain": [
       "            M_infection  F_infection  M_7dayMort  F_7dayMort  M_30dayMort  \\\n",
       "2004-01-01           15            8           3           3            5   \n",
       "2004-01-02           15           12           2           3            7   \n",
       "2004-01-03           20           11           2           2            7   \n",
       "2004-01-04           12           13           6           3            9   \n",
       "2004-01-05           18           12           4           3            6   \n",
       "2004-01-06           16            7           4           4            8   \n",
       "2004-01-07           18           17           5           2            8   \n",
       "2004-01-08           15           12           5           2            8   \n",
       "2004-01-09           20           13           5           4            7   \n",
       "2004-01-10           21           11           5           3            7   \n",
       "2004-01-11           19           11           5           3            9   \n",
       "2004-01-12           14           11           4           5            9   \n",
       "2004-01-13           18            9           7           4            6   \n",
       "2004-01-14           19           18           6           2            7   \n",
       "2004-01-15           16           10           7           7            8   \n",
       "2004-01-16           22           11           5           3           10   \n",
       "2004-01-17           17           10           6           3            7   \n",
       "2004-01-18           19            9           3           3            6   \n",
       "2004-01-19           19            6           7           1            7   \n",
       "2004-01-20           19           13           4           3            6   \n",
       "2004-01-21           18            7           2           3            7   \n",
       "2004-01-22           18           12           4           3            8   \n",
       "2004-01-23           15           11           4           2            7   \n",
       "2004-01-24           23           12           4           3            7   \n",
       "2004-01-25           18           11           3           5            8   \n",
       "2004-01-26           20           10           6           1            8   \n",
       "2004-01-27           19            9           3           2            7   \n",
       "2004-01-28           20           14           3           2            7   \n",
       "2004-01-29           22           12           3           0            8   \n",
       "2004-01-30           17            8           2           3           11   \n",
       "...                 ...          ...         ...         ...          ...   \n",
       "2004-12-01           14            8           4           1            4   \n",
       "2004-12-02           12           10           3           2            5   \n",
       "2004-12-03           13           11           4           3            3   \n",
       "2004-12-04           19           10           3           2            7   \n",
       "2004-12-05           14            8           5           2            5   \n",
       "2004-12-06           20            9           4           1            4   \n",
       "2004-12-07           12            6           4           2            4   \n",
       "2004-12-08           17            9           3           2            6   \n",
       "2004-12-09           15            9           4           3            5   \n",
       "2004-12-10           15           12           2           1            6   \n",
       "2004-12-11           17            6           2           2            5   \n",
       "2004-12-12           15            7           1           0            3   \n",
       "2004-12-13           14           13           2           2            4   \n",
       "2004-12-14           16            8           4           2            7   \n",
       "2004-12-15           13           10           2           2            8   \n",
       "2004-12-16           16            7           4           2            5   \n",
       "2004-12-17           17            7           2           4            5   \n",
       "2004-12-18           16            9           2           2            5   \n",
       "2004-12-19           16            9           4           2            6   \n",
       "2004-12-20           18            8           4           3            8   \n",
       "2004-12-21           13            8           5           1            5   \n",
       "2004-12-22           13           10           4           1            6   \n",
       "2004-12-23           14           12           3           3            8   \n",
       "2004-12-24           18            7           3           1            6   \n",
       "2004-12-25           12            7           4           2            2   \n",
       "2004-12-26           15           13           4           1            6   \n",
       "2004-12-27           16            7           2           2            5   \n",
       "2004-12-28           14            7           4           3            4   \n",
       "2004-12-29           16           14           3           2            6   \n",
       "2004-12-30           15           10           4           2            7   \n",
       "\n",
       "            F_30dayMort     month  \n",
       "2004-01-01            5   January  \n",
       "2004-01-02            5   January  \n",
       "2004-01-03            5   January  \n",
       "2004-01-04            7   January  \n",
       "2004-01-05            3   January  \n",
       "2004-01-06            8   January  \n",
       "2004-01-07            6   January  \n",
       "2004-01-08            6   January  \n",
       "2004-01-09            8   January  \n",
       "2004-01-10            4   January  \n",
       "2004-01-11            6   January  \n",
       "2004-01-12            5   January  \n",
       "2004-01-13            4   January  \n",
       "2004-01-14            2   January  \n",
       "2004-01-15            5   January  \n",
       "2004-01-16            3   January  \n",
       "2004-01-17            3   January  \n",
       "2004-01-18            5   January  \n",
       "2004-01-19            1   January  \n",
       "2004-01-20            4   January  \n",
       "2004-01-21            7   January  \n",
       "2004-01-22            6   January  \n",
       "2004-01-23            9   January  \n",
       "2004-01-24            8   January  \n",
       "2004-01-25            7   January  \n",
       "2004-01-26            3   January  \n",
       "2004-01-27            4   January  \n",
       "2004-01-28            7   January  \n",
       "2004-01-29            6   January  \n",
       "2004-01-30            4   January  \n",
       "...                 ...       ...  \n",
       "2004-12-01            1  December  \n",
       "2004-12-02            5  December  \n",
       "2004-12-03            2  December  \n",
       "2004-12-04            0  December  \n",
       "2004-12-05            4  December  \n",
       "2004-12-06            3  December  \n",
       "2004-12-07            6  December  \n",
       "2004-12-08            4  December  \n",
       "2004-12-09            5  December  \n",
       "2004-12-10            5  December  \n",
       "2004-12-11            3  December  \n",
       "2004-12-12            3  December  \n",
       "2004-12-13            4  December  \n",
       "2004-12-14            3  December  \n",
       "2004-12-15            2  December  \n",
       "2004-12-16            6  December  \n",
       "2004-12-17            4  December  \n",
       "2004-12-18            4  December  \n",
       "2004-12-19            3  December  \n",
       "2004-12-20            3  December  \n",
       "2004-12-21            1  December  \n",
       "2004-12-22            3  December  \n",
       "2004-12-23            4  December  \n",
       "2004-12-24            5  December  \n",
       "2004-12-25            7  December  \n",
       "2004-12-26            6  December  \n",
       "2004-12-27            2  December  \n",
       "2004-12-28            0  December  \n",
       "2004-12-29            4  December  \n",
       "2004-12-30            1  December  \n",
       "\n",
       "[365 rows x 7 columns]"
      ]
     },
     "execution_count": 63,
     "metadata": {},
     "output_type": "execute_result"
    }
   ],
   "source": [
    "jan['month'] = 'January'\n",
    "feb['month'] = 'February'\n",
    "mar['month'] = 'March'\n",
    "apr['month'] = 'April'\n",
    "may['month'] = 'May'\n",
    "jun['month'] = 'June'\n",
    "jul['month'] = 'July'\n",
    "aug['month'] = 'August'\n",
    "sep['month'] = 'September'\n",
    "ocr['month'] = 'October'\n",
    "nov['month'] = 'November'\n",
    "dec['month'] = 'December'\n",
    "\n",
    "# put all the dataframe together\n",
    "year = pd.concat([jan, feb, mar, apr, may, jun, jul, aug, sep, ocr,nov,dec])\n",
    "\n",
    "#change the index to a pandas date range\n",
    "# https://pandas.pydata.org/pandas-docs/stable/generated/pandas.DataFrame.set_index.html\n",
    "oneYear = year.set_index(dateRng)\n",
    "oneYear"
   ]
  },
  {
   "cell_type": "code",
   "execution_count": null,
   "metadata": {},
   "outputs": [],
   "source": []
  },
  {
   "cell_type": "code",
   "execution_count": 47,
   "metadata": {
    "scrolled": true
   },
   "outputs": [
    {
     "data": {
      "text/plain": [
       "<seaborn.axisgrid.FacetGrid at 0x20922512c50>"
      ]
     },
     "execution_count": 47,
     "metadata": {},
     "output_type": "execute_result"
    },
    {
     "data": {
      "image/png": "[encoded data removed]",
      "text/plain": [
       "<Figure size 360x360 with 1 Axes>"
      ]
     },
     "metadata": {},
     "output_type": "display_data"
    }
   ],
   "source": [
    "sns.lmplot(x='M_infection', y = 'F_infection', data = year)"
   ]
  },
  {
   "cell_type": "code",
   "execution_count": 48,
   "metadata": {},
   "outputs": [
    {
     "data": {
      "text/plain": [
       "24.660273972602738"
      ]
     },
     "execution_count": 48,
     "metadata": {},
     "output_type": "execute_result"
    }
   ],
   "source": [
    "# total monthly infection / days in a year = average daily infection\n",
    "9001/365"
   ]
  },
  {
   "cell_type": "code",
   "execution_count": 49,
   "metadata": {
    "scrolled": true
   },
   "outputs": [
    {
     "data": {
      "text/html": [
       "<div>\n",
       "<style scoped>\n",
       "    .dataframe tbody tr th:only-of-type {\n",
       "        vertical-align: middle;\n",
       "    }\n",
       "\n",
       "    .dataframe tbody tr th {\n",
       "        vertical-align: top;\n",
       "    }\n",
       "\n",
       "    .dataframe thead th {\n",
       "        text-align: right;\n",
       "    }\n",
       "</style>\n",
       "<table border=\"1\" class=\"dataframe\">\n",
       "  <thead>\n",
       "    <tr style=\"text-align: right;\">\n",
       "      <th></th>\n",
       "      <th>Age</th>\n",
       "      <th>Infections</th>\n",
       "      <th>7 Day Mortality</th>\n",
       "      <th>30 Day Mortality</th>\n",
       "    </tr>\n",
       "  </thead>\n",
       "  <tbody>\n",
       "    <tr>\n",
       "      <th>0</th>\n",
       "      <td>&lt;15</td>\n",
       "      <td>126</td>\n",
       "      <td>2</td>\n",
       "      <td>8</td>\n",
       "    </tr>\n",
       "    <tr>\n",
       "      <th>1</th>\n",
       "      <td>15-34</td>\n",
       "      <td>377</td>\n",
       "      <td>12</td>\n",
       "      <td>29</td>\n",
       "    </tr>\n",
       "    <tr>\n",
       "      <th>2</th>\n",
       "      <td>35-44</td>\n",
       "      <td>462</td>\n",
       "      <td>42</td>\n",
       "      <td>86</td>\n",
       "    </tr>\n",
       "    <tr>\n",
       "      <th>3</th>\n",
       "      <td>45-54</td>\n",
       "      <td>696</td>\n",
       "      <td>94</td>\n",
       "      <td>182</td>\n",
       "    </tr>\n",
       "    <tr>\n",
       "      <th>4</th>\n",
       "      <td>55-64</td>\n",
       "      <td>1189</td>\n",
       "      <td>193</td>\n",
       "      <td>323</td>\n",
       "    </tr>\n",
       "    <tr>\n",
       "      <th>5</th>\n",
       "      <td>65-74</td>\n",
       "      <td>1900</td>\n",
       "      <td>360</td>\n",
       "      <td>697</td>\n",
       "    </tr>\n",
       "    <tr>\n",
       "      <th>6</th>\n",
       "      <td>75-84</td>\n",
       "      <td>2738</td>\n",
       "      <td>697</td>\n",
       "      <td>1266</td>\n",
       "    </tr>\n",
       "    <tr>\n",
       "      <th>7</th>\n",
       "      <td>&gt;85</td>\n",
       "      <td>1513</td>\n",
       "      <td>425</td>\n",
       "      <td>859</td>\n",
       "    </tr>\n",
       "  </tbody>\n",
       "</table>\n",
       "</div>"
      ],
      "text/plain": [
       "     Age  Infections  7 Day Mortality  30 Day Mortality\n",
       "0    <15         126                2                 8\n",
       "1  15-34         377               12                29\n",
       "2  35-44         462               42                86\n",
       "3  45-54         696               94               182\n",
       "4  55-64        1189              193               323\n",
       "5  65-74        1900              360               697\n",
       "6  75-84        2738              697              1266\n",
       "7    >85        1513              425               859"
      ]
     },
     "execution_count": 49,
     "metadata": {},
     "output_type": "execute_result"
    }
   ],
   "source": [
    "ageMort = pd.DataFrame({\"Age\": [\"<15\", '15-34', '35-44', '45-54', '55-64', '65-74', '75-84', '>85'], \"Infections\": (126, 377, 462, 696, 1189, 1900, 2738, 1513), \"7 Day Mortality\": (2, 12, 42, 94, 193, 360, 697, 425), \"30 Day Mortality\" : (8, 29, 86, 182, 323, 697, 1266, 859)})\n",
    "ageMort"
   ]
  },
  {
   "cell_type": "code",
   "execution_count": 50,
   "metadata": {
    "scrolled": false
   },
   "outputs": [
    {
     "data": {
      "text/plain": [
       "Infections          889.474072\n",
       "7 Day Mortality     247.184973\n",
       "30 Day Mortality    460.494687\n",
       "dtype: float64"
      ]
     },
     "execution_count": 50,
     "metadata": {},
     "output_type": "execute_result"
    }
   ],
   "source": [
    "ageMort.std()"
   ]
  },
  {
   "cell_type": "code",
   "execution_count": 51,
   "metadata": {},
   "outputs": [
    {
     "data": {
      "text/plain": [
       "[Text(0,0,'<15'),\n",
       " Text(0,0,'15-34'),\n",
       " Text(0,0,'35-44'),\n",
       " Text(0,0,'45-54'),\n",
       " Text(0,0,'55-64'),\n",
       " Text(0,0,'65-74'),\n",
       " Text(0,0,'75-84'),\n",
       " Text(0,0,'>85')]"
      ]
     },
     "execution_count": 51,
     "metadata": {},
     "output_type": "execute_result"
    },
    {
     "data": {
      "image/png": "[encoded data removed]",
      "text/plain": [
       "<Figure size 720x576 with 1 Axes>"
      ]
     },
     "metadata": {},
     "output_type": "display_data"
    }
   ],
   "source": [
    "# line plot to visualize relationship of Age to infections and mortality counts. \n",
    "ax = ageMort.plot()\n",
    "ax.set_xticks(ageMort.index)\n",
    "ax.set_xticklabels(ageMort.Age)"
   ]
  },
  {
   "cell_type": "code",
   "execution_count": null,
   "metadata": {},
   "outputs": [],
   "source": [
    "ageMort['infection/year'] =  ageMort['Infections']/365 \n",
    "ageMort['7dayP'] = ageMort['7 Day Mortality'] / ageMort['Infections']\n",
    "ageMort['30dayP'] = ageMort['30 Day Mortality'] / ageMort['Infections']"
   ]
  },
  {
   "cell_type": "code",
   "execution_count": null,
   "metadata": {},
   "outputs": [],
   "source": [
    "ageMort"
   ]
  },
  {
   "cell_type": "code",
   "execution_count": null,
   "metadata": {},
   "outputs": [],
   "source": [
    "# <15   - 0.35, 0.02, 0.06\n",
    "# 15-34 - 1.03, 0.03, 0.08\n",
    "# 35-44 - 1.27, 0.09, 19\n",
    "# 45-54 - 1.91, 0.14, 0.26\n",
    "# 55-64 - 3.26, 0.16, .27\n",
    "# 65-74 - 5.21, 0.18, 0.37\n",
    "# 75-84 - 7.50, 0.25, 0.46 \n",
    "# >85   - 4.15, 0.28, 0.57  \n"
   ]
  },
  {
   "cell_type": "code",
   "execution_count": null,
   "metadata": {
    "scrolled": true
   },
   "outputs": [],
   "source": [
    "# Simulated data for Infections according to age per year and 7 and 30 day mortality\n",
    "\n",
    "# The <15 category uses the binomial distribution\n",
    "# For the rest, the normal distribution is used instead\n",
    "a = pd.DataFrame({'Sim<15': np.random.binomial(1, .35, 365), 'Sim 15-34': np.random.normal(1.03, 0.01, 365), 'Sim 35-44': np.random.normal(1.27, 0.01, 365), 'Sim 45-54': np.random.normal(1.91, 0.01, 365), 'Sim 55-64': np.random.normal(3.26, 0.01, 365), 'Sim 65-74':np.random.normal(5.21, 0.01, 365), 'Sim 75-84': np.random.normal(7.5, 0.01, 365), 'Sim >85': np.random.normal(4.15, 0.01, 365) })\n"
   ]
  },
  {
   "cell_type": "code",
   "execution_count": null,
   "metadata": {
    "scrolled": false
   },
   "outputs": [],
   "source": [
    "a"
   ]
  },
  {
   "cell_type": "code",
   "execution_count": null,
   "metadata": {
    "scrolled": false
   },
   "outputs": [],
   "source": [
    "a.sum()"
   ]
  },
  {
   "cell_type": "code",
   "execution_count": null,
   "metadata": {},
   "outputs": [],
   "source": [
    "a.plot(x = 'Sim 15-34', y = 'Sim 45-54', kind = 'hist')"
   ]
  },
  {
   "cell_type": "markdown",
   "metadata": {},
   "source": [
    "#### The research paper stated that mortality rates are higher in women in all age groups but the data was not presented, nor was it broken down into a monthly format between male and female. A simulation of the number of infected persons grouped into  gender and considering the month of infection is detailed below. An easier option would have been to simulate by year but this would not account for the trend shown in infections by month. "
   ]
  },
  {
   "cell_type": "code",
   "execution_count": null,
   "metadata": {},
   "outputs": [],
   "source": [
    "# Simulated data for daily infection of males and females for the year\n",
    "infection = pd.DataFrame({\"maleInfection\": np.random.binomial(25, .62, 365), \"femaleInfection\": np.random.binomial(25, .38, 365)})\n"
   ]
  },
  {
   "cell_type": "code",
   "execution_count": null,
   "metadata": {},
   "outputs": [],
   "source": [
    "infection.sum()"
   ]
  },
  {
   "cell_type": "code",
   "execution_count": null,
   "metadata": {
    "scrolled": true
   },
   "outputs": [],
   "source": [
    "infection.describe()"
   ]
  },
  {
   "cell_type": "code",
   "execution_count": null,
   "metadata": {},
   "outputs": [],
   "source": []
  },
  {
   "cell_type": "code",
   "execution_count": null,
   "metadata": {},
   "outputs": [],
   "source": []
  }
 ],
 "metadata": {
  "kernelspec": {
   "display_name": "Python 3",
   "language": "python",
   "name": "python3"
  },
  "language_info": {
   "codemirror_mode": {
    "name": "ipython",
    "version": 3
   },
   "file_extension": ".py",
   "mimetype": "text/x-python",
   "name": "python",
   "nbconvert_exporter": "python",
   "pygments_lexer": "ipython3",
   "version": "3.6.5"
  }
 },
 "nbformat": 4,
 "nbformat_minor": 2
}
