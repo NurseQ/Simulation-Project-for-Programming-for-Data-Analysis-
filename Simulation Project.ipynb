{
 "cells": [
  {
   "cell_type": "code",
   "execution_count": 1,
   "metadata": {},
   "outputs": [],
   "source": [
    "import pandas as pd\n",
    "import seaborn as sns\n",
    "import numpy as np\n",
    "import matplotlib.pyplot as plt"
   ]
  },
  {
   "cell_type": "code",
   "execution_count": 2,
   "metadata": {},
   "outputs": [],
   "source": [
    "%matplotlib inline"
   ]
  },
  {
   "cell_type": "code",
   "execution_count": 3,
   "metadata": {},
   "outputs": [],
   "source": [
    "# total mortality over people infected with MRSA\n",
    "infectedmale = 5575\n",
    "infectedfemale = 3426\n",
    "malemort = 2105\n",
    "femalemort = 1345\n",
    "mortalityrate = (malemort + femalemort) / (infectedmale + infectedfemale)"
   ]
  },
  {
   "cell_type": "code",
   "execution_count": 4,
   "metadata": {},
   "outputs": [
    {
     "data": {
      "text/plain": [
       "9001"
      ]
     },
     "execution_count": 4,
     "metadata": {},
     "output_type": "execute_result"
    }
   ],
   "source": [
    "totalInfection = infectedmale + infectedfemale\n",
    "totalInfection"
   ]
  },
  {
   "cell_type": "code",
   "execution_count": 5,
   "metadata": {},
   "outputs": [
    {
     "data": {
      "text/plain": [
       "0.38329074547272524"
      ]
     },
     "execution_count": 5,
     "metadata": {},
     "output_type": "execute_result"
    }
   ],
   "source": [
    "mortalityrate"
   ]
  },
  {
   "cell_type": "code",
   "execution_count": 6,
   "metadata": {},
   "outputs": [
    {
     "data": {
      "text/plain": [
       "0.6193756249305633"
      ]
     },
     "execution_count": 6,
     "metadata": {},
     "output_type": "execute_result"
    }
   ],
   "source": [
    "maleInfectionRate = infectedmale / totalInfection\n",
    "maleInfectionRate"
   ]
  },
  {
   "cell_type": "code",
   "execution_count": 7,
   "metadata": {},
   "outputs": [
    {
     "data": {
      "text/plain": [
       "3450"
      ]
     },
     "execution_count": 7,
     "metadata": {},
     "output_type": "execute_result"
    }
   ],
   "source": [
    "totalmort = malemort + femalemort\n",
    "totalmort"
   ]
  },
  {
   "cell_type": "code",
   "execution_count": 8,
   "metadata": {},
   "outputs": [
    {
     "data": {
      "text/plain": [
       "2136.8459060104433"
      ]
     },
     "execution_count": 8,
     "metadata": {},
     "output_type": "execute_result"
    }
   ],
   "source": [
    "expectedmalemort = infectedmale * mortalityrate\n",
    "expectedmalemort"
   ]
  },
  {
   "cell_type": "code",
   "execution_count": 9,
   "metadata": {},
   "outputs": [
    {
     "data": {
      "text/plain": [
       "1313.1540939895567"
      ]
     },
     "execution_count": 9,
     "metadata": {},
     "output_type": "execute_result"
    }
   ],
   "source": [
    "expectedfemalemort = infectedfemale * mortalityrate\n",
    "expectedfemalemort"
   ]
  },
  {
   "cell_type": "code",
   "execution_count": 10,
   "metadata": {},
   "outputs": [],
   "source": [
    "monthlymort = pd.DataFrame({'Month': ['Jan', 'Feb', 'Mar', 'Apr', 'May', 'Jun', 'Jul', 'Aug', 'Sep', 'Oct', 'Nov', 'Dec'], \"MRSA infection\": (872, 758, 808, 789, 757, 741, 785, 731, 650, 681,708, 721),\"7 day mortality\": (207, 176, 184, 162, 148, 143, 147, 123, 115, 133, 139, 148), \"30 day mortality\": (385, 318, 332, 299, 287, 292, 281, 235, 231, 259, 253, 278) })"
   ]
  },
  {
   "cell_type": "code",
   "execution_count": 11,
   "metadata": {},
   "outputs": [
    {
     "data": {
      "text/html": [
       "<div>\n",
       "<style scoped>\n",
       "    .dataframe tbody tr th:only-of-type {\n",
       "        vertical-align: middle;\n",
       "    }\n",
       "\n",
       "    .dataframe tbody tr th {\n",
       "        vertical-align: top;\n",
       "    }\n",
       "\n",
       "    .dataframe thead th {\n",
       "        text-align: right;\n",
       "    }\n",
       "</style>\n",
       "<table border=\"1\" class=\"dataframe\">\n",
       "  <thead>\n",
       "    <tr style=\"text-align: right;\">\n",
       "      <th></th>\n",
       "      <th>Month</th>\n",
       "      <th>MRSA infection</th>\n",
       "      <th>7 day mortality</th>\n",
       "      <th>30 day mortality</th>\n",
       "    </tr>\n",
       "  </thead>\n",
       "  <tbody>\n",
       "    <tr>\n",
       "      <th>0</th>\n",
       "      <td>Jan</td>\n",
       "      <td>872</td>\n",
       "      <td>207</td>\n",
       "      <td>385</td>\n",
       "    </tr>\n",
       "    <tr>\n",
       "      <th>1</th>\n",
       "      <td>Feb</td>\n",
       "      <td>758</td>\n",
       "      <td>176</td>\n",
       "      <td>318</td>\n",
       "    </tr>\n",
       "    <tr>\n",
       "      <th>2</th>\n",
       "      <td>Mar</td>\n",
       "      <td>808</td>\n",
       "      <td>184</td>\n",
       "      <td>332</td>\n",
       "    </tr>\n",
       "    <tr>\n",
       "      <th>3</th>\n",
       "      <td>Apr</td>\n",
       "      <td>789</td>\n",
       "      <td>162</td>\n",
       "      <td>299</td>\n",
       "    </tr>\n",
       "    <tr>\n",
       "      <th>4</th>\n",
       "      <td>May</td>\n",
       "      <td>757</td>\n",
       "      <td>148</td>\n",
       "      <td>287</td>\n",
       "    </tr>\n",
       "    <tr>\n",
       "      <th>5</th>\n",
       "      <td>Jun</td>\n",
       "      <td>741</td>\n",
       "      <td>143</td>\n",
       "      <td>292</td>\n",
       "    </tr>\n",
       "    <tr>\n",
       "      <th>6</th>\n",
       "      <td>Jul</td>\n",
       "      <td>785</td>\n",
       "      <td>147</td>\n",
       "      <td>281</td>\n",
       "    </tr>\n",
       "    <tr>\n",
       "      <th>7</th>\n",
       "      <td>Aug</td>\n",
       "      <td>731</td>\n",
       "      <td>123</td>\n",
       "      <td>235</td>\n",
       "    </tr>\n",
       "    <tr>\n",
       "      <th>8</th>\n",
       "      <td>Sep</td>\n",
       "      <td>650</td>\n",
       "      <td>115</td>\n",
       "      <td>231</td>\n",
       "    </tr>\n",
       "    <tr>\n",
       "      <th>9</th>\n",
       "      <td>Oct</td>\n",
       "      <td>681</td>\n",
       "      <td>133</td>\n",
       "      <td>259</td>\n",
       "    </tr>\n",
       "    <tr>\n",
       "      <th>10</th>\n",
       "      <td>Nov</td>\n",
       "      <td>708</td>\n",
       "      <td>139</td>\n",
       "      <td>253</td>\n",
       "    </tr>\n",
       "    <tr>\n",
       "      <th>11</th>\n",
       "      <td>Dec</td>\n",
       "      <td>721</td>\n",
       "      <td>148</td>\n",
       "      <td>278</td>\n",
       "    </tr>\n",
       "  </tbody>\n",
       "</table>\n",
       "</div>"
      ],
      "text/plain": [
       "   Month  MRSA infection  7 day mortality  30 day mortality\n",
       "0    Jan             872              207               385\n",
       "1    Feb             758              176               318\n",
       "2    Mar             808              184               332\n",
       "3    Apr             789              162               299\n",
       "4    May             757              148               287\n",
       "5    Jun             741              143               292\n",
       "6    Jul             785              147               281\n",
       "7    Aug             731              123               235\n",
       "8    Sep             650              115               231\n",
       "9    Oct             681              133               259\n",
       "10   Nov             708              139               253\n",
       "11   Dec             721              148               278"
      ]
     },
     "execution_count": 11,
     "metadata": {},
     "output_type": "execute_result"
    }
   ],
   "source": [
    "monthlymort"
   ]
  },
  {
   "cell_type": "code",
   "execution_count": 12,
   "metadata": {
    "scrolled": true
   },
   "outputs": [
    {
     "data": {
      "text/plain": [
       "<seaborn.axisgrid.FacetGrid at 0x16b7a84df60>"
      ]
     },
     "execution_count": 12,
     "metadata": {},
     "output_type": "execute_result"
    },
    {
     "data": {
      "image/png": "[encoded data removed]",
      "text/plain": [
       "<Figure size 360x360 with 1 Axes>"
      ]
     },
     "metadata": {},
     "output_type": "display_data"
    }
   ],
   "source": [
    "sns.lmplot(x=\"7 day mortality\", y=\"30 day mortality\", data=monthlymort)"
   ]
  },
  {
   "cell_type": "code",
   "execution_count": 13,
   "metadata": {},
   "outputs": [
    {
     "data": {
      "text/plain": [
       "Month               JanFebMarAprMayJunJulAugSepOctNovDec\n",
       "MRSA infection                                      9001\n",
       "7 day mortality                                     1825\n",
       "30 day mortality                                    3450\n",
       "dtype: object"
      ]
     },
     "execution_count": 13,
     "metadata": {},
     "output_type": "execute_result"
    }
   ],
   "source": [
    "monthlymort.sum()"
   ]
  },
  {
   "cell_type": "code",
   "execution_count": 24,
   "metadata": {},
   "outputs": [
    {
     "data": {
      "text/plain": [
       "24.660273972602738"
      ]
     },
     "execution_count": 24,
     "metadata": {},
     "output_type": "execute_result"
    }
   ],
   "source": [
    "# total monthly infection / days in a year = average daily infection\n",
    "9001/365"
   ]
  },
  {
   "cell_type": "code",
   "execution_count": 55,
   "metadata": {
    "scrolled": false
   },
   "outputs": [
    {
     "data": {
      "text/html": [
       "<div>\n",
       "<style scoped>\n",
       "    .dataframe tbody tr th:only-of-type {\n",
       "        vertical-align: middle;\n",
       "    }\n",
       "\n",
       "    .dataframe tbody tr th {\n",
       "        vertical-align: top;\n",
       "    }\n",
       "\n",
       "    .dataframe thead th {\n",
       "        text-align: right;\n",
       "    }\n",
       "</style>\n",
       "<table border=\"1\" class=\"dataframe\">\n",
       "  <thead>\n",
       "    <tr style=\"text-align: right;\">\n",
       "      <th></th>\n",
       "      <th>Age Group</th>\n",
       "      <th>Infections</th>\n",
       "      <th>7 Day Mortality</th>\n",
       "      <th>30 Day Mortality</th>\n",
       "    </tr>\n",
       "  </thead>\n",
       "  <tbody>\n",
       "    <tr>\n",
       "      <th>0</th>\n",
       "      <td>&lt;15</td>\n",
       "      <td>126</td>\n",
       "      <td>2</td>\n",
       "      <td>8</td>\n",
       "    </tr>\n",
       "    <tr>\n",
       "      <th>1</th>\n",
       "      <td>15-34</td>\n",
       "      <td>377</td>\n",
       "      <td>12</td>\n",
       "      <td>29</td>\n",
       "    </tr>\n",
       "    <tr>\n",
       "      <th>2</th>\n",
       "      <td>35-44</td>\n",
       "      <td>462</td>\n",
       "      <td>42</td>\n",
       "      <td>86</td>\n",
       "    </tr>\n",
       "    <tr>\n",
       "      <th>3</th>\n",
       "      <td>45-54</td>\n",
       "      <td>696</td>\n",
       "      <td>94</td>\n",
       "      <td>182</td>\n",
       "    </tr>\n",
       "    <tr>\n",
       "      <th>4</th>\n",
       "      <td>55-64</td>\n",
       "      <td>1189</td>\n",
       "      <td>193</td>\n",
       "      <td>323</td>\n",
       "    </tr>\n",
       "    <tr>\n",
       "      <th>5</th>\n",
       "      <td>65-74</td>\n",
       "      <td>1900</td>\n",
       "      <td>360</td>\n",
       "      <td>697</td>\n",
       "    </tr>\n",
       "    <tr>\n",
       "      <th>6</th>\n",
       "      <td>75-84</td>\n",
       "      <td>2738</td>\n",
       "      <td>697</td>\n",
       "      <td>1266</td>\n",
       "    </tr>\n",
       "    <tr>\n",
       "      <th>7</th>\n",
       "      <td>&gt;85</td>\n",
       "      <td>1513</td>\n",
       "      <td>425</td>\n",
       "      <td>859</td>\n",
       "    </tr>\n",
       "  </tbody>\n",
       "</table>\n",
       "</div>"
      ],
      "text/plain": [
       "  Age Group  Infections  7 Day Mortality  30 Day Mortality\n",
       "0       <15         126                2                 8\n",
       "1     15-34         377               12                29\n",
       "2     35-44         462               42                86\n",
       "3     45-54         696               94               182\n",
       "4     55-64        1189              193               323\n",
       "5     65-74        1900              360               697\n",
       "6     75-84        2738              697              1266\n",
       "7       >85        1513              425               859"
      ]
     },
     "execution_count": 55,
     "metadata": {},
     "output_type": "execute_result"
    }
   ],
   "source": [
    "ageMort = pd.DataFrame({\"Age Group\": [\"<15\", '15-34', '35-44', '45-54', '55-64', '65-74', '75-84', '>85'], \"Infections\": (126, 377, 462, 696, 1189, 1900, 2738, 1513), \"7 Day Mortality\": (2, 12, 42, 94, 193, 360, 697, 425), \"30 Day Mortality\" : (8, 29, 86, 182, 323, 697, 1266, 859)})\n",
    "ageMort"
   ]
  },
  {
   "cell_type": "code",
   "execution_count": 16,
   "metadata": {
    "scrolled": true
   },
   "outputs": [
    {
     "data": {
      "text/plain": [
       "No Infected Patients    889.474072\n",
       "7 Day Mortality         247.184973\n",
       "30 Day Mortality        460.494687\n",
       "dtype: float64"
      ]
     },
     "execution_count": 16,
     "metadata": {},
     "output_type": "execute_result"
    }
   ],
   "source": [
    "ageMort.std()"
   ]
  },
  {
   "cell_type": "code",
   "execution_count": 56,
   "metadata": {},
   "outputs": [],
   "source": [
    "ageMort['infection/year'] = ageMort['Infections'] / 365\n",
    "ageMort['7dayP'] = ageMort['7 Day Mortality'] / ageMort['Infections']\n",
    "ageMort['30dayP'] = ageMort['30 Day Mortality'] / ageMort['Infections']"
   ]
  },
  {
   "cell_type": "code",
   "execution_count": 57,
   "metadata": {},
   "outputs": [
    {
     "data": {
      "text/html": [
       "<div>\n",
       "<style scoped>\n",
       "    .dataframe tbody tr th:only-of-type {\n",
       "        vertical-align: middle;\n",
       "    }\n",
       "\n",
       "    .dataframe tbody tr th {\n",
       "        vertical-align: top;\n",
       "    }\n",
       "\n",
       "    .dataframe thead th {\n",
       "        text-align: right;\n",
       "    }\n",
       "</style>\n",
       "<table border=\"1\" class=\"dataframe\">\n",
       "  <thead>\n",
       "    <tr style=\"text-align: right;\">\n",
       "      <th></th>\n",
       "      <th>Age Group</th>\n",
       "      <th>Infections</th>\n",
       "      <th>7 Day Mortality</th>\n",
       "      <th>30 Day Mortality</th>\n",
       "      <th>infection/year</th>\n",
       "      <th>7dayP</th>\n",
       "      <th>30dayP</th>\n",
       "    </tr>\n",
       "  </thead>\n",
       "  <tbody>\n",
       "    <tr>\n",
       "      <th>0</th>\n",
       "      <td>&lt;15</td>\n",
       "      <td>126</td>\n",
       "      <td>2</td>\n",
       "      <td>8</td>\n",
       "      <td>0.345205</td>\n",
       "      <td>0.015873</td>\n",
       "      <td>0.063492</td>\n",
       "    </tr>\n",
       "    <tr>\n",
       "      <th>1</th>\n",
       "      <td>15-34</td>\n",
       "      <td>377</td>\n",
       "      <td>12</td>\n",
       "      <td>29</td>\n",
       "      <td>1.032877</td>\n",
       "      <td>0.031830</td>\n",
       "      <td>0.076923</td>\n",
       "    </tr>\n",
       "    <tr>\n",
       "      <th>2</th>\n",
       "      <td>35-44</td>\n",
       "      <td>462</td>\n",
       "      <td>42</td>\n",
       "      <td>86</td>\n",
       "      <td>1.265753</td>\n",
       "      <td>0.090909</td>\n",
       "      <td>0.186147</td>\n",
       "    </tr>\n",
       "    <tr>\n",
       "      <th>3</th>\n",
       "      <td>45-54</td>\n",
       "      <td>696</td>\n",
       "      <td>94</td>\n",
       "      <td>182</td>\n",
       "      <td>1.906849</td>\n",
       "      <td>0.135057</td>\n",
       "      <td>0.261494</td>\n",
       "    </tr>\n",
       "    <tr>\n",
       "      <th>4</th>\n",
       "      <td>55-64</td>\n",
       "      <td>1189</td>\n",
       "      <td>193</td>\n",
       "      <td>323</td>\n",
       "      <td>3.257534</td>\n",
       "      <td>0.162321</td>\n",
       "      <td>0.271657</td>\n",
       "    </tr>\n",
       "    <tr>\n",
       "      <th>5</th>\n",
       "      <td>65-74</td>\n",
       "      <td>1900</td>\n",
       "      <td>360</td>\n",
       "      <td>697</td>\n",
       "      <td>5.205479</td>\n",
       "      <td>0.189474</td>\n",
       "      <td>0.366842</td>\n",
       "    </tr>\n",
       "    <tr>\n",
       "      <th>6</th>\n",
       "      <td>75-84</td>\n",
       "      <td>2738</td>\n",
       "      <td>697</td>\n",
       "      <td>1266</td>\n",
       "      <td>7.501370</td>\n",
       "      <td>0.254565</td>\n",
       "      <td>0.462381</td>\n",
       "    </tr>\n",
       "    <tr>\n",
       "      <th>7</th>\n",
       "      <td>&gt;85</td>\n",
       "      <td>1513</td>\n",
       "      <td>425</td>\n",
       "      <td>859</td>\n",
       "      <td>4.145205</td>\n",
       "      <td>0.280899</td>\n",
       "      <td>0.567746</td>\n",
       "    </tr>\n",
       "  </tbody>\n",
       "</table>\n",
       "</div>"
      ],
      "text/plain": [
       "  Age Group  Infections  7 Day Mortality  30 Day Mortality  infection/year  \\\n",
       "0       <15         126                2                 8        0.345205   \n",
       "1     15-34         377               12                29        1.032877   \n",
       "2     35-44         462               42                86        1.265753   \n",
       "3     45-54         696               94               182        1.906849   \n",
       "4     55-64        1189              193               323        3.257534   \n",
       "5     65-74        1900              360               697        5.205479   \n",
       "6     75-84        2738              697              1266        7.501370   \n",
       "7       >85        1513              425               859        4.145205   \n",
       "\n",
       "      7dayP    30dayP  \n",
       "0  0.015873  0.063492  \n",
       "1  0.031830  0.076923  \n",
       "2  0.090909  0.186147  \n",
       "3  0.135057  0.261494  \n",
       "4  0.162321  0.271657  \n",
       "5  0.189474  0.366842  \n",
       "6  0.254565  0.462381  \n",
       "7  0.280899  0.567746  "
      ]
     },
     "execution_count": 57,
     "metadata": {},
     "output_type": "execute_result"
    }
   ],
   "source": [
    "ageMort"
   ]
  },
  {
   "cell_type": "code",
   "execution_count": 54,
   "metadata": {},
   "outputs": [],
   "source": [
    "# <15   - 0.35, 0.016, 0.06\n",
    "# 15-34 - 1.03, 0.03, 0.08\n",
    "# 35-44 - 1.27, 0.09, 19\n",
    "# 45-54 - 1.91, 0.14, 0.26\n",
    "# 55-64 - 3.26, 0.16, .27\n",
    "# 65-74 - 5.21, 0.18, 0.37\n",
    "# 75-84 - 7.50, 0.25, 0.46 \n",
    "# >85   - 4.15, 0.28, 0.57  \n"
   ]
  },
  {
   "cell_type": "code",
   "execution_count": null,
   "metadata": {},
   "outputs": [],
   "source": [
    "# Simulated data for Infections per year and 7 and 30 day mortality\n",
    "underFifteen = pd.DataFrame({'infection/year': })"
   ]
  },
  {
   "cell_type": "code",
   "execution_count": null,
   "metadata": {},
   "outputs": [],
   "source": []
  },
  {
   "cell_type": "code",
   "execution_count": 17,
   "metadata": {},
   "outputs": [],
   "source": [
    "#Fake data\n",
    "n = np.arange(0, 100, 1)\n",
    "s = 20 * n + 10 + np.random.normal (0.0, 5.0, n.size)"
   ]
  },
  {
   "cell_type": "code",
   "execution_count": 18,
   "metadata": {},
   "outputs": [
    {
     "data": {
      "text/plain": [
       "array([  12.48571261,   37.82273022,   44.99433589,   62.75525372,\n",
       "         94.91890829,  111.78089297,  134.42970496,  151.64660251,\n",
       "        171.87857909,  196.04694321,  206.22287054,  237.16628828,\n",
       "        252.47760122,  264.89870501,  289.49259288,  306.93192231,\n",
       "        328.33052703,  349.28193833,  366.80048004,  385.64578617,\n",
       "        405.89626919,  425.29639807,  443.93526339,  480.52195769,\n",
       "        490.63858255,  507.28551072,  526.31176203,  547.49912575,\n",
       "        571.45702163,  600.75683831,  610.89167307,  638.40297751,\n",
       "        648.65385339,  676.69117726,  689.36136962,  713.56134838,\n",
       "        732.5361503 ,  748.91510729,  770.80648841,  796.22921009,\n",
       "        806.05847947,  831.10035551,  846.04169168,  868.87190916,\n",
       "        888.27962605,  908.78465715,  938.37222453,  940.23428026,\n",
       "        974.90988622,  989.50504314, 1013.81521845, 1036.84979283,\n",
       "       1044.48446025, 1065.14444573, 1088.4366555 , 1106.46097777,\n",
       "       1134.06905198, 1151.94322245, 1172.73726343, 1200.71502326,\n",
       "       1218.4717812 , 1228.41861057, 1249.16931251, 1270.91976798,\n",
       "       1294.6212284 , 1311.7849827 , 1324.34291624, 1354.11309111,\n",
       "       1374.62602227, 1389.79276222, 1405.38033334, 1430.14933037,\n",
       "       1451.66321401, 1469.97187345, 1488.63760018, 1508.86219191,\n",
       "       1521.73800454, 1544.81637736, 1570.37432904, 1588.80420334,\n",
       "       1604.07888279, 1630.40729239, 1643.95558313, 1666.70260921,\n",
       "       1686.45322667, 1714.81931546, 1729.16289641, 1751.82376784,\n",
       "       1773.10770433, 1782.71239568, 1818.16398299, 1834.21611372,\n",
       "       1843.52322298, 1881.3067194 , 1892.62836558, 1910.3345223 ,\n",
       "       1932.51651316, 1952.71905276, 1972.51728934, 1995.56432026])"
      ]
     },
     "execution_count": 18,
     "metadata": {},
     "output_type": "execute_result"
    }
   ],
   "source": [
    "s"
   ]
  },
  {
   "cell_type": "code",
   "execution_count": 20,
   "metadata": {},
   "outputs": [
    {
     "data": {
      "text/html": [
       "<div>\n",
       "<style scoped>\n",
       "    .dataframe tbody tr th:only-of-type {\n",
       "        vertical-align: middle;\n",
       "    }\n",
       "\n",
       "    .dataframe tbody tr th {\n",
       "        vertical-align: top;\n",
       "    }\n",
       "\n",
       "    .dataframe thead th {\n",
       "        text-align: right;\n",
       "    }\n",
       "</style>\n",
       "<table border=\"1\" class=\"dataframe\">\n",
       "  <thead>\n",
       "    <tr style=\"text-align: right;\">\n",
       "      <th></th>\n",
       "      <th>maleInfection</th>\n",
       "      <th>femaleInfection</th>\n",
       "    </tr>\n",
       "  </thead>\n",
       "  <tbody>\n",
       "    <tr>\n",
       "      <th>0</th>\n",
       "      <td>13</td>\n",
       "      <td>15</td>\n",
       "    </tr>\n",
       "    <tr>\n",
       "      <th>1</th>\n",
       "      <td>17</td>\n",
       "      <td>10</td>\n",
       "    </tr>\n",
       "    <tr>\n",
       "      <th>2</th>\n",
       "      <td>15</td>\n",
       "      <td>9</td>\n",
       "    </tr>\n",
       "    <tr>\n",
       "      <th>3</th>\n",
       "      <td>13</td>\n",
       "      <td>12</td>\n",
       "    </tr>\n",
       "    <tr>\n",
       "      <th>4</th>\n",
       "      <td>13</td>\n",
       "      <td>11</td>\n",
       "    </tr>\n",
       "    <tr>\n",
       "      <th>5</th>\n",
       "      <td>15</td>\n",
       "      <td>4</td>\n",
       "    </tr>\n",
       "    <tr>\n",
       "      <th>6</th>\n",
       "      <td>14</td>\n",
       "      <td>9</td>\n",
       "    </tr>\n",
       "    <tr>\n",
       "      <th>7</th>\n",
       "      <td>19</td>\n",
       "      <td>12</td>\n",
       "    </tr>\n",
       "    <tr>\n",
       "      <th>8</th>\n",
       "      <td>15</td>\n",
       "      <td>9</td>\n",
       "    </tr>\n",
       "    <tr>\n",
       "      <th>9</th>\n",
       "      <td>16</td>\n",
       "      <td>11</td>\n",
       "    </tr>\n",
       "    <tr>\n",
       "      <th>10</th>\n",
       "      <td>12</td>\n",
       "      <td>14</td>\n",
       "    </tr>\n",
       "    <tr>\n",
       "      <th>11</th>\n",
       "      <td>15</td>\n",
       "      <td>13</td>\n",
       "    </tr>\n",
       "    <tr>\n",
       "      <th>12</th>\n",
       "      <td>17</td>\n",
       "      <td>9</td>\n",
       "    </tr>\n",
       "    <tr>\n",
       "      <th>13</th>\n",
       "      <td>15</td>\n",
       "      <td>11</td>\n",
       "    </tr>\n",
       "    <tr>\n",
       "      <th>14</th>\n",
       "      <td>15</td>\n",
       "      <td>12</td>\n",
       "    </tr>\n",
       "    <tr>\n",
       "      <th>15</th>\n",
       "      <td>12</td>\n",
       "      <td>11</td>\n",
       "    </tr>\n",
       "    <tr>\n",
       "      <th>16</th>\n",
       "      <td>17</td>\n",
       "      <td>10</td>\n",
       "    </tr>\n",
       "    <tr>\n",
       "      <th>17</th>\n",
       "      <td>17</td>\n",
       "      <td>11</td>\n",
       "    </tr>\n",
       "    <tr>\n",
       "      <th>18</th>\n",
       "      <td>18</td>\n",
       "      <td>9</td>\n",
       "    </tr>\n",
       "    <tr>\n",
       "      <th>19</th>\n",
       "      <td>13</td>\n",
       "      <td>8</td>\n",
       "    </tr>\n",
       "    <tr>\n",
       "      <th>20</th>\n",
       "      <td>13</td>\n",
       "      <td>8</td>\n",
       "    </tr>\n",
       "    <tr>\n",
       "      <th>21</th>\n",
       "      <td>17</td>\n",
       "      <td>8</td>\n",
       "    </tr>\n",
       "    <tr>\n",
       "      <th>22</th>\n",
       "      <td>19</td>\n",
       "      <td>9</td>\n",
       "    </tr>\n",
       "    <tr>\n",
       "      <th>23</th>\n",
       "      <td>16</td>\n",
       "      <td>13</td>\n",
       "    </tr>\n",
       "    <tr>\n",
       "      <th>24</th>\n",
       "      <td>17</td>\n",
       "      <td>10</td>\n",
       "    </tr>\n",
       "    <tr>\n",
       "      <th>25</th>\n",
       "      <td>14</td>\n",
       "      <td>5</td>\n",
       "    </tr>\n",
       "    <tr>\n",
       "      <th>26</th>\n",
       "      <td>14</td>\n",
       "      <td>9</td>\n",
       "    </tr>\n",
       "    <tr>\n",
       "      <th>27</th>\n",
       "      <td>15</td>\n",
       "      <td>10</td>\n",
       "    </tr>\n",
       "    <tr>\n",
       "      <th>28</th>\n",
       "      <td>16</td>\n",
       "      <td>7</td>\n",
       "    </tr>\n",
       "    <tr>\n",
       "      <th>29</th>\n",
       "      <td>14</td>\n",
       "      <td>12</td>\n",
       "    </tr>\n",
       "    <tr>\n",
       "      <th>...</th>\n",
       "      <td>...</td>\n",
       "      <td>...</td>\n",
       "    </tr>\n",
       "    <tr>\n",
       "      <th>335</th>\n",
       "      <td>17</td>\n",
       "      <td>8</td>\n",
       "    </tr>\n",
       "    <tr>\n",
       "      <th>336</th>\n",
       "      <td>15</td>\n",
       "      <td>11</td>\n",
       "    </tr>\n",
       "    <tr>\n",
       "      <th>337</th>\n",
       "      <td>14</td>\n",
       "      <td>13</td>\n",
       "    </tr>\n",
       "    <tr>\n",
       "      <th>338</th>\n",
       "      <td>13</td>\n",
       "      <td>8</td>\n",
       "    </tr>\n",
       "    <tr>\n",
       "      <th>339</th>\n",
       "      <td>14</td>\n",
       "      <td>13</td>\n",
       "    </tr>\n",
       "    <tr>\n",
       "      <th>340</th>\n",
       "      <td>14</td>\n",
       "      <td>7</td>\n",
       "    </tr>\n",
       "    <tr>\n",
       "      <th>341</th>\n",
       "      <td>13</td>\n",
       "      <td>10</td>\n",
       "    </tr>\n",
       "    <tr>\n",
       "      <th>342</th>\n",
       "      <td>11</td>\n",
       "      <td>8</td>\n",
       "    </tr>\n",
       "    <tr>\n",
       "      <th>343</th>\n",
       "      <td>19</td>\n",
       "      <td>10</td>\n",
       "    </tr>\n",
       "    <tr>\n",
       "      <th>344</th>\n",
       "      <td>14</td>\n",
       "      <td>7</td>\n",
       "    </tr>\n",
       "    <tr>\n",
       "      <th>345</th>\n",
       "      <td>14</td>\n",
       "      <td>12</td>\n",
       "    </tr>\n",
       "    <tr>\n",
       "      <th>346</th>\n",
       "      <td>16</td>\n",
       "      <td>10</td>\n",
       "    </tr>\n",
       "    <tr>\n",
       "      <th>347</th>\n",
       "      <td>17</td>\n",
       "      <td>7</td>\n",
       "    </tr>\n",
       "    <tr>\n",
       "      <th>348</th>\n",
       "      <td>16</td>\n",
       "      <td>8</td>\n",
       "    </tr>\n",
       "    <tr>\n",
       "      <th>349</th>\n",
       "      <td>16</td>\n",
       "      <td>10</td>\n",
       "    </tr>\n",
       "    <tr>\n",
       "      <th>350</th>\n",
       "      <td>18</td>\n",
       "      <td>13</td>\n",
       "    </tr>\n",
       "    <tr>\n",
       "      <th>351</th>\n",
       "      <td>14</td>\n",
       "      <td>11</td>\n",
       "    </tr>\n",
       "    <tr>\n",
       "      <th>352</th>\n",
       "      <td>11</td>\n",
       "      <td>9</td>\n",
       "    </tr>\n",
       "    <tr>\n",
       "      <th>353</th>\n",
       "      <td>17</td>\n",
       "      <td>6</td>\n",
       "    </tr>\n",
       "    <tr>\n",
       "      <th>354</th>\n",
       "      <td>16</td>\n",
       "      <td>9</td>\n",
       "    </tr>\n",
       "    <tr>\n",
       "      <th>355</th>\n",
       "      <td>13</td>\n",
       "      <td>7</td>\n",
       "    </tr>\n",
       "    <tr>\n",
       "      <th>356</th>\n",
       "      <td>18</td>\n",
       "      <td>11</td>\n",
       "    </tr>\n",
       "    <tr>\n",
       "      <th>357</th>\n",
       "      <td>15</td>\n",
       "      <td>10</td>\n",
       "    </tr>\n",
       "    <tr>\n",
       "      <th>358</th>\n",
       "      <td>14</td>\n",
       "      <td>8</td>\n",
       "    </tr>\n",
       "    <tr>\n",
       "      <th>359</th>\n",
       "      <td>15</td>\n",
       "      <td>8</td>\n",
       "    </tr>\n",
       "    <tr>\n",
       "      <th>360</th>\n",
       "      <td>14</td>\n",
       "      <td>6</td>\n",
       "    </tr>\n",
       "    <tr>\n",
       "      <th>361</th>\n",
       "      <td>17</td>\n",
       "      <td>10</td>\n",
       "    </tr>\n",
       "    <tr>\n",
       "      <th>362</th>\n",
       "      <td>13</td>\n",
       "      <td>11</td>\n",
       "    </tr>\n",
       "    <tr>\n",
       "      <th>363</th>\n",
       "      <td>15</td>\n",
       "      <td>9</td>\n",
       "    </tr>\n",
       "    <tr>\n",
       "      <th>364</th>\n",
       "      <td>16</td>\n",
       "      <td>5</td>\n",
       "    </tr>\n",
       "  </tbody>\n",
       "</table>\n",
       "<p>365 rows × 2 columns</p>\n",
       "</div>"
      ],
      "text/plain": [
       "     maleInfection  femaleInfection\n",
       "0               13               15\n",
       "1               17               10\n",
       "2               15                9\n",
       "3               13               12\n",
       "4               13               11\n",
       "5               15                4\n",
       "6               14                9\n",
       "7               19               12\n",
       "8               15                9\n",
       "9               16               11\n",
       "10              12               14\n",
       "11              15               13\n",
       "12              17                9\n",
       "13              15               11\n",
       "14              15               12\n",
       "15              12               11\n",
       "16              17               10\n",
       "17              17               11\n",
       "18              18                9\n",
       "19              13                8\n",
       "20              13                8\n",
       "21              17                8\n",
       "22              19                9\n",
       "23              16               13\n",
       "24              17               10\n",
       "25              14                5\n",
       "26              14                9\n",
       "27              15               10\n",
       "28              16                7\n",
       "29              14               12\n",
       "..             ...              ...\n",
       "335             17                8\n",
       "336             15               11\n",
       "337             14               13\n",
       "338             13                8\n",
       "339             14               13\n",
       "340             14                7\n",
       "341             13               10\n",
       "342             11                8\n",
       "343             19               10\n",
       "344             14                7\n",
       "345             14               12\n",
       "346             16               10\n",
       "347             17                7\n",
       "348             16                8\n",
       "349             16               10\n",
       "350             18               13\n",
       "351             14               11\n",
       "352             11                9\n",
       "353             17                6\n",
       "354             16                9\n",
       "355             13                7\n",
       "356             18               11\n",
       "357             15               10\n",
       "358             14                8\n",
       "359             15                8\n",
       "360             14                6\n",
       "361             17               10\n",
       "362             13               11\n",
       "363             15                9\n",
       "364             16                5\n",
       "\n",
       "[365 rows x 2 columns]"
      ]
     },
     "execution_count": 20,
     "metadata": {},
     "output_type": "execute_result"
    }
   ],
   "source": [
    "# Fake data for daily infection of males and females\n",
    "infection = pd.DataFrame({\"maleInfection\": np.random.binomial(25, .62, 365), \"femaleInfection\": np.random.binomial(25, .38, 365)})\n",
    "infection"
   ]
  },
  {
   "cell_type": "code",
   "execution_count": 22,
   "metadata": {},
   "outputs": [
    {
     "data": {
      "text/plain": [
       "maleInfection      5644\n",
       "femaleInfection    3496\n",
       "dtype: int64"
      ]
     },
     "execution_count": 22,
     "metadata": {},
     "output_type": "execute_result"
    }
   ],
   "source": [
    "infection.sum()"
   ]
  },
  {
   "cell_type": "code",
   "execution_count": 23,
   "metadata": {},
   "outputs": [
    {
     "data": {
      "text/html": [
       "<div>\n",
       "<style scoped>\n",
       "    .dataframe tbody tr th:only-of-type {\n",
       "        vertical-align: middle;\n",
       "    }\n",
       "\n",
       "    .dataframe tbody tr th {\n",
       "        vertical-align: top;\n",
       "    }\n",
       "\n",
       "    .dataframe thead th {\n",
       "        text-align: right;\n",
       "    }\n",
       "</style>\n",
       "<table border=\"1\" class=\"dataframe\">\n",
       "  <thead>\n",
       "    <tr style=\"text-align: right;\">\n",
       "      <th></th>\n",
       "      <th>maleInfection</th>\n",
       "      <th>femaleInfection</th>\n",
       "    </tr>\n",
       "  </thead>\n",
       "  <tbody>\n",
       "    <tr>\n",
       "      <th>count</th>\n",
       "      <td>365.000000</td>\n",
       "      <td>365.000000</td>\n",
       "    </tr>\n",
       "    <tr>\n",
       "      <th>mean</th>\n",
       "      <td>15.463014</td>\n",
       "      <td>9.578082</td>\n",
       "    </tr>\n",
       "    <tr>\n",
       "      <th>std</th>\n",
       "      <td>2.246334</td>\n",
       "      <td>2.434315</td>\n",
       "    </tr>\n",
       "    <tr>\n",
       "      <th>min</th>\n",
       "      <td>10.000000</td>\n",
       "      <td>3.000000</td>\n",
       "    </tr>\n",
       "    <tr>\n",
       "      <th>25%</th>\n",
       "      <td>14.000000</td>\n",
       "      <td>8.000000</td>\n",
       "    </tr>\n",
       "    <tr>\n",
       "      <th>50%</th>\n",
       "      <td>15.000000</td>\n",
       "      <td>9.000000</td>\n",
       "    </tr>\n",
       "    <tr>\n",
       "      <th>75%</th>\n",
       "      <td>17.000000</td>\n",
       "      <td>11.000000</td>\n",
       "    </tr>\n",
       "    <tr>\n",
       "      <th>max</th>\n",
       "      <td>22.000000</td>\n",
       "      <td>19.000000</td>\n",
       "    </tr>\n",
       "  </tbody>\n",
       "</table>\n",
       "</div>"
      ],
      "text/plain": [
       "       maleInfection  femaleInfection\n",
       "count     365.000000       365.000000\n",
       "mean       15.463014         9.578082\n",
       "std         2.246334         2.434315\n",
       "min        10.000000         3.000000\n",
       "25%        14.000000         8.000000\n",
       "50%        15.000000         9.000000\n",
       "75%        17.000000        11.000000\n",
       "max        22.000000        19.000000"
      ]
     },
     "execution_count": 23,
     "metadata": {},
     "output_type": "execute_result"
    }
   ],
   "source": [
    "infection.describe()"
   ]
  },
  {
   "cell_type": "code",
   "execution_count": null,
   "metadata": {},
   "outputs": [],
   "source": []
  },
  {
   "cell_type": "code",
   "execution_count": null,
   "metadata": {},
   "outputs": [],
   "source": []
  }
 ],
 "metadata": {
  "kernelspec": {
   "display_name": "Python 3",
   "language": "python",
   "name": "python3"
  },
  "language_info": {
   "codemirror_mode": {
    "name": "ipython",
    "version": 3
   },
   "file_extension": ".py",
   "mimetype": "text/x-python",
   "name": "python",
   "nbconvert_exporter": "python",
   "pygments_lexer": "ipython3",
   "version": "3.6.5"
  }
 },
 "nbformat": 4,
 "nbformat_minor": 2
}
