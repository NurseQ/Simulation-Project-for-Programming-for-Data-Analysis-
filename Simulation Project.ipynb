{
 "cells": [
  {
   "cell_type": "code",
   "execution_count": 1,
   "metadata": {},
   "outputs": [],
   "source": [
    "import numpy as np\n",
    "import matplotlib.pyplot as plt"
   ]
  },
  {
   "cell_type": "code",
   "execution_count": 2,
   "metadata": {},
   "outputs": [],
   "source": [
    "%matplotlib inline"
   ]
  },
  {
   "cell_type": "code",
   "execution_count": 3,
   "metadata": {},
   "outputs": [
    {
     "data": {
      "text/plain": [
       "array([0.1097976 , 0.61009943, 0.45405558, 0.49869905, 0.21025076,\n",
       "       0.40171174, 0.58109066, 0.05876526, 0.7967665 , 0.08969643,\n",
       "       0.01250473, 0.72228946, 0.42870287, 0.97687892, 0.09073704,\n",
       "       0.66123346, 0.49591748, 0.82924983, 0.35131973, 0.91210098,\n",
       "       0.86500922, 0.20354131, 0.84140029, 0.48055247, 0.70268306,\n",
       "       0.75436868, 0.73061399, 0.53972162, 0.15446373, 0.36027973,\n",
       "       0.90825925, 0.89266582, 0.04426236, 0.09293175, 0.25695941,\n",
       "       0.76570312, 0.93862225, 0.24216096, 0.44730912, 0.10753301,\n",
       "       0.12979198, 0.1806088 , 0.82000176, 0.30373617, 0.32267315,\n",
       "       0.61372979, 0.695286  , 0.85132141, 0.59422225, 0.94057038,\n",
       "       0.90987014, 0.6316041 , 0.30953311, 0.05599747, 0.97208122,\n",
       "       0.46403129, 0.3099645 , 0.49700357, 0.05053611, 0.45312502,\n",
       "       0.38398416, 0.5719109 , 0.67763503, 0.15782787, 0.78800536,\n",
       "       0.82109038, 0.64991177, 0.43056213, 0.12922625, 0.33127736,\n",
       "       0.7700375 , 0.18309737, 0.40668994, 0.44101449, 0.44202045,\n",
       "       0.15145967, 0.24991569, 0.74564938, 0.61471428, 0.34094933,\n",
       "       0.62698325, 0.11976499, 0.55209809, 0.76337183, 0.7191786 ,\n",
       "       0.35323356, 0.67601095, 0.87490285, 0.54801212, 0.7677938 ,\n",
       "       0.70871198, 0.66860206, 0.45253505, 0.62634837, 0.4346345 ,\n",
       "       0.0893846 , 0.71041259, 0.43596918, 0.45196077, 0.13259808])"
      ]
     },
     "execution_count": 3,
     "metadata": {},
     "output_type": "execute_result"
    }
   ],
   "source": [
    "np.random.rand(100)"
   ]
  },
  {
   "cell_type": "code",
   "execution_count": 4,
   "metadata": {},
   "outputs": [],
   "source": [
    "n, p = 10, .5  # number of trials, probability of each trial\n",
    "s = np.random.binomial(n, p, 500 )"
   ]
  },
  {
   "cell_type": "code",
   "execution_count": 5,
   "metadata": {},
   "outputs": [
    {
     "data": {
      "text/plain": [
       "array([4, 3, 6, 5, 5, 2, 1, 5, 4, 3, 3, 6, 6, 6, 6, 2, 3, 7, 6, 5, 7, 4,\n",
       "       6, 4, 4, 5, 6, 5, 5, 6, 4, 4, 8, 3, 6, 5, 2, 3, 6, 6, 2, 4, 4, 6,\n",
       "       7, 4, 6, 4, 4, 6, 4, 2, 5, 3, 4, 7, 3, 3, 2, 5, 5, 5, 2, 4, 5, 1,\n",
       "       6, 5, 6, 5, 5, 7, 5, 6, 4, 5, 6, 7, 5, 7, 5, 6, 8, 6, 6, 4, 7, 5,\n",
       "       6, 8, 5, 5, 4, 3, 9, 7, 7, 4, 6, 6, 6, 5, 2, 7, 3, 5, 5, 5, 5, 6,\n",
       "       4, 8, 5, 0, 5, 7, 6, 9, 5, 5, 5, 7, 9, 6, 5, 7, 4, 6, 4, 4, 7, 6,\n",
       "       7, 7, 6, 6, 5, 4, 3, 7, 6, 4, 5, 5, 7, 3, 3, 5, 8, 6, 6, 6, 2, 3,\n",
       "       3, 6, 6, 5, 4, 6, 5, 5, 3, 3, 4, 6, 4, 7, 4, 6, 4, 5, 6, 4, 6, 4,\n",
       "       5, 7, 4, 4, 7, 5, 5, 4, 2, 5, 5, 5, 6, 6, 1, 5, 4, 3, 4, 9, 4, 4,\n",
       "       4, 3, 5, 6, 7, 5, 6, 4, 5, 5, 7, 6, 5, 5, 5, 4, 8, 6, 4, 8, 2, 4,\n",
       "       5, 4, 9, 4, 0, 6, 6, 7, 6, 4, 6, 4, 6, 5, 6, 7, 6, 5, 3, 6, 5, 4,\n",
       "       6, 5, 5, 3, 3, 5, 3, 6, 2, 5, 6, 6, 6, 6, 6, 3, 4, 5, 4, 6, 4, 7,\n",
       "       6, 4, 5, 3, 2, 6, 6, 5, 6, 5, 6, 6, 7, 5, 6, 7, 6, 5, 4, 5, 4, 1,\n",
       "       4, 8, 7, 4, 1, 6, 5, 4, 8, 6, 4, 5, 5, 6, 6, 4, 5, 4, 6, 6, 6, 3,\n",
       "       4, 7, 4, 5, 8, 5, 3, 4, 3, 4, 7, 6, 5, 4, 6, 6, 5, 5, 6, 3, 3, 4,\n",
       "       3, 7, 7, 6, 5, 3, 5, 5, 4, 3, 6, 7, 4, 3, 4, 3, 4, 6, 6, 2, 5, 6,\n",
       "       4, 6, 6, 4, 2, 5, 3, 4, 1, 6, 4, 4, 1, 3, 1, 6, 2, 5, 3, 3, 6, 1,\n",
       "       6, 7, 4, 3, 5, 5, 3, 2, 5, 4, 3, 3, 5, 6, 7, 6, 4, 5, 7, 7, 5, 9,\n",
       "       4, 5, 7, 6, 9, 2, 5, 5, 4, 3, 5, 3, 4, 5, 6, 4, 6, 3, 3, 7, 4, 5,\n",
       "       5, 7, 3, 5, 5, 5, 3, 7, 7, 4, 4, 5, 3, 4, 4, 6, 6, 6, 5, 4, 6, 8,\n",
       "       4, 4, 3, 8, 4, 3, 4, 4, 5, 4, 5, 4, 3, 4, 3, 5, 5, 5, 6, 4, 4, 4,\n",
       "       4, 6, 5, 5, 6, 6, 5, 5, 7, 5, 8, 7, 2, 3, 5, 8, 4, 4, 4, 4, 4, 8,\n",
       "       6, 5, 6, 6, 7, 5, 4, 3, 4, 5, 6, 6, 3, 6, 7, 3])"
      ]
     },
     "execution_count": 5,
     "metadata": {},
     "output_type": "execute_result"
    }
   ],
   "source": [
    "s"
   ]
  },
  {
   "cell_type": "code",
   "execution_count": 6,
   "metadata": {},
   "outputs": [
    {
     "data": {
      "text/plain": [
       "(array([  2.,   9.,  19.,  59., 108., 118., 115.,  48.,  15.,   7.]),\n",
       " array([0. , 0.9, 1.8, 2.7, 3.6, 4.5, 5.4, 6.3, 7.2, 8.1, 9. ]),\n",
       " <a list of 10 Patch objects>)"
      ]
     },
     "execution_count": 6,
     "metadata": {},
     "output_type": "execute_result"
    },
    {
     "data": {
      "image/png": "[encoded data removed]",
      "text/plain": [
       "<Figure size 432x288 with 1 Axes>"
      ]
     },
     "metadata": {},
     "output_type": "display_data"
    }
   ],
   "source": [
    "plt.hist(s)"
   ]
  },
  {
   "cell_type": "code",
   "execution_count": 8,
   "metadata": {},
   "outputs": [
    {
     "data": {
      "text/plain": [
       "4.91"
      ]
     },
     "execution_count": 8,
     "metadata": {},
     "output_type": "execute_result"
    }
   ],
   "source": [
    "s.mean()"
   ]
  },
  {
   "cell_type": "code",
   "execution_count": 12,
   "metadata": {},
   "outputs": [],
   "source": [
    "x = np.array([872,758,808,789,757,741,785,731,650,681,708,721])\n",
    "a = x.mean()\n",
    "b = x.std()\n"
   ]
  },
  {
   "cell_type": "code",
   "execution_count": 10,
   "metadata": {},
   "outputs": [
    {
     "data": {
      "text/plain": [
       "56.94655145153411"
      ]
     },
     "execution_count": 10,
     "metadata": {},
     "output_type": "execute_result"
    }
   ],
   "source": [
    "b"
   ]
  },
  {
   "cell_type": "code",
   "execution_count": 13,
   "metadata": {},
   "outputs": [
    {
     "data": {
      "text/plain": [
       "750.0833333333334"
      ]
     },
     "execution_count": 13,
     "metadata": {},
     "output_type": "execute_result"
    }
   ],
   "source": [
    "a"
   ]
  },
  {
   "cell_type": "code",
   "execution_count": null,
   "metadata": {},
   "outputs": [],
   "source": []
  }
 ],
 "metadata": {
  "kernelspec": {
   "display_name": "Python 3",
   "language": "python",
   "name": "python3"
  },
  "language_info": {
   "codemirror_mode": {
    "name": "ipython",
    "version": 3
   },
   "file_extension": ".py",
   "mimetype": "text/x-python",
   "name": "python",
   "nbconvert_exporter": "python",
   "pygments_lexer": "ipython3",
   "version": "3.6.5"
  }
 },
 "nbformat": 4,
 "nbformat_minor": 2
}
