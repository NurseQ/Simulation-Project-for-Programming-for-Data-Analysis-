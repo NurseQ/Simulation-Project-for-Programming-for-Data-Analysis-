{
 "cells": [
  {
   "cell_type": "markdown",
   "metadata": {},
   "source": [
    "# Programming for Data Analysis Project 2018\n",
    "\n",
    "This jupyter notebook contains a project for the course Programming for Data Analysis. This project will attempt to model and synthesize data from a real-world phenomenon. It also investigates the types of variables involved and the relationships of the variables with each other.\n",
    "\n",
    "The phenomenon chosen for this project is based on a research paper [1] to determine the short term risk of death in people following healthcare-related MRSA infection. The data represents the number of people who are infected with MRSA and grouped across gender, age, and mortality within 7 and 30 days post infection.  \n",
    "\n",
    "\n",
    "\n",
    "## References\n",
    "\n",
    "[1]  Lamagni TL, Potz N, Powell D, Pebody R, Wilson J, Duckworth G, Mortality in patients with meticillin-resistant   \n",
    "     Staphylococcus aureus bacteraemia, England 2004-2005. Journal of Hospital Infection, 2010. \n",
    "\n",
    "[2]  Allard C, Carignan A, Bergevin M, et al. Secular changes in incidence and mortality associated with Staphylococcus \n",
    "     aureus bacteraemia in Quebec, Canada, 1991e2005. Clin Microbiol Infect 2008;14:421e428."
   ]
  },
  {
   "cell_type": "code",
   "execution_count": 1,
   "metadata": {},
   "outputs": [],
   "source": [
    "# import the packages to be used in the notebook\n",
    "import pandas as pd\n",
    "import seaborn as sns\n",
    "import numpy as np\n",
    "import matplotlib.pyplot as plt"
   ]
  },
  {
   "cell_type": "code",
   "execution_count": 2,
   "metadata": {},
   "outputs": [],
   "source": [
    "%matplotlib inline"
   ]
  },
  {
   "cell_type": "markdown",
   "metadata": {},
   "source": [
    "### Initial calculations on the data from the research paper. "
   ]
  },
  {
   "cell_type": "code",
   "execution_count": 3,
   "metadata": {},
   "outputs": [],
   "source": [
    "# Data from the study\n",
    "infectedmale = 5575\n",
    "infectedfemale = 3426\n",
    "malemort = 2105\n",
    "femalemort = 1345\n",
    "female_7day_mort = 750\n",
    "male_7day_mort = 1075\n",
    "female_30day_mort = 1345\n",
    "male_30day_mort = 2105\n",
    "mortalityrate = (malemort + femalemort) / (infectedmale + infectedfemale)"
   ]
  },
  {
   "cell_type": "code",
   "execution_count": 4,
   "metadata": {},
   "outputs": [
    {
     "data": {
      "text/plain": [
       "9001"
      ]
     },
     "execution_count": 4,
     "metadata": {},
     "output_type": "execute_result"
    }
   ],
   "source": [
    "totalInfection = infectedmale + infectedfemale\n",
    "totalInfection"
   ]
  },
  {
   "cell_type": "code",
   "execution_count": 5,
   "metadata": {},
   "outputs": [
    {
     "data": {
      "text/plain": [
       "0.38329074547272524"
      ]
     },
     "execution_count": 5,
     "metadata": {},
     "output_type": "execute_result"
    }
   ],
   "source": [
    "mortalityrate"
   ]
  },
  {
   "cell_type": "code",
   "execution_count": 6,
   "metadata": {},
   "outputs": [
    {
     "data": {
      "text/plain": [
       "0.6193756249305633"
      ]
     },
     "execution_count": 6,
     "metadata": {},
     "output_type": "execute_result"
    }
   ],
   "source": [
    "maleInfectionRate = infectedmale / totalInfection\n",
    "maleInfectionRate"
   ]
  },
  {
   "cell_type": "code",
   "execution_count": 7,
   "metadata": {},
   "outputs": [
    {
     "data": {
      "text/plain": [
       "0.38062437506943675"
      ]
     },
     "execution_count": 7,
     "metadata": {},
     "output_type": "execute_result"
    }
   ],
   "source": [
    "femaleInfectionRate = infectedfemale / totalInfection\n",
    "femaleInfectionRate"
   ]
  },
  {
   "cell_type": "code",
   "execution_count": 8,
   "metadata": {},
   "outputs": [
    {
     "data": {
      "text/plain": [
       "3450"
      ]
     },
     "execution_count": 8,
     "metadata": {},
     "output_type": "execute_result"
    }
   ],
   "source": [
    "totalmort = malemort + femalemort\n",
    "totalmort"
   ]
  },
  {
   "cell_type": "markdown",
   "metadata": {},
   "source": [
    "#### There appears to be a higher risk of mortality in females within 7 days post infection. The study has no clear explanation for the phenomenon. This was also the case in a Canadian study [2]."
   ]
  },
  {
   "cell_type": "code",
   "execution_count": 9,
   "metadata": {
    "scrolled": true
   },
   "outputs": [
    {
     "data": {
      "text/plain": [
       "0.19282511210762332"
      ]
     },
     "execution_count": 9,
     "metadata": {},
     "output_type": "execute_result"
    }
   ],
   "source": [
    "ratio_male7daymort = male_7day_mort/infectedmale\n",
    "ratio_male7daymort"
   ]
  },
  {
   "cell_type": "code",
   "execution_count": 10,
   "metadata": {},
   "outputs": [
    {
     "data": {
      "text/plain": [
       "0.21891418563922943"
      ]
     },
     "execution_count": 10,
     "metadata": {},
     "output_type": "execute_result"
    }
   ],
   "source": [
    "ratio_female7daymort = female_7day_mort/infectedfemale\n",
    "ratio_female7daymort"
   ]
  },
  {
   "cell_type": "markdown",
   "metadata": {},
   "source": [
    "####  There is no significant increased risk of mortality in females than males within 30 days post infection in the study."
   ]
  },
  {
   "cell_type": "code",
   "execution_count": 11,
   "metadata": {},
   "outputs": [
    {
     "data": {
      "text/plain": [
       "0.3775784753363229"
      ]
     },
     "execution_count": 11,
     "metadata": {},
     "output_type": "execute_result"
    }
   ],
   "source": [
    "ratio_male30daymort = male_30day_mort/infectedmale\n",
    "ratio_male30daymort"
   ]
  },
  {
   "cell_type": "code",
   "execution_count": 12,
   "metadata": {},
   "outputs": [
    {
     "data": {
      "text/plain": [
       "0.39258610624635143"
      ]
     },
     "execution_count": 12,
     "metadata": {},
     "output_type": "execute_result"
    }
   ],
   "source": [
    "ratio_female30daymort = female_30day_mort/infectedfemale\n",
    "ratio_female30daymort"
   ]
  },
  {
   "cell_type": "markdown",
   "metadata": {},
   "source": [
    "#### Overall expected mortality ratios "
   ]
  },
  {
   "cell_type": "code",
   "execution_count": 13,
   "metadata": {},
   "outputs": [
    {
     "data": {
      "text/plain": [
       "2136.8459060104433"
      ]
     },
     "execution_count": 13,
     "metadata": {},
     "output_type": "execute_result"
    }
   ],
   "source": [
    "# The study finds lower mortality in men overall than women \n",
    "expectedmalemort = infectedmale * mortalityrate\n",
    "expectedmalemort"
   ]
  },
  {
   "cell_type": "code",
   "execution_count": 14,
   "metadata": {},
   "outputs": [
    {
     "data": {
      "text/plain": [
       "1313.1540939895567"
      ]
     },
     "execution_count": 14,
     "metadata": {},
     "output_type": "execute_result"
    }
   ],
   "source": [
    "expectedfemalemort = infectedfemale * mortalityrate\n",
    "expectedfemalemort"
   ]
  },
  {
   "cell_type": "code",
   "execution_count": null,
   "metadata": {},
   "outputs": [],
   "source": []
  },
  {
   "cell_type": "markdown",
   "metadata": {},
   "source": [
    "### DataFrame created from the data of the study showing the number of infections per month, and mortality within 7 and 30 days of infection."
   ]
  },
  {
   "cell_type": "code",
   "execution_count": 15,
   "metadata": {},
   "outputs": [],
   "source": [
    "monthlymort = pd.DataFrame({'Month': ['Jan', 'Feb', 'Mar', 'Apr', 'May', 'Jun', 'Jul', 'Aug', 'Sep', 'Oct', 'Nov', 'Dec'], \"MRSA infection\": (872, 758, 808, 789, 757, 741, 785, 731, 650, 681,708, 721),\"7 day mortality\": (207, 176, 184, 162, 148, 143, 147, 123, 115, 133, 139, 148), \"30 day mortality\": (385, 318, 332, 299, 287, 292, 281, 235, 231, 259, 253, 278)})"
   ]
  },
  {
   "cell_type": "code",
   "execution_count": 16,
   "metadata": {
    "scrolled": false
   },
   "outputs": [
    {
     "data": {
      "text/html": [
       "<div>\n",
       "<style scoped>\n",
       "    .dataframe tbody tr th:only-of-type {\n",
       "        vertical-align: middle;\n",
       "    }\n",
       "\n",
       "    .dataframe tbody tr th {\n",
       "        vertical-align: top;\n",
       "    }\n",
       "\n",
       "    .dataframe thead th {\n",
       "        text-align: right;\n",
       "    }\n",
       "</style>\n",
       "<table border=\"1\" class=\"dataframe\">\n",
       "  <thead>\n",
       "    <tr style=\"text-align: right;\">\n",
       "      <th></th>\n",
       "      <th>Month</th>\n",
       "      <th>MRSA infection</th>\n",
       "      <th>7 day mortality</th>\n",
       "      <th>30 day mortality</th>\n",
       "      <th>monthly_M_Infection</th>\n",
       "      <th>monthly_F_Infection</th>\n",
       "    </tr>\n",
       "  </thead>\n",
       "  <tbody>\n",
       "    <tr>\n",
       "      <th>0</th>\n",
       "      <td>Jan</td>\n",
       "      <td>872</td>\n",
       "      <td>207</td>\n",
       "      <td>385</td>\n",
       "      <td>540.095545</td>\n",
       "      <td>331.904455</td>\n",
       "    </tr>\n",
       "    <tr>\n",
       "      <th>1</th>\n",
       "      <td>Feb</td>\n",
       "      <td>758</td>\n",
       "      <td>176</td>\n",
       "      <td>318</td>\n",
       "      <td>469.486724</td>\n",
       "      <td>288.513276</td>\n",
       "    </tr>\n",
       "    <tr>\n",
       "      <th>2</th>\n",
       "      <td>Mar</td>\n",
       "      <td>808</td>\n",
       "      <td>184</td>\n",
       "      <td>332</td>\n",
       "      <td>500.455505</td>\n",
       "      <td>307.544495</td>\n",
       "    </tr>\n",
       "    <tr>\n",
       "      <th>3</th>\n",
       "      <td>Apr</td>\n",
       "      <td>789</td>\n",
       "      <td>162</td>\n",
       "      <td>299</td>\n",
       "      <td>488.687368</td>\n",
       "      <td>300.312632</td>\n",
       "    </tr>\n",
       "    <tr>\n",
       "      <th>4</th>\n",
       "      <td>May</td>\n",
       "      <td>757</td>\n",
       "      <td>148</td>\n",
       "      <td>287</td>\n",
       "      <td>468.867348</td>\n",
       "      <td>288.132652</td>\n",
       "    </tr>\n",
       "    <tr>\n",
       "      <th>5</th>\n",
       "      <td>Jun</td>\n",
       "      <td>741</td>\n",
       "      <td>143</td>\n",
       "      <td>292</td>\n",
       "      <td>458.957338</td>\n",
       "      <td>282.042662</td>\n",
       "    </tr>\n",
       "    <tr>\n",
       "      <th>6</th>\n",
       "      <td>Jul</td>\n",
       "      <td>785</td>\n",
       "      <td>147</td>\n",
       "      <td>281</td>\n",
       "      <td>486.209866</td>\n",
       "      <td>298.790134</td>\n",
       "    </tr>\n",
       "    <tr>\n",
       "      <th>7</th>\n",
       "      <td>Aug</td>\n",
       "      <td>731</td>\n",
       "      <td>123</td>\n",
       "      <td>235</td>\n",
       "      <td>452.763582</td>\n",
       "      <td>278.236418</td>\n",
       "    </tr>\n",
       "    <tr>\n",
       "      <th>8</th>\n",
       "      <td>Sep</td>\n",
       "      <td>650</td>\n",
       "      <td>115</td>\n",
       "      <td>231</td>\n",
       "      <td>402.594156</td>\n",
       "      <td>247.405844</td>\n",
       "    </tr>\n",
       "    <tr>\n",
       "      <th>9</th>\n",
       "      <td>Oct</td>\n",
       "      <td>681</td>\n",
       "      <td>133</td>\n",
       "      <td>259</td>\n",
       "      <td>421.794801</td>\n",
       "      <td>259.205199</td>\n",
       "    </tr>\n",
       "    <tr>\n",
       "      <th>10</th>\n",
       "      <td>Nov</td>\n",
       "      <td>708</td>\n",
       "      <td>139</td>\n",
       "      <td>253</td>\n",
       "      <td>438.517942</td>\n",
       "      <td>269.482058</td>\n",
       "    </tr>\n",
       "    <tr>\n",
       "      <th>11</th>\n",
       "      <td>Dec</td>\n",
       "      <td>721</td>\n",
       "      <td>148</td>\n",
       "      <td>278</td>\n",
       "      <td>446.569826</td>\n",
       "      <td>274.430174</td>\n",
       "    </tr>\n",
       "  </tbody>\n",
       "</table>\n",
       "</div>"
      ],
      "text/plain": [
       "   Month  MRSA infection  7 day mortality  30 day mortality  \\\n",
       "0    Jan             872              207               385   \n",
       "1    Feb             758              176               318   \n",
       "2    Mar             808              184               332   \n",
       "3    Apr             789              162               299   \n",
       "4    May             757              148               287   \n",
       "5    Jun             741              143               292   \n",
       "6    Jul             785              147               281   \n",
       "7    Aug             731              123               235   \n",
       "8    Sep             650              115               231   \n",
       "9    Oct             681              133               259   \n",
       "10   Nov             708              139               253   \n",
       "11   Dec             721              148               278   \n",
       "\n",
       "    monthly_M_Infection  monthly_F_Infection  \n",
       "0            540.095545           331.904455  \n",
       "1            469.486724           288.513276  \n",
       "2            500.455505           307.544495  \n",
       "3            488.687368           300.312632  \n",
       "4            468.867348           288.132652  \n",
       "5            458.957338           282.042662  \n",
       "6            486.209866           298.790134  \n",
       "7            452.763582           278.236418  \n",
       "8            402.594156           247.405844  \n",
       "9            421.794801           259.205199  \n",
       "10           438.517942           269.482058  \n",
       "11           446.569826           274.430174  "
      ]
     },
     "execution_count": 16,
     "metadata": {},
     "output_type": "execute_result"
    }
   ],
   "source": [
    "# Include in the DataFrame probable division of MRSA infection between gender\n",
    "\n",
    "monthlymort['monthly_M_Infection'] = monthlymort['MRSA infection'] * maleInfectionRate\n",
    "monthlymort['monthly_F_Infection'] = monthlymort['MRSA infection'] * femaleInfectionRate\n",
    "monthlymort"
   ]
  },
  {
   "cell_type": "markdown",
   "metadata": {},
   "source": [
    "#### The line plot below shows a trend that follow a higher number of infection and mortality during winter and drop lower towards summer, then climb back up again heading into winter. "
   ]
  },
  {
   "cell_type": "code",
   "execution_count": 17,
   "metadata": {
    "scrolled": true
   },
   "outputs": [
    {
     "data": {
      "text/plain": [
       "[Text(0,0,'Jan'),\n",
       " Text(0,0,'Feb'),\n",
       " Text(0,0,'Mar'),\n",
       " Text(0,0,'Apr'),\n",
       " Text(0,0,'May'),\n",
       " Text(0,0,'Jun'),\n",
       " Text(0,0,'Jul'),\n",
       " Text(0,0,'Aug'),\n",
       " Text(0,0,'Sep'),\n",
       " Text(0,0,'Oct'),\n",
       " Text(0,0,'Nov'),\n",
       " Text(0,0,'Dec')]"
      ]
     },
     "execution_count": 17,
     "metadata": {},
     "output_type": "execute_result"
    },
    {
     "data": {
      "image/png": "[encoded data removed]",
      "text/plain": [
       "<Figure size 432x288 with 1 Axes>"
      ]
     },
     "metadata": {
      "needs_background": "light"
     },
     "output_type": "display_data"
    }
   ],
   "source": [
    "# line plot to visualize relationship of month to infection and mortality counts. \n",
    "ax = monthlymort.plot()\n",
    "ax.set_xticks(monthlymort.index)\n",
    "ax.set_xticklabels(monthlymort.Month)"
   ]
  },
  {
   "cell_type": "code",
   "execution_count": 18,
   "metadata": {},
   "outputs": [
    {
     "name": "stderr",
     "output_type": "stream",
     "text": [
      "C:\\Users\\James\\Anaconda3\\lib\\site-packages\\scipy\\stats\\stats.py:1713: FutureWarning: Using a non-tuple sequence for multidimensional indexing is deprecated; use `arr[tuple(seq)]` instead of `arr[seq]`. In the future this will be interpreted as an array index, `arr[np.array(seq)]`, which will result either in an error or a different result.\n",
      "  return np.add.reduce(sorted[indexer] * weights, axis=axis) / sumval\n"
     ]
    },
    {
     "data": {
      "text/plain": [
       "<seaborn.axisgrid.FacetGrid at 0x1e5af7e5320>"
      ]
     },
     "execution_count": 18,
     "metadata": {},
     "output_type": "execute_result"
    },
    {
     "data": {
      "image/png": "[encoded data removed]",
      "text/plain": [
       "<Figure size 360x360 with 1 Axes>"
      ]
     },
     "metadata": {
      "needs_background": "light"
     },
     "output_type": "display_data"
    }
   ],
   "source": [
    "sns.lmplot(y=\"monthly_M_Infection\", x=\"monthly_F_Infection\", data=monthlymort)"
   ]
  },
  {
   "cell_type": "code",
   "execution_count": 19,
   "metadata": {},
   "outputs": [],
   "source": [
    "monthlymort = pd.DataFrame({'Month': ['Jan', 'Feb', 'Mar', 'Apr', 'May', 'Jun', 'Jul', 'Aug', 'Sep', 'Oct', 'Nov', 'Dec'], \"MRSA infection\": (872, 758, 808, 789, 757, 741, 785, 731, 650, 681,708, 721),\"7 day mortality\": (207, 176, 184, 162, 148, 143, 147, 123, 115, 133, 139, 148), \"30 day mortality\": (385, 318, 332, 299, 287, 292, 281, 235, 231, 259, 253, 278), 'rate_of_infection': (28.129, 27.071, 26.065, 26.3, 24.419, 24.7, 25.323, 23.581, 21.667, 22.7, 23.6, 23.258)})"
   ]
  },
  {
   "cell_type": "code",
   "execution_count": 20,
   "metadata": {},
   "outputs": [],
   "source": [
    "# rate_of_infection was divided individually for each month as each month had a different number of days.\n",
    "# The 'calendar.monthrange(2004, 2)[1]' can be used but it only outputs one month at a time. \n",
    "monthlymort['7dayRate'] = monthlymort['7 day mortality'] / monthlymort['rate_of_infection']\n",
    "monthlymort['30dayRate'] = monthlymort['30 day mortality'] / monthlymort['rate_of_infection']"
   ]
  },
  {
   "cell_type": "code",
   "execution_count": 21,
   "metadata": {
    "scrolled": false
   },
   "outputs": [
    {
     "data": {
      "text/html": [
       "<div>\n",
       "<style scoped>\n",
       "    .dataframe tbody tr th:only-of-type {\n",
       "        vertical-align: middle;\n",
       "    }\n",
       "\n",
       "    .dataframe tbody tr th {\n",
       "        vertical-align: top;\n",
       "    }\n",
       "\n",
       "    .dataframe thead th {\n",
       "        text-align: right;\n",
       "    }\n",
       "</style>\n",
       "<table border=\"1\" class=\"dataframe\">\n",
       "  <thead>\n",
       "    <tr style=\"text-align: right;\">\n",
       "      <th></th>\n",
       "      <th>Month</th>\n",
       "      <th>MRSA infection</th>\n",
       "      <th>7 day mortality</th>\n",
       "      <th>30 day mortality</th>\n",
       "      <th>rate_of_infection</th>\n",
       "      <th>7dayRate</th>\n",
       "      <th>30dayRate</th>\n",
       "    </tr>\n",
       "  </thead>\n",
       "  <tbody>\n",
       "    <tr>\n",
       "      <th>0</th>\n",
       "      <td>Jan</td>\n",
       "      <td>872</td>\n",
       "      <td>207</td>\n",
       "      <td>385</td>\n",
       "      <td>28.129</td>\n",
       "      <td>7.358953</td>\n",
       "      <td>13.686942</td>\n",
       "    </tr>\n",
       "    <tr>\n",
       "      <th>1</th>\n",
       "      <td>Feb</td>\n",
       "      <td>758</td>\n",
       "      <td>176</td>\n",
       "      <td>318</td>\n",
       "      <td>27.071</td>\n",
       "      <td>6.501422</td>\n",
       "      <td>11.746888</td>\n",
       "    </tr>\n",
       "    <tr>\n",
       "      <th>2</th>\n",
       "      <td>Mar</td>\n",
       "      <td>808</td>\n",
       "      <td>184</td>\n",
       "      <td>332</td>\n",
       "      <td>26.065</td>\n",
       "      <td>7.059275</td>\n",
       "      <td>12.737387</td>\n",
       "    </tr>\n",
       "    <tr>\n",
       "      <th>3</th>\n",
       "      <td>Apr</td>\n",
       "      <td>789</td>\n",
       "      <td>162</td>\n",
       "      <td>299</td>\n",
       "      <td>26.300</td>\n",
       "      <td>6.159696</td>\n",
       "      <td>11.368821</td>\n",
       "    </tr>\n",
       "    <tr>\n",
       "      <th>4</th>\n",
       "      <td>May</td>\n",
       "      <td>757</td>\n",
       "      <td>148</td>\n",
       "      <td>287</td>\n",
       "      <td>24.419</td>\n",
       "      <td>6.060854</td>\n",
       "      <td>11.753143</td>\n",
       "    </tr>\n",
       "    <tr>\n",
       "      <th>5</th>\n",
       "      <td>Jun</td>\n",
       "      <td>741</td>\n",
       "      <td>143</td>\n",
       "      <td>292</td>\n",
       "      <td>24.700</td>\n",
       "      <td>5.789474</td>\n",
       "      <td>11.821862</td>\n",
       "    </tr>\n",
       "    <tr>\n",
       "      <th>6</th>\n",
       "      <td>Jul</td>\n",
       "      <td>785</td>\n",
       "      <td>147</td>\n",
       "      <td>281</td>\n",
       "      <td>25.323</td>\n",
       "      <td>5.804999</td>\n",
       "      <td>11.096632</td>\n",
       "    </tr>\n",
       "    <tr>\n",
       "      <th>7</th>\n",
       "      <td>Aug</td>\n",
       "      <td>731</td>\n",
       "      <td>123</td>\n",
       "      <td>235</td>\n",
       "      <td>23.581</td>\n",
       "      <td>5.216064</td>\n",
       "      <td>9.965650</td>\n",
       "    </tr>\n",
       "    <tr>\n",
       "      <th>8</th>\n",
       "      <td>Sep</td>\n",
       "      <td>650</td>\n",
       "      <td>115</td>\n",
       "      <td>231</td>\n",
       "      <td>21.667</td>\n",
       "      <td>5.307611</td>\n",
       "      <td>10.661374</td>\n",
       "    </tr>\n",
       "    <tr>\n",
       "      <th>9</th>\n",
       "      <td>Oct</td>\n",
       "      <td>681</td>\n",
       "      <td>133</td>\n",
       "      <td>259</td>\n",
       "      <td>22.700</td>\n",
       "      <td>5.859031</td>\n",
       "      <td>11.409692</td>\n",
       "    </tr>\n",
       "    <tr>\n",
       "      <th>10</th>\n",
       "      <td>Nov</td>\n",
       "      <td>708</td>\n",
       "      <td>139</td>\n",
       "      <td>253</td>\n",
       "      <td>23.600</td>\n",
       "      <td>5.889831</td>\n",
       "      <td>10.720339</td>\n",
       "    </tr>\n",
       "    <tr>\n",
       "      <th>11</th>\n",
       "      <td>Dec</td>\n",
       "      <td>721</td>\n",
       "      <td>148</td>\n",
       "      <td>278</td>\n",
       "      <td>23.258</td>\n",
       "      <td>6.363402</td>\n",
       "      <td>11.952876</td>\n",
       "    </tr>\n",
       "  </tbody>\n",
       "</table>\n",
       "</div>"
      ],
      "text/plain": [
       "   Month  MRSA infection  7 day mortality  30 day mortality  \\\n",
       "0    Jan             872              207               385   \n",
       "1    Feb             758              176               318   \n",
       "2    Mar             808              184               332   \n",
       "3    Apr             789              162               299   \n",
       "4    May             757              148               287   \n",
       "5    Jun             741              143               292   \n",
       "6    Jul             785              147               281   \n",
       "7    Aug             731              123               235   \n",
       "8    Sep             650              115               231   \n",
       "9    Oct             681              133               259   \n",
       "10   Nov             708              139               253   \n",
       "11   Dec             721              148               278   \n",
       "\n",
       "    rate_of_infection  7dayRate  30dayRate  \n",
       "0              28.129  7.358953  13.686942  \n",
       "1              27.071  6.501422  11.746888  \n",
       "2              26.065  7.059275  12.737387  \n",
       "3              26.300  6.159696  11.368821  \n",
       "4              24.419  6.060854  11.753143  \n",
       "5              24.700  5.789474  11.821862  \n",
       "6              25.323  5.804999  11.096632  \n",
       "7              23.581  5.216064   9.965650  \n",
       "8              21.667  5.307611  10.661374  \n",
       "9              22.700  5.859031  11.409692  \n",
       "10             23.600  5.889831  10.720339  \n",
       "11             23.258  6.363402  11.952876  "
      ]
     },
     "execution_count": 21,
     "metadata": {},
     "output_type": "execute_result"
    }
   ],
   "source": [
    "monthlymort"
   ]
  },
  {
   "cell_type": "code",
   "execution_count": 22,
   "metadata": {
    "scrolled": false
   },
   "outputs": [
    {
     "name": "stderr",
     "output_type": "stream",
     "text": [
      "C:\\Users\\James\\Anaconda3\\lib\\site-packages\\scipy\\stats\\stats.py:1713: FutureWarning: Using a non-tuple sequence for multidimensional indexing is deprecated; use `arr[tuple(seq)]` instead of `arr[seq]`. In the future this will be interpreted as an array index, `arr[np.array(seq)]`, which will result either in an error or a different result.\n",
      "  return np.add.reduce(sorted[indexer] * weights, axis=axis) / sumval\n"
     ]
    },
    {
     "data": {
      "text/plain": [
       "<seaborn.axisgrid.FacetGrid at 0x1e5afb471d0>"
      ]
     },
     "execution_count": 22,
     "metadata": {},
     "output_type": "execute_result"
    },
    {
     "data": {
      "image/png": "[encoded data removed]",
      "text/plain": [
       "<Figure size 360x360 with 1 Axes>"
      ]
     },
     "metadata": {
      "needs_background": "light"
     },
     "output_type": "display_data"
    }
   ],
   "source": [
    "sns.lmplot(y=\"7 day mortality\", x=\"30 day mortality\", data=monthlymort)"
   ]
  },
  {
   "cell_type": "code",
   "execution_count": 23,
   "metadata": {
    "scrolled": true
   },
   "outputs": [
    {
     "name": "stderr",
     "output_type": "stream",
     "text": [
      "C:\\Users\\James\\Anaconda3\\lib\\site-packages\\scipy\\stats\\stats.py:1713: FutureWarning: Using a non-tuple sequence for multidimensional indexing is deprecated; use `arr[tuple(seq)]` instead of `arr[seq]`. In the future this will be interpreted as an array index, `arr[np.array(seq)]`, which will result either in an error or a different result.\n",
      "  return np.add.reduce(sorted[indexer] * weights, axis=axis) / sumval\n"
     ]
    },
    {
     "data": {
      "text/plain": [
       "<seaborn.axisgrid.FacetGrid at 0x1e5afb90b38>"
      ]
     },
     "execution_count": 23,
     "metadata": {},
     "output_type": "execute_result"
    },
    {
     "data": {
      "image/png": "[encoded data removed]",
      "text/plain": [
       "<Figure size 360x360 with 1 Axes>"
      ]
     },
     "metadata": {
      "needs_background": "light"
     },
     "output_type": "display_data"
    }
   ],
   "source": [
    "sns.lmplot(x = \"MRSA infection\", y = \"7 day mortality\", data = monthlymort)"
   ]
  },
  {
   "cell_type": "code",
   "execution_count": 24,
   "metadata": {
    "scrolled": false
   },
   "outputs": [
    {
     "name": "stderr",
     "output_type": "stream",
     "text": [
      "C:\\Users\\James\\Anaconda3\\lib\\site-packages\\scipy\\stats\\stats.py:1713: FutureWarning: Using a non-tuple sequence for multidimensional indexing is deprecated; use `arr[tuple(seq)]` instead of `arr[seq]`. In the future this will be interpreted as an array index, `arr[np.array(seq)]`, which will result either in an error or a different result.\n",
      "  return np.add.reduce(sorted[indexer] * weights, axis=axis) / sumval\n"
     ]
    },
    {
     "data": {
      "text/plain": [
       "<seaborn.axisgrid.FacetGrid at 0x1e5afbfb978>"
      ]
     },
     "execution_count": 24,
     "metadata": {},
     "output_type": "execute_result"
    },
    {
     "data": {
      "image/png": "[encoded data removed]",
      "text/plain": [
       "<Figure size 360x360 with 1 Axes>"
      ]
     },
     "metadata": {
      "needs_background": "light"
     },
     "output_type": "display_data"
    }
   ],
   "source": [
    "sns.lmplot(x = \"MRSA infection\", y = \"30 day mortality\", data = monthlymort)"
   ]
  },
  {
   "cell_type": "code",
   "execution_count": 25,
   "metadata": {},
   "outputs": [
    {
     "data": {
      "text/plain": [
       "Month                JanFebMarAprMayJunJulAugSepOctNovDec\n",
       "MRSA infection                                       9001\n",
       "7 day mortality                                      1825\n",
       "30 day mortality                                     3450\n",
       "rate_of_infection                                 296.813\n",
       "7dayRate                                          73.3706\n",
       "30dayRate                                         138.922\n",
       "dtype: object"
      ]
     },
     "execution_count": 25,
     "metadata": {},
     "output_type": "execute_result"
    }
   ],
   "source": [
    "monthlymort.sum()"
   ]
  },
  {
   "cell_type": "code",
   "execution_count": 26,
   "metadata": {},
   "outputs": [
    {
     "data": {
      "text/plain": [
       "24.660273972602738"
      ]
     },
     "execution_count": 26,
     "metadata": {},
     "output_type": "execute_result"
    }
   ],
   "source": [
    "# total monthly infection / days in a year = average daily infection\n",
    "9001/365"
   ]
  },
  {
   "cell_type": "code",
   "execution_count": 27,
   "metadata": {
    "scrolled": true
   },
   "outputs": [
    {
     "data": {
      "text/html": [
       "<div>\n",
       "<style scoped>\n",
       "    .dataframe tbody tr th:only-of-type {\n",
       "        vertical-align: middle;\n",
       "    }\n",
       "\n",
       "    .dataframe tbody tr th {\n",
       "        vertical-align: top;\n",
       "    }\n",
       "\n",
       "    .dataframe thead th {\n",
       "        text-align: right;\n",
       "    }\n",
       "</style>\n",
       "<table border=\"1\" class=\"dataframe\">\n",
       "  <thead>\n",
       "    <tr style=\"text-align: right;\">\n",
       "      <th></th>\n",
       "      <th>Age</th>\n",
       "      <th>Infections</th>\n",
       "      <th>7 Day Mortality</th>\n",
       "      <th>30 Day Mortality</th>\n",
       "    </tr>\n",
       "  </thead>\n",
       "  <tbody>\n",
       "    <tr>\n",
       "      <th>0</th>\n",
       "      <td>&lt;15</td>\n",
       "      <td>126</td>\n",
       "      <td>2</td>\n",
       "      <td>8</td>\n",
       "    </tr>\n",
       "    <tr>\n",
       "      <th>1</th>\n",
       "      <td>15-34</td>\n",
       "      <td>377</td>\n",
       "      <td>12</td>\n",
       "      <td>29</td>\n",
       "    </tr>\n",
       "    <tr>\n",
       "      <th>2</th>\n",
       "      <td>35-44</td>\n",
       "      <td>462</td>\n",
       "      <td>42</td>\n",
       "      <td>86</td>\n",
       "    </tr>\n",
       "    <tr>\n",
       "      <th>3</th>\n",
       "      <td>45-54</td>\n",
       "      <td>696</td>\n",
       "      <td>94</td>\n",
       "      <td>182</td>\n",
       "    </tr>\n",
       "    <tr>\n",
       "      <th>4</th>\n",
       "      <td>55-64</td>\n",
       "      <td>1189</td>\n",
       "      <td>193</td>\n",
       "      <td>323</td>\n",
       "    </tr>\n",
       "    <tr>\n",
       "      <th>5</th>\n",
       "      <td>65-74</td>\n",
       "      <td>1900</td>\n",
       "      <td>360</td>\n",
       "      <td>697</td>\n",
       "    </tr>\n",
       "    <tr>\n",
       "      <th>6</th>\n",
       "      <td>75-84</td>\n",
       "      <td>2738</td>\n",
       "      <td>697</td>\n",
       "      <td>1266</td>\n",
       "    </tr>\n",
       "    <tr>\n",
       "      <th>7</th>\n",
       "      <td>&gt;85</td>\n",
       "      <td>1513</td>\n",
       "      <td>425</td>\n",
       "      <td>859</td>\n",
       "    </tr>\n",
       "  </tbody>\n",
       "</table>\n",
       "</div>"
      ],
      "text/plain": [
       "     Age  Infections  7 Day Mortality  30 Day Mortality\n",
       "0    <15         126                2                 8\n",
       "1  15-34         377               12                29\n",
       "2  35-44         462               42                86\n",
       "3  45-54         696               94               182\n",
       "4  55-64        1189              193               323\n",
       "5  65-74        1900              360               697\n",
       "6  75-84        2738              697              1266\n",
       "7    >85        1513              425               859"
      ]
     },
     "execution_count": 27,
     "metadata": {},
     "output_type": "execute_result"
    }
   ],
   "source": [
    "ageMort = pd.DataFrame({\"Age\": [\"<15\", '15-34', '35-44', '45-54', '55-64', '65-74', '75-84', '>85'], \"Infections\": (126, 377, 462, 696, 1189, 1900, 2738, 1513), \"7 Day Mortality\": (2, 12, 42, 94, 193, 360, 697, 425), \"30 Day Mortality\" : (8, 29, 86, 182, 323, 697, 1266, 859)})\n",
    "ageMort"
   ]
  },
  {
   "cell_type": "code",
   "execution_count": 28,
   "metadata": {
    "scrolled": false
   },
   "outputs": [
    {
     "data": {
      "text/plain": [
       "Infections          889.474072\n",
       "7 Day Mortality     247.184973\n",
       "30 Day Mortality    460.494687\n",
       "dtype: float64"
      ]
     },
     "execution_count": 28,
     "metadata": {},
     "output_type": "execute_result"
    }
   ],
   "source": [
    "ageMort.std()"
   ]
  },
  {
   "cell_type": "code",
   "execution_count": 29,
   "metadata": {},
   "outputs": [
    {
     "data": {
      "text/plain": [
       "[Text(0,0,'<15'),\n",
       " Text(0,0,'15-34'),\n",
       " Text(0,0,'35-44'),\n",
       " Text(0,0,'45-54'),\n",
       " Text(0,0,'55-64'),\n",
       " Text(0,0,'65-74'),\n",
       " Text(0,0,'75-84'),\n",
       " Text(0,0,'>85')]"
      ]
     },
     "execution_count": 29,
     "metadata": {},
     "output_type": "execute_result"
    },
    {
     "data": {
      "image/png": "[encoded data removed]",
      "text/plain": [
       "<Figure size 432x288 with 1 Axes>"
      ]
     },
     "metadata": {
      "needs_background": "light"
     },
     "output_type": "display_data"
    }
   ],
   "source": [
    "# line plot to visualize relationship of Age to infections and mortality counts. \n",
    "ax = ageMort.plot()\n",
    "ax.set_xticks(ageMort.index)\n",
    "ax.set_xticklabels(ageMort.Age)"
   ]
  },
  {
   "cell_type": "code",
   "execution_count": 30,
   "metadata": {},
   "outputs": [],
   "source": [
    "ageMort['infection/year'] =  ageMort['Infections']/365 \n",
    "ageMort['7dayP'] = ageMort['7 Day Mortality'] / ageMort['Infections']\n",
    "ageMort['30dayP'] = ageMort['30 Day Mortality'] / ageMort['Infections']"
   ]
  },
  {
   "cell_type": "code",
   "execution_count": 31,
   "metadata": {},
   "outputs": [
    {
     "data": {
      "text/html": [
       "<div>\n",
       "<style scoped>\n",
       "    .dataframe tbody tr th:only-of-type {\n",
       "        vertical-align: middle;\n",
       "    }\n",
       "\n",
       "    .dataframe tbody tr th {\n",
       "        vertical-align: top;\n",
       "    }\n",
       "\n",
       "    .dataframe thead th {\n",
       "        text-align: right;\n",
       "    }\n",
       "</style>\n",
       "<table border=\"1\" class=\"dataframe\">\n",
       "  <thead>\n",
       "    <tr style=\"text-align: right;\">\n",
       "      <th></th>\n",
       "      <th>Age</th>\n",
       "      <th>Infections</th>\n",
       "      <th>7 Day Mortality</th>\n",
       "      <th>30 Day Mortality</th>\n",
       "      <th>infection/year</th>\n",
       "      <th>7dayP</th>\n",
       "      <th>30dayP</th>\n",
       "    </tr>\n",
       "  </thead>\n",
       "  <tbody>\n",
       "    <tr>\n",
       "      <th>0</th>\n",
       "      <td>&lt;15</td>\n",
       "      <td>126</td>\n",
       "      <td>2</td>\n",
       "      <td>8</td>\n",
       "      <td>0.345205</td>\n",
       "      <td>0.015873</td>\n",
       "      <td>0.063492</td>\n",
       "    </tr>\n",
       "    <tr>\n",
       "      <th>1</th>\n",
       "      <td>15-34</td>\n",
       "      <td>377</td>\n",
       "      <td>12</td>\n",
       "      <td>29</td>\n",
       "      <td>1.032877</td>\n",
       "      <td>0.031830</td>\n",
       "      <td>0.076923</td>\n",
       "    </tr>\n",
       "    <tr>\n",
       "      <th>2</th>\n",
       "      <td>35-44</td>\n",
       "      <td>462</td>\n",
       "      <td>42</td>\n",
       "      <td>86</td>\n",
       "      <td>1.265753</td>\n",
       "      <td>0.090909</td>\n",
       "      <td>0.186147</td>\n",
       "    </tr>\n",
       "    <tr>\n",
       "      <th>3</th>\n",
       "      <td>45-54</td>\n",
       "      <td>696</td>\n",
       "      <td>94</td>\n",
       "      <td>182</td>\n",
       "      <td>1.906849</td>\n",
       "      <td>0.135057</td>\n",
       "      <td>0.261494</td>\n",
       "    </tr>\n",
       "    <tr>\n",
       "      <th>4</th>\n",
       "      <td>55-64</td>\n",
       "      <td>1189</td>\n",
       "      <td>193</td>\n",
       "      <td>323</td>\n",
       "      <td>3.257534</td>\n",
       "      <td>0.162321</td>\n",
       "      <td>0.271657</td>\n",
       "    </tr>\n",
       "    <tr>\n",
       "      <th>5</th>\n",
       "      <td>65-74</td>\n",
       "      <td>1900</td>\n",
       "      <td>360</td>\n",
       "      <td>697</td>\n",
       "      <td>5.205479</td>\n",
       "      <td>0.189474</td>\n",
       "      <td>0.366842</td>\n",
       "    </tr>\n",
       "    <tr>\n",
       "      <th>6</th>\n",
       "      <td>75-84</td>\n",
       "      <td>2738</td>\n",
       "      <td>697</td>\n",
       "      <td>1266</td>\n",
       "      <td>7.501370</td>\n",
       "      <td>0.254565</td>\n",
       "      <td>0.462381</td>\n",
       "    </tr>\n",
       "    <tr>\n",
       "      <th>7</th>\n",
       "      <td>&gt;85</td>\n",
       "      <td>1513</td>\n",
       "      <td>425</td>\n",
       "      <td>859</td>\n",
       "      <td>4.145205</td>\n",
       "      <td>0.280899</td>\n",
       "      <td>0.567746</td>\n",
       "    </tr>\n",
       "  </tbody>\n",
       "</table>\n",
       "</div>"
      ],
      "text/plain": [
       "     Age  Infections  7 Day Mortality  30 Day Mortality  infection/year  \\\n",
       "0    <15         126                2                 8        0.345205   \n",
       "1  15-34         377               12                29        1.032877   \n",
       "2  35-44         462               42                86        1.265753   \n",
       "3  45-54         696               94               182        1.906849   \n",
       "4  55-64        1189              193               323        3.257534   \n",
       "5  65-74        1900              360               697        5.205479   \n",
       "6  75-84        2738              697              1266        7.501370   \n",
       "7    >85        1513              425               859        4.145205   \n",
       "\n",
       "      7dayP    30dayP  \n",
       "0  0.015873  0.063492  \n",
       "1  0.031830  0.076923  \n",
       "2  0.090909  0.186147  \n",
       "3  0.135057  0.261494  \n",
       "4  0.162321  0.271657  \n",
       "5  0.189474  0.366842  \n",
       "6  0.254565  0.462381  \n",
       "7  0.280899  0.567746  "
      ]
     },
     "execution_count": 31,
     "metadata": {},
     "output_type": "execute_result"
    }
   ],
   "source": [
    "ageMort"
   ]
  },
  {
   "cell_type": "code",
   "execution_count": 32,
   "metadata": {},
   "outputs": [],
   "source": [
    "# <15   - 0.35, 0.02, 0.06\n",
    "# 15-34 - 1.03, 0.03, 0.08\n",
    "# 35-44 - 1.27, 0.09, 19\n",
    "# 45-54 - 1.91, 0.14, 0.26\n",
    "# 55-64 - 3.26, 0.16, .27\n",
    "# 65-74 - 5.21, 0.18, 0.37\n",
    "# 75-84 - 7.50, 0.25, 0.46 \n",
    "# >85   - 4.15, 0.28, 0.57  \n"
   ]
  },
  {
   "cell_type": "code",
   "execution_count": 33,
   "metadata": {
    "scrolled": true
   },
   "outputs": [],
   "source": [
    "# Simulated data for Infections according to age per year and 7 and 30 day mortality\n",
    "\n",
    "# The <15 category uses the binomial distribution\n",
    "# For the rest, the normal distribution is used instead\n",
    "a = pd.DataFrame({'Sim<15': np.random.binomial(1, .35, 365), 'Sim 15-34': np.random.normal(1.03, 0.01, 365), 'Sim 35-44': np.random.normal(1.27, 0.01, 365), 'Sim 45-54': np.random.normal(1.91, 0.01, 365), 'Sim 55-64': np.random.normal(3.26, 0.01, 365), 'Sim 65-74':np.random.normal(5.21, 0.01, 365), 'Sim 75-84': np.random.normal(7.5, 0.01, 365), 'Sim >85': np.random.normal(4.15, 0.01, 365) })\n"
   ]
  },
  {
   "cell_type": "code",
   "execution_count": 34,
   "metadata": {},
   "outputs": [
    {
     "data": {
      "text/html": [
       "<div>\n",
       "<style scoped>\n",
       "    .dataframe tbody tr th:only-of-type {\n",
       "        vertical-align: middle;\n",
       "    }\n",
       "\n",
       "    .dataframe tbody tr th {\n",
       "        vertical-align: top;\n",
       "    }\n",
       "\n",
       "    .dataframe thead th {\n",
       "        text-align: right;\n",
       "    }\n",
       "</style>\n",
       "<table border=\"1\" class=\"dataframe\">\n",
       "  <thead>\n",
       "    <tr style=\"text-align: right;\">\n",
       "      <th></th>\n",
       "      <th>Sim&lt;15</th>\n",
       "      <th>Sim 15-34</th>\n",
       "      <th>Sim 35-44</th>\n",
       "      <th>Sim 45-54</th>\n",
       "      <th>Sim 55-64</th>\n",
       "      <th>Sim 65-74</th>\n",
       "      <th>Sim 75-84</th>\n",
       "      <th>Sim &gt;85</th>\n",
       "    </tr>\n",
       "  </thead>\n",
       "  <tbody>\n",
       "    <tr>\n",
       "      <th>0</th>\n",
       "      <td>0</td>\n",
       "      <td>1.011448</td>\n",
       "      <td>1.277565</td>\n",
       "      <td>1.914243</td>\n",
       "      <td>3.269680</td>\n",
       "      <td>5.225701</td>\n",
       "      <td>7.492075</td>\n",
       "      <td>4.152131</td>\n",
       "    </tr>\n",
       "    <tr>\n",
       "      <th>1</th>\n",
       "      <td>1</td>\n",
       "      <td>1.017232</td>\n",
       "      <td>1.268266</td>\n",
       "      <td>1.911669</td>\n",
       "      <td>3.254267</td>\n",
       "      <td>5.205555</td>\n",
       "      <td>7.500103</td>\n",
       "      <td>4.147552</td>\n",
       "    </tr>\n",
       "    <tr>\n",
       "      <th>2</th>\n",
       "      <td>0</td>\n",
       "      <td>1.013535</td>\n",
       "      <td>1.259002</td>\n",
       "      <td>1.927825</td>\n",
       "      <td>3.267473</td>\n",
       "      <td>5.209563</td>\n",
       "      <td>7.508641</td>\n",
       "      <td>4.145378</td>\n",
       "    </tr>\n",
       "    <tr>\n",
       "      <th>3</th>\n",
       "      <td>0</td>\n",
       "      <td>1.045520</td>\n",
       "      <td>1.281321</td>\n",
       "      <td>1.922394</td>\n",
       "      <td>3.260175</td>\n",
       "      <td>5.220478</td>\n",
       "      <td>7.508868</td>\n",
       "      <td>4.145061</td>\n",
       "    </tr>\n",
       "    <tr>\n",
       "      <th>4</th>\n",
       "      <td>0</td>\n",
       "      <td>1.048794</td>\n",
       "      <td>1.273333</td>\n",
       "      <td>1.918782</td>\n",
       "      <td>3.251864</td>\n",
       "      <td>5.206655</td>\n",
       "      <td>7.491318</td>\n",
       "      <td>4.154643</td>\n",
       "    </tr>\n",
       "    <tr>\n",
       "      <th>5</th>\n",
       "      <td>0</td>\n",
       "      <td>1.021920</td>\n",
       "      <td>1.261388</td>\n",
       "      <td>1.916633</td>\n",
       "      <td>3.247286</td>\n",
       "      <td>5.229976</td>\n",
       "      <td>7.492547</td>\n",
       "      <td>4.142402</td>\n",
       "    </tr>\n",
       "    <tr>\n",
       "      <th>6</th>\n",
       "      <td>1</td>\n",
       "      <td>1.031891</td>\n",
       "      <td>1.254607</td>\n",
       "      <td>1.927166</td>\n",
       "      <td>3.260092</td>\n",
       "      <td>5.193886</td>\n",
       "      <td>7.519249</td>\n",
       "      <td>4.153407</td>\n",
       "    </tr>\n",
       "    <tr>\n",
       "      <th>7</th>\n",
       "      <td>1</td>\n",
       "      <td>1.028184</td>\n",
       "      <td>1.261553</td>\n",
       "      <td>1.889337</td>\n",
       "      <td>3.265700</td>\n",
       "      <td>5.202296</td>\n",
       "      <td>7.487441</td>\n",
       "      <td>4.131645</td>\n",
       "    </tr>\n",
       "    <tr>\n",
       "      <th>8</th>\n",
       "      <td>1</td>\n",
       "      <td>1.031284</td>\n",
       "      <td>1.270985</td>\n",
       "      <td>1.895839</td>\n",
       "      <td>3.259663</td>\n",
       "      <td>5.213722</td>\n",
       "      <td>7.502406</td>\n",
       "      <td>4.134437</td>\n",
       "    </tr>\n",
       "    <tr>\n",
       "      <th>9</th>\n",
       "      <td>1</td>\n",
       "      <td>1.053655</td>\n",
       "      <td>1.274762</td>\n",
       "      <td>1.903216</td>\n",
       "      <td>3.249397</td>\n",
       "      <td>5.203860</td>\n",
       "      <td>7.498653</td>\n",
       "      <td>4.147672</td>\n",
       "    </tr>\n",
       "    <tr>\n",
       "      <th>10</th>\n",
       "      <td>0</td>\n",
       "      <td>1.018701</td>\n",
       "      <td>1.279776</td>\n",
       "      <td>1.929574</td>\n",
       "      <td>3.255462</td>\n",
       "      <td>5.206869</td>\n",
       "      <td>7.488210</td>\n",
       "      <td>4.142809</td>\n",
       "    </tr>\n",
       "    <tr>\n",
       "      <th>11</th>\n",
       "      <td>0</td>\n",
       "      <td>1.028448</td>\n",
       "      <td>1.278527</td>\n",
       "      <td>1.895514</td>\n",
       "      <td>3.271205</td>\n",
       "      <td>5.211334</td>\n",
       "      <td>7.488303</td>\n",
       "      <td>4.148711</td>\n",
       "    </tr>\n",
       "    <tr>\n",
       "      <th>12</th>\n",
       "      <td>1</td>\n",
       "      <td>1.019865</td>\n",
       "      <td>1.270067</td>\n",
       "      <td>1.917026</td>\n",
       "      <td>3.255597</td>\n",
       "      <td>5.201640</td>\n",
       "      <td>7.497333</td>\n",
       "      <td>4.164523</td>\n",
       "    </tr>\n",
       "    <tr>\n",
       "      <th>13</th>\n",
       "      <td>1</td>\n",
       "      <td>1.050311</td>\n",
       "      <td>1.293303</td>\n",
       "      <td>1.904860</td>\n",
       "      <td>3.265358</td>\n",
       "      <td>5.196661</td>\n",
       "      <td>7.499573</td>\n",
       "      <td>4.137316</td>\n",
       "    </tr>\n",
       "    <tr>\n",
       "      <th>14</th>\n",
       "      <td>1</td>\n",
       "      <td>1.017390</td>\n",
       "      <td>1.275435</td>\n",
       "      <td>1.907568</td>\n",
       "      <td>3.260236</td>\n",
       "      <td>5.210517</td>\n",
       "      <td>7.490181</td>\n",
       "      <td>4.158413</td>\n",
       "    </tr>\n",
       "    <tr>\n",
       "      <th>15</th>\n",
       "      <td>0</td>\n",
       "      <td>1.039290</td>\n",
       "      <td>1.251778</td>\n",
       "      <td>1.913714</td>\n",
       "      <td>3.254833</td>\n",
       "      <td>5.194844</td>\n",
       "      <td>7.505554</td>\n",
       "      <td>4.159789</td>\n",
       "    </tr>\n",
       "    <tr>\n",
       "      <th>16</th>\n",
       "      <td>1</td>\n",
       "      <td>1.012053</td>\n",
       "      <td>1.276439</td>\n",
       "      <td>1.884810</td>\n",
       "      <td>3.254896</td>\n",
       "      <td>5.210121</td>\n",
       "      <td>7.501309</td>\n",
       "      <td>4.155043</td>\n",
       "    </tr>\n",
       "    <tr>\n",
       "      <th>17</th>\n",
       "      <td>0</td>\n",
       "      <td>1.029434</td>\n",
       "      <td>1.277766</td>\n",
       "      <td>1.911060</td>\n",
       "      <td>3.268332</td>\n",
       "      <td>5.191350</td>\n",
       "      <td>7.495581</td>\n",
       "      <td>4.148601</td>\n",
       "    </tr>\n",
       "    <tr>\n",
       "      <th>18</th>\n",
       "      <td>1</td>\n",
       "      <td>1.024421</td>\n",
       "      <td>1.279151</td>\n",
       "      <td>1.909250</td>\n",
       "      <td>3.255328</td>\n",
       "      <td>5.209825</td>\n",
       "      <td>7.503201</td>\n",
       "      <td>4.143526</td>\n",
       "    </tr>\n",
       "    <tr>\n",
       "      <th>19</th>\n",
       "      <td>0</td>\n",
       "      <td>1.020275</td>\n",
       "      <td>1.263374</td>\n",
       "      <td>1.902501</td>\n",
       "      <td>3.267497</td>\n",
       "      <td>5.205111</td>\n",
       "      <td>7.519757</td>\n",
       "      <td>4.155537</td>\n",
       "    </tr>\n",
       "    <tr>\n",
       "      <th>20</th>\n",
       "      <td>0</td>\n",
       "      <td>1.039652</td>\n",
       "      <td>1.281354</td>\n",
       "      <td>1.899837</td>\n",
       "      <td>3.279286</td>\n",
       "      <td>5.201521</td>\n",
       "      <td>7.500427</td>\n",
       "      <td>4.157839</td>\n",
       "    </tr>\n",
       "    <tr>\n",
       "      <th>21</th>\n",
       "      <td>0</td>\n",
       "      <td>1.021670</td>\n",
       "      <td>1.260491</td>\n",
       "      <td>1.903314</td>\n",
       "      <td>3.248359</td>\n",
       "      <td>5.216290</td>\n",
       "      <td>7.510243</td>\n",
       "      <td>4.147592</td>\n",
       "    </tr>\n",
       "    <tr>\n",
       "      <th>22</th>\n",
       "      <td>1</td>\n",
       "      <td>1.023730</td>\n",
       "      <td>1.261206</td>\n",
       "      <td>1.902841</td>\n",
       "      <td>3.247131</td>\n",
       "      <td>5.219382</td>\n",
       "      <td>7.513161</td>\n",
       "      <td>4.143265</td>\n",
       "    </tr>\n",
       "    <tr>\n",
       "      <th>23</th>\n",
       "      <td>0</td>\n",
       "      <td>1.044237</td>\n",
       "      <td>1.267566</td>\n",
       "      <td>1.907545</td>\n",
       "      <td>3.274136</td>\n",
       "      <td>5.193041</td>\n",
       "      <td>7.490990</td>\n",
       "      <td>4.164374</td>\n",
       "    </tr>\n",
       "    <tr>\n",
       "      <th>24</th>\n",
       "      <td>1</td>\n",
       "      <td>1.036657</td>\n",
       "      <td>1.263962</td>\n",
       "      <td>1.920726</td>\n",
       "      <td>3.250318</td>\n",
       "      <td>5.204879</td>\n",
       "      <td>7.500819</td>\n",
       "      <td>4.152721</td>\n",
       "    </tr>\n",
       "    <tr>\n",
       "      <th>25</th>\n",
       "      <td>1</td>\n",
       "      <td>1.028072</td>\n",
       "      <td>1.256307</td>\n",
       "      <td>1.889841</td>\n",
       "      <td>3.256161</td>\n",
       "      <td>5.212097</td>\n",
       "      <td>7.496117</td>\n",
       "      <td>4.145429</td>\n",
       "    </tr>\n",
       "    <tr>\n",
       "      <th>26</th>\n",
       "      <td>1</td>\n",
       "      <td>1.024923</td>\n",
       "      <td>1.265620</td>\n",
       "      <td>1.907350</td>\n",
       "      <td>3.249437</td>\n",
       "      <td>5.206926</td>\n",
       "      <td>7.491519</td>\n",
       "      <td>4.161194</td>\n",
       "    </tr>\n",
       "    <tr>\n",
       "      <th>27</th>\n",
       "      <td>1</td>\n",
       "      <td>1.035354</td>\n",
       "      <td>1.278265</td>\n",
       "      <td>1.920094</td>\n",
       "      <td>3.261268</td>\n",
       "      <td>5.220737</td>\n",
       "      <td>7.487859</td>\n",
       "      <td>4.161280</td>\n",
       "    </tr>\n",
       "    <tr>\n",
       "      <th>28</th>\n",
       "      <td>1</td>\n",
       "      <td>1.035188</td>\n",
       "      <td>1.259346</td>\n",
       "      <td>1.912591</td>\n",
       "      <td>3.253417</td>\n",
       "      <td>5.195881</td>\n",
       "      <td>7.521529</td>\n",
       "      <td>4.139938</td>\n",
       "    </tr>\n",
       "    <tr>\n",
       "      <th>29</th>\n",
       "      <td>1</td>\n",
       "      <td>1.030062</td>\n",
       "      <td>1.286033</td>\n",
       "      <td>1.915658</td>\n",
       "      <td>3.262378</td>\n",
       "      <td>5.218199</td>\n",
       "      <td>7.521181</td>\n",
       "      <td>4.133427</td>\n",
       "    </tr>\n",
       "    <tr>\n",
       "      <th>...</th>\n",
       "      <td>...</td>\n",
       "      <td>...</td>\n",
       "      <td>...</td>\n",
       "      <td>...</td>\n",
       "      <td>...</td>\n",
       "      <td>...</td>\n",
       "      <td>...</td>\n",
       "      <td>...</td>\n",
       "    </tr>\n",
       "    <tr>\n",
       "      <th>335</th>\n",
       "      <td>1</td>\n",
       "      <td>1.022688</td>\n",
       "      <td>1.277602</td>\n",
       "      <td>1.909110</td>\n",
       "      <td>3.256080</td>\n",
       "      <td>5.191806</td>\n",
       "      <td>7.506129</td>\n",
       "      <td>4.148823</td>\n",
       "    </tr>\n",
       "    <tr>\n",
       "      <th>336</th>\n",
       "      <td>0</td>\n",
       "      <td>1.033507</td>\n",
       "      <td>1.279360</td>\n",
       "      <td>1.916678</td>\n",
       "      <td>3.249201</td>\n",
       "      <td>5.218608</td>\n",
       "      <td>7.504194</td>\n",
       "      <td>4.153130</td>\n",
       "    </tr>\n",
       "    <tr>\n",
       "      <th>337</th>\n",
       "      <td>0</td>\n",
       "      <td>1.037500</td>\n",
       "      <td>1.283279</td>\n",
       "      <td>1.897726</td>\n",
       "      <td>3.254236</td>\n",
       "      <td>5.229443</td>\n",
       "      <td>7.516643</td>\n",
       "      <td>4.164881</td>\n",
       "    </tr>\n",
       "    <tr>\n",
       "      <th>338</th>\n",
       "      <td>0</td>\n",
       "      <td>1.034148</td>\n",
       "      <td>1.289523</td>\n",
       "      <td>1.899019</td>\n",
       "      <td>3.244053</td>\n",
       "      <td>5.200832</td>\n",
       "      <td>7.497390</td>\n",
       "      <td>4.150761</td>\n",
       "    </tr>\n",
       "    <tr>\n",
       "      <th>339</th>\n",
       "      <td>0</td>\n",
       "      <td>1.054554</td>\n",
       "      <td>1.258223</td>\n",
       "      <td>1.909303</td>\n",
       "      <td>3.252969</td>\n",
       "      <td>5.215351</td>\n",
       "      <td>7.517800</td>\n",
       "      <td>4.146102</td>\n",
       "    </tr>\n",
       "    <tr>\n",
       "      <th>340</th>\n",
       "      <td>0</td>\n",
       "      <td>1.011363</td>\n",
       "      <td>1.266051</td>\n",
       "      <td>1.928892</td>\n",
       "      <td>3.263758</td>\n",
       "      <td>5.220273</td>\n",
       "      <td>7.492129</td>\n",
       "      <td>4.149247</td>\n",
       "    </tr>\n",
       "    <tr>\n",
       "      <th>341</th>\n",
       "      <td>0</td>\n",
       "      <td>1.030817</td>\n",
       "      <td>1.275651</td>\n",
       "      <td>1.908266</td>\n",
       "      <td>3.242276</td>\n",
       "      <td>5.209028</td>\n",
       "      <td>7.491422</td>\n",
       "      <td>4.158180</td>\n",
       "    </tr>\n",
       "    <tr>\n",
       "      <th>342</th>\n",
       "      <td>0</td>\n",
       "      <td>1.037869</td>\n",
       "      <td>1.263333</td>\n",
       "      <td>1.906179</td>\n",
       "      <td>3.256207</td>\n",
       "      <td>5.202658</td>\n",
       "      <td>7.509534</td>\n",
       "      <td>4.150679</td>\n",
       "    </tr>\n",
       "    <tr>\n",
       "      <th>343</th>\n",
       "      <td>0</td>\n",
       "      <td>1.034638</td>\n",
       "      <td>1.269988</td>\n",
       "      <td>1.916551</td>\n",
       "      <td>3.265425</td>\n",
       "      <td>5.200988</td>\n",
       "      <td>7.497773</td>\n",
       "      <td>4.152726</td>\n",
       "    </tr>\n",
       "    <tr>\n",
       "      <th>344</th>\n",
       "      <td>0</td>\n",
       "      <td>1.023067</td>\n",
       "      <td>1.269997</td>\n",
       "      <td>1.904003</td>\n",
       "      <td>3.242030</td>\n",
       "      <td>5.214753</td>\n",
       "      <td>7.502283</td>\n",
       "      <td>4.157357</td>\n",
       "    </tr>\n",
       "    <tr>\n",
       "      <th>345</th>\n",
       "      <td>1</td>\n",
       "      <td>1.032040</td>\n",
       "      <td>1.267460</td>\n",
       "      <td>1.914767</td>\n",
       "      <td>3.261718</td>\n",
       "      <td>5.212478</td>\n",
       "      <td>7.484168</td>\n",
       "      <td>4.127679</td>\n",
       "    </tr>\n",
       "    <tr>\n",
       "      <th>346</th>\n",
       "      <td>0</td>\n",
       "      <td>1.048209</td>\n",
       "      <td>1.271505</td>\n",
       "      <td>1.933528</td>\n",
       "      <td>3.267946</td>\n",
       "      <td>5.190447</td>\n",
       "      <td>7.504928</td>\n",
       "      <td>4.139490</td>\n",
       "    </tr>\n",
       "    <tr>\n",
       "      <th>347</th>\n",
       "      <td>0</td>\n",
       "      <td>1.029800</td>\n",
       "      <td>1.277032</td>\n",
       "      <td>1.899587</td>\n",
       "      <td>3.269870</td>\n",
       "      <td>5.208345</td>\n",
       "      <td>7.489219</td>\n",
       "      <td>4.140923</td>\n",
       "    </tr>\n",
       "    <tr>\n",
       "      <th>348</th>\n",
       "      <td>1</td>\n",
       "      <td>1.040324</td>\n",
       "      <td>1.274694</td>\n",
       "      <td>1.913740</td>\n",
       "      <td>3.265730</td>\n",
       "      <td>5.221081</td>\n",
       "      <td>7.509450</td>\n",
       "      <td>4.165976</td>\n",
       "    </tr>\n",
       "    <tr>\n",
       "      <th>349</th>\n",
       "      <td>0</td>\n",
       "      <td>1.020156</td>\n",
       "      <td>1.269056</td>\n",
       "      <td>1.904951</td>\n",
       "      <td>3.262331</td>\n",
       "      <td>5.211560</td>\n",
       "      <td>7.494804</td>\n",
       "      <td>4.163252</td>\n",
       "    </tr>\n",
       "    <tr>\n",
       "      <th>350</th>\n",
       "      <td>1</td>\n",
       "      <td>1.061034</td>\n",
       "      <td>1.252987</td>\n",
       "      <td>1.897826</td>\n",
       "      <td>3.267765</td>\n",
       "      <td>5.203400</td>\n",
       "      <td>7.482580</td>\n",
       "      <td>4.158398</td>\n",
       "    </tr>\n",
       "    <tr>\n",
       "      <th>351</th>\n",
       "      <td>1</td>\n",
       "      <td>1.011708</td>\n",
       "      <td>1.262689</td>\n",
       "      <td>1.905391</td>\n",
       "      <td>3.257773</td>\n",
       "      <td>5.202513</td>\n",
       "      <td>7.507498</td>\n",
       "      <td>4.152782</td>\n",
       "    </tr>\n",
       "    <tr>\n",
       "      <th>352</th>\n",
       "      <td>0</td>\n",
       "      <td>1.027324</td>\n",
       "      <td>1.277945</td>\n",
       "      <td>1.926042</td>\n",
       "      <td>3.250045</td>\n",
       "      <td>5.207224</td>\n",
       "      <td>7.511637</td>\n",
       "      <td>4.168111</td>\n",
       "    </tr>\n",
       "    <tr>\n",
       "      <th>353</th>\n",
       "      <td>1</td>\n",
       "      <td>1.018347</td>\n",
       "      <td>1.251507</td>\n",
       "      <td>1.901641</td>\n",
       "      <td>3.262826</td>\n",
       "      <td>5.235730</td>\n",
       "      <td>7.492794</td>\n",
       "      <td>4.134522</td>\n",
       "    </tr>\n",
       "    <tr>\n",
       "      <th>354</th>\n",
       "      <td>1</td>\n",
       "      <td>1.034360</td>\n",
       "      <td>1.269948</td>\n",
       "      <td>1.897343</td>\n",
       "      <td>3.235473</td>\n",
       "      <td>5.207361</td>\n",
       "      <td>7.494257</td>\n",
       "      <td>4.151130</td>\n",
       "    </tr>\n",
       "    <tr>\n",
       "      <th>355</th>\n",
       "      <td>1</td>\n",
       "      <td>1.030365</td>\n",
       "      <td>1.265676</td>\n",
       "      <td>1.890194</td>\n",
       "      <td>3.272927</td>\n",
       "      <td>5.222028</td>\n",
       "      <td>7.489242</td>\n",
       "      <td>4.163420</td>\n",
       "    </tr>\n",
       "    <tr>\n",
       "      <th>356</th>\n",
       "      <td>0</td>\n",
       "      <td>1.033790</td>\n",
       "      <td>1.270256</td>\n",
       "      <td>1.913996</td>\n",
       "      <td>3.258187</td>\n",
       "      <td>5.214479</td>\n",
       "      <td>7.501086</td>\n",
       "      <td>4.148630</td>\n",
       "    </tr>\n",
       "    <tr>\n",
       "      <th>357</th>\n",
       "      <td>1</td>\n",
       "      <td>1.034987</td>\n",
       "      <td>1.289588</td>\n",
       "      <td>1.904442</td>\n",
       "      <td>3.267927</td>\n",
       "      <td>5.202383</td>\n",
       "      <td>7.517184</td>\n",
       "      <td>4.145853</td>\n",
       "    </tr>\n",
       "    <tr>\n",
       "      <th>358</th>\n",
       "      <td>0</td>\n",
       "      <td>1.023077</td>\n",
       "      <td>1.259876</td>\n",
       "      <td>1.906041</td>\n",
       "      <td>3.264254</td>\n",
       "      <td>5.200453</td>\n",
       "      <td>7.503934</td>\n",
       "      <td>4.134453</td>\n",
       "    </tr>\n",
       "    <tr>\n",
       "      <th>359</th>\n",
       "      <td>1</td>\n",
       "      <td>1.031842</td>\n",
       "      <td>1.275042</td>\n",
       "      <td>1.887419</td>\n",
       "      <td>3.257020</td>\n",
       "      <td>5.201637</td>\n",
       "      <td>7.470223</td>\n",
       "      <td>4.137103</td>\n",
       "    </tr>\n",
       "    <tr>\n",
       "      <th>360</th>\n",
       "      <td>0</td>\n",
       "      <td>1.026516</td>\n",
       "      <td>1.269180</td>\n",
       "      <td>1.914467</td>\n",
       "      <td>3.265807</td>\n",
       "      <td>5.219505</td>\n",
       "      <td>7.495681</td>\n",
       "      <td>4.162362</td>\n",
       "    </tr>\n",
       "    <tr>\n",
       "      <th>361</th>\n",
       "      <td>1</td>\n",
       "      <td>1.020296</td>\n",
       "      <td>1.271922</td>\n",
       "      <td>1.905220</td>\n",
       "      <td>3.274310</td>\n",
       "      <td>5.208509</td>\n",
       "      <td>7.496427</td>\n",
       "      <td>4.134447</td>\n",
       "    </tr>\n",
       "    <tr>\n",
       "      <th>362</th>\n",
       "      <td>1</td>\n",
       "      <td>1.022065</td>\n",
       "      <td>1.270184</td>\n",
       "      <td>1.917267</td>\n",
       "      <td>3.260013</td>\n",
       "      <td>5.206373</td>\n",
       "      <td>7.499811</td>\n",
       "      <td>4.157171</td>\n",
       "    </tr>\n",
       "    <tr>\n",
       "      <th>363</th>\n",
       "      <td>1</td>\n",
       "      <td>1.025266</td>\n",
       "      <td>1.277220</td>\n",
       "      <td>1.917260</td>\n",
       "      <td>3.244413</td>\n",
       "      <td>5.208347</td>\n",
       "      <td>7.504239</td>\n",
       "      <td>4.146852</td>\n",
       "    </tr>\n",
       "    <tr>\n",
       "      <th>364</th>\n",
       "      <td>0</td>\n",
       "      <td>1.032598</td>\n",
       "      <td>1.264316</td>\n",
       "      <td>1.903876</td>\n",
       "      <td>3.277396</td>\n",
       "      <td>5.212241</td>\n",
       "      <td>7.494429</td>\n",
       "      <td>4.135772</td>\n",
       "    </tr>\n",
       "  </tbody>\n",
       "</table>\n",
       "<p>365 rows × 8 columns</p>\n",
       "</div>"
      ],
      "text/plain": [
       "     Sim<15  Sim 15-34  Sim 35-44  Sim 45-54  Sim 55-64  Sim 65-74  Sim 75-84  \\\n",
       "0         0   1.011448   1.277565   1.914243   3.269680   5.225701   7.492075   \n",
       "1         1   1.017232   1.268266   1.911669   3.254267   5.205555   7.500103   \n",
       "2         0   1.013535   1.259002   1.927825   3.267473   5.209563   7.508641   \n",
       "3         0   1.045520   1.281321   1.922394   3.260175   5.220478   7.508868   \n",
       "4         0   1.048794   1.273333   1.918782   3.251864   5.206655   7.491318   \n",
       "5         0   1.021920   1.261388   1.916633   3.247286   5.229976   7.492547   \n",
       "6         1   1.031891   1.254607   1.927166   3.260092   5.193886   7.519249   \n",
       "7         1   1.028184   1.261553   1.889337   3.265700   5.202296   7.487441   \n",
       "8         1   1.031284   1.270985   1.895839   3.259663   5.213722   7.502406   \n",
       "9         1   1.053655   1.274762   1.903216   3.249397   5.203860   7.498653   \n",
       "10        0   1.018701   1.279776   1.929574   3.255462   5.206869   7.488210   \n",
       "11        0   1.028448   1.278527   1.895514   3.271205   5.211334   7.488303   \n",
       "12        1   1.019865   1.270067   1.917026   3.255597   5.201640   7.497333   \n",
       "13        1   1.050311   1.293303   1.904860   3.265358   5.196661   7.499573   \n",
       "14        1   1.017390   1.275435   1.907568   3.260236   5.210517   7.490181   \n",
       "15        0   1.039290   1.251778   1.913714   3.254833   5.194844   7.505554   \n",
       "16        1   1.012053   1.276439   1.884810   3.254896   5.210121   7.501309   \n",
       "17        0   1.029434   1.277766   1.911060   3.268332   5.191350   7.495581   \n",
       "18        1   1.024421   1.279151   1.909250   3.255328   5.209825   7.503201   \n",
       "19        0   1.020275   1.263374   1.902501   3.267497   5.205111   7.519757   \n",
       "20        0   1.039652   1.281354   1.899837   3.279286   5.201521   7.500427   \n",
       "21        0   1.021670   1.260491   1.903314   3.248359   5.216290   7.510243   \n",
       "22        1   1.023730   1.261206   1.902841   3.247131   5.219382   7.513161   \n",
       "23        0   1.044237   1.267566   1.907545   3.274136   5.193041   7.490990   \n",
       "24        1   1.036657   1.263962   1.920726   3.250318   5.204879   7.500819   \n",
       "25        1   1.028072   1.256307   1.889841   3.256161   5.212097   7.496117   \n",
       "26        1   1.024923   1.265620   1.907350   3.249437   5.206926   7.491519   \n",
       "27        1   1.035354   1.278265   1.920094   3.261268   5.220737   7.487859   \n",
       "28        1   1.035188   1.259346   1.912591   3.253417   5.195881   7.521529   \n",
       "29        1   1.030062   1.286033   1.915658   3.262378   5.218199   7.521181   \n",
       "..      ...        ...        ...        ...        ...        ...        ...   \n",
       "335       1   1.022688   1.277602   1.909110   3.256080   5.191806   7.506129   \n",
       "336       0   1.033507   1.279360   1.916678   3.249201   5.218608   7.504194   \n",
       "337       0   1.037500   1.283279   1.897726   3.254236   5.229443   7.516643   \n",
       "338       0   1.034148   1.289523   1.899019   3.244053   5.200832   7.497390   \n",
       "339       0   1.054554   1.258223   1.909303   3.252969   5.215351   7.517800   \n",
       "340       0   1.011363   1.266051   1.928892   3.263758   5.220273   7.492129   \n",
       "341       0   1.030817   1.275651   1.908266   3.242276   5.209028   7.491422   \n",
       "342       0   1.037869   1.263333   1.906179   3.256207   5.202658   7.509534   \n",
       "343       0   1.034638   1.269988   1.916551   3.265425   5.200988   7.497773   \n",
       "344       0   1.023067   1.269997   1.904003   3.242030   5.214753   7.502283   \n",
       "345       1   1.032040   1.267460   1.914767   3.261718   5.212478   7.484168   \n",
       "346       0   1.048209   1.271505   1.933528   3.267946   5.190447   7.504928   \n",
       "347       0   1.029800   1.277032   1.899587   3.269870   5.208345   7.489219   \n",
       "348       1   1.040324   1.274694   1.913740   3.265730   5.221081   7.509450   \n",
       "349       0   1.020156   1.269056   1.904951   3.262331   5.211560   7.494804   \n",
       "350       1   1.061034   1.252987   1.897826   3.267765   5.203400   7.482580   \n",
       "351       1   1.011708   1.262689   1.905391   3.257773   5.202513   7.507498   \n",
       "352       0   1.027324   1.277945   1.926042   3.250045   5.207224   7.511637   \n",
       "353       1   1.018347   1.251507   1.901641   3.262826   5.235730   7.492794   \n",
       "354       1   1.034360   1.269948   1.897343   3.235473   5.207361   7.494257   \n",
       "355       1   1.030365   1.265676   1.890194   3.272927   5.222028   7.489242   \n",
       "356       0   1.033790   1.270256   1.913996   3.258187   5.214479   7.501086   \n",
       "357       1   1.034987   1.289588   1.904442   3.267927   5.202383   7.517184   \n",
       "358       0   1.023077   1.259876   1.906041   3.264254   5.200453   7.503934   \n",
       "359       1   1.031842   1.275042   1.887419   3.257020   5.201637   7.470223   \n",
       "360       0   1.026516   1.269180   1.914467   3.265807   5.219505   7.495681   \n",
       "361       1   1.020296   1.271922   1.905220   3.274310   5.208509   7.496427   \n",
       "362       1   1.022065   1.270184   1.917267   3.260013   5.206373   7.499811   \n",
       "363       1   1.025266   1.277220   1.917260   3.244413   5.208347   7.504239   \n",
       "364       0   1.032598   1.264316   1.903876   3.277396   5.212241   7.494429   \n",
       "\n",
       "      Sim >85  \n",
       "0    4.152131  \n",
       "1    4.147552  \n",
       "2    4.145378  \n",
       "3    4.145061  \n",
       "4    4.154643  \n",
       "5    4.142402  \n",
       "6    4.153407  \n",
       "7    4.131645  \n",
       "8    4.134437  \n",
       "9    4.147672  \n",
       "10   4.142809  \n",
       "11   4.148711  \n",
       "12   4.164523  \n",
       "13   4.137316  \n",
       "14   4.158413  \n",
       "15   4.159789  \n",
       "16   4.155043  \n",
       "17   4.148601  \n",
       "18   4.143526  \n",
       "19   4.155537  \n",
       "20   4.157839  \n",
       "21   4.147592  \n",
       "22   4.143265  \n",
       "23   4.164374  \n",
       "24   4.152721  \n",
       "25   4.145429  \n",
       "26   4.161194  \n",
       "27   4.161280  \n",
       "28   4.139938  \n",
       "29   4.133427  \n",
       "..        ...  \n",
       "335  4.148823  \n",
       "336  4.153130  \n",
       "337  4.164881  \n",
       "338  4.150761  \n",
       "339  4.146102  \n",
       "340  4.149247  \n",
       "341  4.158180  \n",
       "342  4.150679  \n",
       "343  4.152726  \n",
       "344  4.157357  \n",
       "345  4.127679  \n",
       "346  4.139490  \n",
       "347  4.140923  \n",
       "348  4.165976  \n",
       "349  4.163252  \n",
       "350  4.158398  \n",
       "351  4.152782  \n",
       "352  4.168111  \n",
       "353  4.134522  \n",
       "354  4.151130  \n",
       "355  4.163420  \n",
       "356  4.148630  \n",
       "357  4.145853  \n",
       "358  4.134453  \n",
       "359  4.137103  \n",
       "360  4.162362  \n",
       "361  4.134447  \n",
       "362  4.157171  \n",
       "363  4.146852  \n",
       "364  4.135772  \n",
       "\n",
       "[365 rows x 8 columns]"
      ]
     },
     "execution_count": 34,
     "metadata": {},
     "output_type": "execute_result"
    }
   ],
   "source": [
    "a"
   ]
  },
  {
   "cell_type": "code",
   "execution_count": 35,
   "metadata": {
    "scrolled": true
   },
   "outputs": [
    {
     "data": {
      "text/plain": [
       "Sim<15        131.000000\n",
       "Sim 15-34     375.963500\n",
       "Sim 35-44     463.474751\n",
       "Sim 45-54     697.168872\n",
       "Sim 55-64    1189.813995\n",
       "Sim 65-74    1901.524396\n",
       "Sim 75-84    2737.657303\n",
       "Sim >85      1514.877384\n",
       "dtype: float64"
      ]
     },
     "execution_count": 35,
     "metadata": {},
     "output_type": "execute_result"
    }
   ],
   "source": [
    "a.sum()"
   ]
  },
  {
   "cell_type": "markdown",
   "metadata": {},
   "source": [
    "#### The research paper stated that mortality rates are higher in women in all age groups but the data was not presented, nor was it broken down into a monthly format between male and female. A simulation of the number of infected persons grouped into  gender and considering the month of infection is detailed below. An easier option would have been to simulate by year but this would not account for the trend shown in infections by month. "
   ]
  },
  {
   "cell_type": "code",
   "execution_count": 36,
   "metadata": {},
   "outputs": [],
   "source": [
    "# Simulated data for daily infection of males and females for the year\n",
    "infection = pd.DataFrame({\"maleInfection\": np.random.binomial(25, .62, 365), \"femaleInfection\": np.random.binomial(25, .38, 365)})\n"
   ]
  },
  {
   "cell_type": "code",
   "execution_count": 37,
   "metadata": {},
   "outputs": [
    {
     "data": {
      "text/plain": [
       "maleInfection      5606\n",
       "femaleInfection    3355\n",
       "dtype: int64"
      ]
     },
     "execution_count": 37,
     "metadata": {},
     "output_type": "execute_result"
    }
   ],
   "source": [
    "infection.sum()"
   ]
  },
  {
   "cell_type": "code",
   "execution_count": 38,
   "metadata": {
    "scrolled": true
   },
   "outputs": [
    {
     "data": {
      "text/html": [
       "<div>\n",
       "<style scoped>\n",
       "    .dataframe tbody tr th:only-of-type {\n",
       "        vertical-align: middle;\n",
       "    }\n",
       "\n",
       "    .dataframe tbody tr th {\n",
       "        vertical-align: top;\n",
       "    }\n",
       "\n",
       "    .dataframe thead th {\n",
       "        text-align: right;\n",
       "    }\n",
       "</style>\n",
       "<table border=\"1\" class=\"dataframe\">\n",
       "  <thead>\n",
       "    <tr style=\"text-align: right;\">\n",
       "      <th></th>\n",
       "      <th>maleInfection</th>\n",
       "      <th>femaleInfection</th>\n",
       "    </tr>\n",
       "  </thead>\n",
       "  <tbody>\n",
       "    <tr>\n",
       "      <th>count</th>\n",
       "      <td>365.000000</td>\n",
       "      <td>365.000000</td>\n",
       "    </tr>\n",
       "    <tr>\n",
       "      <th>mean</th>\n",
       "      <td>15.358904</td>\n",
       "      <td>9.191781</td>\n",
       "    </tr>\n",
       "    <tr>\n",
       "      <th>std</th>\n",
       "      <td>2.516966</td>\n",
       "      <td>2.504159</td>\n",
       "    </tr>\n",
       "    <tr>\n",
       "      <th>min</th>\n",
       "      <td>7.000000</td>\n",
       "      <td>2.000000</td>\n",
       "    </tr>\n",
       "    <tr>\n",
       "      <th>25%</th>\n",
       "      <td>14.000000</td>\n",
       "      <td>8.000000</td>\n",
       "    </tr>\n",
       "    <tr>\n",
       "      <th>50%</th>\n",
       "      <td>15.000000</td>\n",
       "      <td>9.000000</td>\n",
       "    </tr>\n",
       "    <tr>\n",
       "      <th>75%</th>\n",
       "      <td>17.000000</td>\n",
       "      <td>11.000000</td>\n",
       "    </tr>\n",
       "    <tr>\n",
       "      <th>max</th>\n",
       "      <td>23.000000</td>\n",
       "      <td>17.000000</td>\n",
       "    </tr>\n",
       "  </tbody>\n",
       "</table>\n",
       "</div>"
      ],
      "text/plain": [
       "       maleInfection  femaleInfection\n",
       "count     365.000000       365.000000\n",
       "mean       15.358904         9.191781\n",
       "std         2.516966         2.504159\n",
       "min         7.000000         2.000000\n",
       "25%        14.000000         8.000000\n",
       "50%        15.000000         9.000000\n",
       "75%        17.000000        11.000000\n",
       "max        23.000000        17.000000"
      ]
     },
     "execution_count": 38,
     "metadata": {},
     "output_type": "execute_result"
    }
   ],
   "source": [
    "infection.describe()"
   ]
  },
  {
   "cell_type": "code",
   "execution_count": null,
   "metadata": {},
   "outputs": [],
   "source": []
  },
  {
   "cell_type": "code",
   "execution_count": null,
   "metadata": {},
   "outputs": [],
   "source": []
  }
 ],
 "metadata": {
  "kernelspec": {
   "display_name": "Python 3",
   "language": "python",
   "name": "python3"
  },
  "language_info": {
   "codemirror_mode": {
    "name": "ipython",
    "version": 3
   },
   "file_extension": ".py",
   "mimetype": "text/x-python",
   "name": "python",
   "nbconvert_exporter": "python",
   "pygments_lexer": "ipython3",
   "version": "3.6.6"
  }
 },
 "nbformat": 4,
 "nbformat_minor": 2
}
